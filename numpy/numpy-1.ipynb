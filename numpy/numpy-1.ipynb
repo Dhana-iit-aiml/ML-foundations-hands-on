{
 "cells": [
  {
   "cell_type": "code",
   "execution_count": 6,
   "id": "be73cc26",
   "metadata": {},
   "outputs": [
    {
     "name": "stdout",
     "output_type": "stream",
     "text": [
      "<class 'list'>\n",
      "32\n"
     ]
    }
   ],
   "source": [
    "a1 = [1,2,3]\n",
    "b1 = [4,5,6]\n",
    "print (type(a1))\n",
    "sum = 0\n",
    "for i in range( len(a1)):\n",
    "    sum+= a1[i] * b1[i]\n",
    "print(sum)"
   ]
  },
  {
   "cell_type": "code",
   "execution_count": null,
   "id": "f18edb74",
   "metadata": {},
   "outputs": [
    {
     "name": "stdout",
     "output_type": "stream",
     "text": [
      "array a is  : [1 2 3]\n",
      "elemente-wise multiple of array a is  : [2 4 6]\n",
      "2D array c is  : [[1 2 3]\n",
      " [4 5 6]]\n",
      "elemente-wise multiple of 2D array c is  : [[3 4 5]\n",
      " [6 7 8]]\n"
     ]
    },
    {
     "data": {
      "text/plain": [
       "array([[0.        , 0.30103   , 0.47712125],\n",
       "       [0.60205999, 0.69897   , 1.        ]])"
      ]
     },
     "execution_count": 16,
     "metadata": {},
     "output_type": "execute_result"
    }
   ],
   "source": [
    "#elemente-wise Operation\n",
    "import numpy as np\n",
    "a=np.array([1,2,3])\n",
    "b =np.array([4,5,6])\n",
    "c= np.array([[1,2,3],[4,5,6]]) # 2D\n",
    "#elemente-wise multiple\n",
    "print(f\"array a is  : {a}\")\n",
    "a =a*2\n",
    "print(f\"elemente-wise multiple of array a is  : {a}\")\n",
    "\n",
    "#elemente-wise add\n",
    "print(f\"2D array c is  : {c}\")\n",
    "c= c+2\n",
    "print(f\"elemente-wise multiple of 2D array c is  : {c}\")\n",
    "\n",
    "#sqrt\n",
    "a=np.array([1,2,3])\n",
    "np.sqrt(a)\n",
    "#log log1 =0 , log e = 1\n",
    "d= np.array([[1,2,3],[4,5,np.e]]) # 2D\n",
    "np.log(d)\n",
    "#log10  log10 of 10 =1 \n",
    "e= np.array([[1,2,3],[4,5,10]]) # 2D\n",
    "np.log10(e)"
   ]
  },
  {
   "cell_type": "markdown",
   "id": "eb1aa6d6",
   "metadata": {},
   "source": [
    "Reshaping and aggregaton"
   ]
  },
  {
   "cell_type": "code",
   "execution_count": 24,
   "id": "ca1d6e8f",
   "metadata": {},
   "outputs": [
    {
     "name": "stdout",
     "output_type": "stream",
     "text": [
      "(1, 6)\n",
      "Lets Reshape  : [[1 2 3 4 5 6]]\n",
      "Lets take array d  :  [[1 2 3]\n",
      " [4 5 6]]\n",
      "Lets Sum axis=0 column-wise  : \n",
      "[5 7 9]\n",
      "Lets Sum axis=0 column-wise  : \n",
      "[ 6 15]\n",
      "[5 7 9]\n",
      "Lets take Mean axis=0 column-wise  : \n",
      "[2. 5.]\n"
     ]
    }
   ],
   "source": [
    "import numpy as np\n",
    "\n",
    "e = np.array([[1,2,3, 4,5,6]])\n",
    "print(e.shape)\n",
    "print(f\"Lets Reshape  : {e}\")\n",
    "np.reshape(e, (3,2))\n",
    "\n",
    "d = np.array([[1,2,3],[4,5,6]])\n",
    "print(f\"Lets take array d  :  {d}\")\n",
    "print(f\"Lets Sum axis=0 column-wise  : \")\n",
    "print(np.sum(d, axis=0))\n",
    "print(f\"Lets Sum axis=0 column-wise  : \")\n",
    "print(np.sum(d, axis=1))\n",
    "print(np.sum(d, axis=0))\n",
    "print(f\"Lets take Mean axis=0 column-wise  : \")\n",
    "print(np.mean(d, axis=1))"
   ]
  }
 ],
 "metadata": {
  "kernelspec": {
   "display_name": "Python 3",
   "language": "python",
   "name": "python3"
  },
  "language_info": {
   "codemirror_mode": {
    "name": "ipython",
    "version": 3
   },
   "file_extension": ".py",
   "mimetype": "text/x-python",
   "name": "python",
   "nbconvert_exporter": "python",
   "pygments_lexer": "ipython3",
   "version": "3.13.2"
  }
 },
 "nbformat": 4,
 "nbformat_minor": 5
}
