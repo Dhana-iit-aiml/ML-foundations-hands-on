{
 "cells": [
  {
   "cell_type": "code",
   "execution_count": null,
   "id": "1e456328",
   "metadata": {},
   "outputs": [
    {
     "name": "stdout",
     "output_type": "stream",
     "text": [
      "<class 'pandas.core.frame.DataFrame'>\n",
      "Index(['sepal_length', 'sepal_width', 'petal_length', 'petal_width',\n",
      "       'species'],\n",
      "      dtype='object')\n",
      "     petal_length    species\n",
      "0             1.4     setosa\n",
      "1             1.4     setosa\n",
      "2             1.3     setosa\n",
      "3             1.5     setosa\n",
      "4             1.4     setosa\n",
      "..            ...        ...\n",
      "145           5.2  virginica\n",
      "146           5.0  virginica\n",
      "147           5.2  virginica\n",
      "148           5.4  virginica\n",
      "149           5.1  virginica\n",
      "\n",
      "[150 rows x 2 columns]\n"
     ]
    }
   ],
   "source": [
    "import pandas as pd\n",
    "\n",
    "iris_csv_df = pd.read_csv('https://raw.githubusercontent.com/mwaskom/seaborn-data/master/iris.csv')\n",
    "print(type(iris_csv_df))\n",
    "\n",
    "print(iris_csv_df.columns)\n",
    "#['sepal_length', 'sepal_width', 'petal_length', 'petal_width','species']\n",
    "iris_csv_df.head()\n",
    "iris_csv_df.tail()\n",
    "# Describe -  you get summary stats - mean, count, std, min, max, 25%, 50%, 75%\n",
    "iris_csv_df.describe() \n",
    "#print(iris_csv_df.info())\n",
    "\n",
    "#partial selection\n",
    "print(iris_csv_df[['petal_length','species']])\n",
    "\n"
   ]
  },
  {
   "cell_type": "code",
   "execution_count": null,
   "id": "5cec6acc",
   "metadata": {},
   "outputs": [],
   "source": [
    "# iloc - rowwise selection\n",
    "print(iris_csv_df.head(1))\n",
    "#print(iris_csv_df.head(1))\n",
    "print(iris_csv_df.iloc[0]) # = iris_csv_df.head(1), first rec\n",
    "#follows index 0 to 3 row/records\n",
    "print(iris_csv_df.iloc[0:3]) \n",
    "#print(iris_csv_df.iloc[0:3]['species']) \n"
   ]
  },
  {
   "cell_type": "code",
   "execution_count": null,
   "id": "39234292",
   "metadata": {},
   "outputs": [],
   "source": [
    "#ilov vs loc \n",
    "#loc - label based indexing/position - select rows based on labels\n",
    "\n",
    "import pandas as pd\n",
    "\n",
    "df = pd.DataFrame({\n",
    "    'Name': ['Alice', 'Bob', 'Charlie'],\n",
    "    'Age': [25, 30, 35]\n",
    "}, index=['a', 'b', 'c'])\n",
    "\n",
    "#print(df.iloc[0])       # Row at position 0\n",
    "#print(df.loc['a'])   \n",
    "print(\"iloc : index....\")\n",
    "print(df.iloc[0])   \n",
    "print(\"loc : label...\")\n",
    "print(df.loc['a' : 'b'])   \n"
   ]
  },
  {
   "cell_type": "code",
   "execution_count": null,
   "id": "adf0e4ae",
   "metadata": {},
   "outputs": [],
   "source": [
    "#Conditional filtering\n",
    "\n",
    "print(iris_csv_df[ (iris_csv_df['sepal_length']> 5) &  (iris_csv_df['species']=='setosa') & ( iris_csv_df['sepal_width'] >= 4.2)])\n",
    "\n",
    "#Column Operations - adding new columns\n",
    "iris_csv_df['sepal_ratio'] = iris_csv_df['sepal_length']/iris_csv_df['sepal_width']\n",
    "#check sepal_ratio is added\n",
    "print(iris_csv_df.head())"
   ]
  },
  {
   "cell_type": "code",
   "execution_count": 62,
   "id": "579acef3",
   "metadata": {},
   "outputs": [
    {
     "name": "stdout",
     "output_type": "stream",
     "text": [
      "sepal_length    0\n",
      "sepal_width     0\n",
      "petal_length    0\n",
      "petal_width     0\n",
      "species         0\n",
      "sepal_ratio     0\n",
      "dtype: int64\n",
      "             mean  min  max    sum\n",
      "species                           \n",
      "setosa      3.428  2.3  4.4  171.4\n",
      "versicolor  2.770  2.0  3.4  138.5\n",
      "virginica   2.974  2.2  3.8  148.7\n"
     ]
    }
   ],
   "source": [
    "#Null checks\n",
    "print(iris_csv_df.isnull().sum())\n",
    "#grouping\n",
    "iris_csv_df.groupby(\"species\").agg('sum')\n",
    "print(iris_csv_df.groupby('species')['sepal_width'].agg(['mean','min','max', 'sum']))\n",
    "\n"
   ]
  },
  {
   "cell_type": "code",
   "execution_count": 63,
   "id": "ea05cce9",
   "metadata": {},
   "outputs": [
    {
     "name": "stdout",
     "output_type": "stream",
     "text": [
      "     sepal_length  sepal_width  petal_length  petal_width    species  \\\n",
      "131           7.9          3.8           6.4          2.0  virginica   \n",
      "122           7.7          2.8           6.7          2.0  virginica   \n",
      "118           7.7          2.6           6.9          2.3  virginica   \n",
      "117           7.7          3.8           6.7          2.2  virginica   \n",
      "135           7.7          3.0           6.1          2.3  virginica   \n",
      "..            ...          ...           ...          ...        ...   \n",
      "41            4.5          2.3           1.3          0.3     setosa   \n",
      "42            4.4          3.2           1.3          0.2     setosa   \n",
      "8             4.4          2.9           1.4          0.2     setosa   \n",
      "38            4.4          3.0           1.3          0.2     setosa   \n",
      "13            4.3          3.0           1.1          0.1     setosa   \n",
      "\n",
      "     sepal_ratio  \n",
      "131     2.078947  \n",
      "122     2.750000  \n",
      "118     2.961538  \n",
      "117     2.026316  \n",
      "135     2.566667  \n",
      "..           ...  \n",
      "41      1.956522  \n",
      "42      1.375000  \n",
      "8       1.517241  \n",
      "38      1.466667  \n",
      "13      1.433333  \n",
      "\n",
      "[150 rows x 6 columns]\n"
     ]
    }
   ],
   "source": [
    "#Sort\n",
    "print(iris_csv_df.sort_values(by='sepal_length', ascending=False))"
   ]
  },
  {
   "cell_type": "code",
   "execution_count": 70,
   "id": "d31986d6",
   "metadata": {},
   "outputs": [
    {
     "name": "stdout",
     "output_type": "stream",
     "text": [
      "   id    Name  score\n",
      "0   1   Dhana     70\n",
      "1   2    raju     80\n",
      "2   3  shekar    100\n"
     ]
    }
   ],
   "source": [
    "# Merge tables/Dfs\n",
    "df1 = pd.DataFrame({'id' : [1,2,3], 'Name': ['Dhana','raju','shekar']})\n",
    "df2 = pd.DataFrame({'id' : [1,2,3], 'score': [70, 80, 100]})\n",
    "\n",
    "print(pd.merge(df1, df2, on='id'))\n"
   ]
  },
  {
   "cell_type": "code",
   "execution_count": null,
   "id": "82bfed1f",
   "metadata": {},
   "outputs": [
    {
     "name": "stdout",
     "output_type": "stream",
     "text": [
      "   id    Name\n",
      "0   1   Dhana\n",
      "1   2    raju\n",
      "2   3  shekar\n",
      "0   4     dev\n",
      "1   5   kiran\n",
      "2   6    sumi\n",
      "index are duplicated, so removing : \n",
      "   id    Name\n",
      "0   1   Dhana\n",
      "1   2    raju\n",
      "2   3  shekar\n",
      "3   4     dev\n",
      "4   5   kiran\n",
      "5   6    sumi\n"
     ]
    }
   ],
   "source": [
    "# concat tables/Dfs\n",
    "df3 = pd.DataFrame({'id' : [1,2,3], 'Name': ['Dhana','raju','shekar']})\n",
    "df4 = pd.DataFrame({'id' : [4,5,6], 'Name': ['dev','kiran','sumi']})\n",
    "print(pd.concat([df3, df4]))\n",
    "# ignore index\n",
    "print(\"index are duplicated, so removing to make unique: \")\n",
    "print(pd.concat([df3, df4], ignore_index=True))"
   ]
  }
 ],
 "metadata": {
  "kernelspec": {
   "display_name": "Python 3",
   "language": "python",
   "name": "python3"
  },
  "language_info": {
   "codemirror_mode": {
    "name": "ipython",
    "version": 3
   },
   "file_extension": ".py",
   "mimetype": "text/x-python",
   "name": "python",
   "nbconvert_exporter": "python",
   "pygments_lexer": "ipython3",
   "version": "3.13.2"
  }
 },
 "nbformat": 4,
 "nbformat_minor": 5
}
