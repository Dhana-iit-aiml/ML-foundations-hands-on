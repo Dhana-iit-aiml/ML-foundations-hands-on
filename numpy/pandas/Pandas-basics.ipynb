{
 "cells": [
  {
   "cell_type": "markdown",
   "id": "f6b90755",
   "metadata": {},
   "source": [
    "What is a series\n",
    "A series - 1-dimensional labeled array\n",
    "Can hold any datatype - integers, floats, strings, python objects\n",
    "Ex: single column of excel sheet\n",
    "\n"
   ]
  },
  {
   "cell_type": "code",
   "execution_count": 1,
   "id": "ad904ebc",
   "metadata": {},
   "outputs": [
    {
     "name": "stdout",
     "output_type": "stream",
     "text": [
      "100\n",
      "80\n",
      "Dhana\n"
     ]
    },
    {
     "name": "stderr",
     "output_type": "stream",
     "text": [
      "C:\\Users\\dhana\\AppData\\Local\\Temp\\ipykernel_41784\\4035104988.py:6: FutureWarning: Series.__getitem__ treating keys as positions is deprecated. In a future version, integer keys will always be treated as labels (consistent with DataFrame behavior). To access a value by position, use `ser.iloc[pos]`\n",
      "  print(pd_series1[2]) #deprecated\n"
     ]
    }
   ],
   "source": [
    "\n",
    "import pandas as pd\n",
    "# Series from List\n",
    "pd_series1 = pd.Series([100,90,80], index=['Math', 'science', 'social'])\n",
    "print(pd_series1['Math'])\n",
    "#100\n",
    "print(pd_series1[2]) #deprecated\n",
    "\n",
    "pd_df1 = pd.DataFrame({\n",
    "'student_name' : ['Dhana','Sankar'],\n",
    "'math' : [75,85],\n",
    "'science' : [80,90],\n",
    "'social' : [94,64]\n",
    "\n",
    "})\n",
    "\n",
    "print(pd_df1['student_name'][0])\n",
    "#100\n",
    "#80\n",
    "#Dhana"
   ]
  },
  {
   "cell_type": "code",
   "execution_count": null,
   "id": "c02b018a",
   "metadata": {},
   "outputs": [],
   "source": [
    "# Series from Dictionary\n",
    "dict= {'Math': 98, 'Science': 99, 'CS' : 78, 'AI': 99}\n",
    "series1 = pd.Series(dict)\n",
    "print(series1)\n",
    "series2 = pd.Series([10,20,30,40])\n",
    "series_mul = series2 * 4\n",
    "print(series_mul)\n",
    "series_add = series_mul + 5\n",
    "print(series_add)\n",
    "print(f\"Mean :  {series_add.mean()}\")"
   ]
  },
  {
   "cell_type": "markdown",
   "id": "b2618b67",
   "metadata": {},
   "source": [
    "#Dataframe\n",
    "\n"
   ]
  },
  {
   "cell_type": "code",
   "execution_count": 16,
   "id": "39b5b2ad",
   "metadata": {},
   "outputs": [
    {
     "name": "stdout",
     "output_type": "stream",
     "text": [
      "0     Dhana\n",
      "1    shekar\n",
      "2      raju\n",
      "Name: Name, dtype: object\n",
      "<class 'pandas.core.series.Series'>\n",
      "raju\n"
     ]
    }
   ],
   "source": [
    "dict1 = {\n",
    "    'Name' : ['Dhana', 'shekar', 'raju'],\n",
    "    'City': ['bangalore','chennai','kottayam'],\n",
    "    'Height' : [170, 168, 171]\n",
    "}\n",
    "df1 = pd.DataFrame(dict1)\n",
    "print(df1['Name'])\n",
    "print( type(df1['Name'])) #Series\n",
    "print( df1['Name'][2]) "
   ]
  }
 ],
 "metadata": {
  "kernelspec": {
   "display_name": "Python 3",
   "language": "python",
   "name": "python3"
  },
  "language_info": {
   "codemirror_mode": {
    "name": "ipython",
    "version": 3
   },
   "file_extension": ".py",
   "mimetype": "text/x-python",
   "name": "python",
   "nbconvert_exporter": "python",
   "pygments_lexer": "ipython3",
   "version": "3.13.2"
  }
 },
 "nbformat": 4,
 "nbformat_minor": 5
}
