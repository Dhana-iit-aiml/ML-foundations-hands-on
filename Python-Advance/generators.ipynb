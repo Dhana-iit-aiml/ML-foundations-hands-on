{
 "cells": [
  {
   "cell_type": "markdown",
   "metadata": {},
   "source": [
    "GENERATORS\n",
    "\n",
    "Generators are a simpler way to create iterators.They use the yield keyword to produce a series of values lazily which means they generate values on the fly\n",
    "and do not store them in memory"
   ]
  },
  {
   "cell_type": "code",
   "execution_count": 1,
   "metadata": {},
   "outputs": [],
   "source": [
    "def square(n):\n",
    "    for i in range(n):\n",
    "        return i**2 \n",
    "    \n"
   ]
  },
  {
   "cell_type": "code",
   "execution_count": 2,
   "metadata": {},
   "outputs": [
    {
     "data": {
      "text/plain": [
       "0"
      ]
     },
     "execution_count": 2,
     "metadata": {},
     "output_type": "execute_result"
    }
   ],
   "source": [
    "square(3)"
   ]
  },
  {
   "cell_type": "markdown",
   "metadata": {},
   "source": [
    "It just returning 0,but i want to iterate through all the elements"
   ]
  },
  {
   "cell_type": "code",
   "execution_count": 3,
   "metadata": {},
   "outputs": [],
   "source": [
    "#simply if i use yield keyword it creates a local variable and saves values also\n",
    "def square(n):\n",
    "    for i in range(n):\n",
    "        yield i**2 \n",
    "    \n"
   ]
  },
  {
   "cell_type": "code",
   "execution_count": 4,
   "metadata": {},
   "outputs": [
    {
     "data": {
      "text/plain": [
       "<generator object square at 0x00000274DFCF0510>"
      ]
     },
     "execution_count": 4,
     "metadata": {},
     "output_type": "execute_result"
    }
   ],
   "source": [
    "square(3)"
   ]
  },
  {
   "cell_type": "code",
   "execution_count": 6,
   "metadata": {},
   "outputs": [
    {
     "data": {
      "text/plain": [
       "[0, 1, 4]"
      ]
     },
     "execution_count": 6,
     "metadata": {},
     "output_type": "execute_result"
    }
   ],
   "source": [
    "list(square(3))"
   ]
  },
  {
   "cell_type": "code",
   "execution_count": 5,
   "metadata": {},
   "outputs": [
    {
     "name": "stdout",
     "output_type": "stream",
     "text": [
      "0\n",
      "1\n",
      "4\n"
     ]
    }
   ],
   "source": [
    "for i in square(3):\n",
    "    print(i)"
   ]
  },
  {
   "cell_type": "code",
   "execution_count": 7,
   "metadata": {},
   "outputs": [
    {
     "data": {
      "text/plain": [
       "<generator object square at 0x00000274DFD0C200>"
      ]
     },
     "execution_count": 7,
     "metadata": {},
     "output_type": "execute_result"
    }
   ],
   "source": [
    "#Another way accessing using iter \n",
    "a=square(3)\n",
    "a"
   ]
  },
  {
   "cell_type": "code",
   "execution_count": 11,
   "metadata": {},
   "outputs": [
    {
     "data": {
      "text/plain": [
       "4"
      ]
     },
     "execution_count": 11,
     "metadata": {},
     "output_type": "execute_result"
    }
   ],
   "source": [
    "next(a)"
   ]
  },
  {
   "cell_type": "code",
   "execution_count": 22,
   "metadata": {},
   "outputs": [],
   "source": [
    "#Iterating through multiple yields\n",
    "def generator():\n",
    "    yield 1\n",
    "    yield 2\n",
    "    yield 3\n",
    "    "
   ]
  },
  {
   "cell_type": "code",
   "execution_count": 23,
   "metadata": {},
   "outputs": [
    {
     "data": {
      "text/plain": [
       "<generator object generator at 0x00000274E11321F0>"
      ]
     },
     "execution_count": 23,
     "metadata": {},
     "output_type": "execute_result"
    }
   ],
   "source": [
    "gen=generator()\n",
    "gen"
   ]
  },
  {
   "cell_type": "code",
   "execution_count": 17,
   "metadata": {},
   "outputs": [
    {
     "ename": "StopIteration",
     "evalue": "",
     "output_type": "error",
     "traceback": [
      "\u001b[1;31m---------------------------------------------------------------------------\u001b[0m",
      "\u001b[1;31mStopIteration\u001b[0m                             Traceback (most recent call last)",
      "Cell \u001b[1;32mIn[17], line 1\u001b[0m\n\u001b[1;32m----> 1\u001b[0m \u001b[38;5;28;43mnext\u001b[39;49m\u001b[43m(\u001b[49m\u001b[43mgen\u001b[49m\u001b[43m)\u001b[49m\n",
      "\u001b[1;31mStopIteration\u001b[0m: "
     ]
    }
   ],
   "source": [
    "next(gen)"
   ]
  },
  {
   "cell_type": "code",
   "execution_count": 24,
   "metadata": {},
   "outputs": [
    {
     "name": "stdout",
     "output_type": "stream",
     "text": [
      "1\n",
      "2\n",
      "3\n"
     ]
    }
   ],
   "source": [
    "for val in gen:\n",
    "    print(val)"
   ]
  },
  {
   "cell_type": "markdown",
   "metadata": {},
   "source": [
    "Practical Example for generators: \n",
    "\n",
    "Reading large files\n",
    "because they allow you to process one line \n",
    "at a time without loading entire file into memory"
   ]
  },
  {
   "cell_type": "code",
   "execution_count": 25,
   "metadata": {},
   "outputs": [],
   "source": [
    "def read_Large_File(file_path):\n",
    "    with open(file_path,mode='r') as file:\n",
    "        for line in file:\n",
    "            yield line"
   ]
  },
  {
   "cell_type": "code",
   "execution_count": 59,
   "metadata": {},
   "outputs": [
    {
     "data": {
      "text/plain": [
       "<generator object read_Large_File at 0x00000274E118B7D0>"
      ]
     },
     "execution_count": 59,
     "metadata": {},
     "output_type": "execute_result"
    }
   ],
   "source": [
    "line_by_line=read_Large_File(\"largefile.txt\")\n",
    "line_by_line"
   ]
  },
  {
   "cell_type": "markdown",
   "metadata": {},
   "source": [
    "By default, the strip() method in Python removes \n",
    "the following characters from both the beginning and the end of a string:\n",
    "\n",
    "Spaces (' ')\n",
    "Tabs ('\\t')\n",
    "Newline characters ('\\n')\n",
    "Carriage returns ('\\r')\n",
    "Form feeds ('\\f')\n",
    "Vertical tabs ('\\v')"
   ]
  },
  {
   "cell_type": "code",
   "execution_count": 62,
   "metadata": {},
   "outputs": [
    {
     "name": "stdout",
     "output_type": "stream",
     "text": [
      "Love seems to be a key desire that most humans seek. In fact, I believe a lot of people might even say love is the single most important human LIFE experience. Which then leads me to the next question. What is life? I think the answer to this question is very important in truly understanding the meaning of love, as love happens in the context of life.\n"
     ]
    }
   ],
   "source": [
    "a=next(line_by_line)\n",
    "if a:\n",
    "    print(a.strip())"
   ]
  },
  {
   "cell_type": "code",
   "execution_count": 33,
   "metadata": {},
   "outputs": [
    {
     "name": "stdout",
     "output_type": "stream",
     "text": [
      "What is Love?\n",
      "\n",
      "Love seems to be a key desire that most humans seek. In fact, I believe a lot of people might even say love is the single most important human LIFE experience. Which then leads me to the next question. What is life? I think the answer to this question is very important in truly understanding the meaning of love, as love happens in the context of life.\n",
      "\n",
      "So again, I ask, what is life?\n",
      "\n",
      "On the surface, this question seems to have an obvious answer. Isn’t life what separates humans from rocks and sticks? Sure, that’s a true definition of life. But my intention when I asked this question was to prompt for the meaning of the journey of Life as opposed to life as a state of being.\n",
      "\n",
      "On that note, for me a definition of life that concisely explains what this experience is from a human perspective is the definition that defines life as a dream (“life is nothing but a dream”) and it is this definition of life that I’ll like to use as the context to better understand what love is.\n",
      "\n",
      "So, life is a dream, however we don’t all have the same expectations out of life. We all have different things we want to achieve in this journey called life. In that case everyone has different visions of what they want manifested in their dream.\n",
      "\n",
      "Now if life is a dream, then love must be something that allows/supports/assists/enables that dream to manifest itself as a pleasant/enjoyable dream as opposed to a dream that’s leaning towards being a nightmare.\n",
      "This definition of love is crucial as I don’t believe most people have ever sat down to truly understand the meaning of Love including myself. I feel like the word love is used freely. But has different meaning to the person that says it and the person who it is said to.\n",
      "\n",
      "I feel when most people say I love you, what they are saying is that they value the contribution (or the potential contribution) that the person they are saying it to, adds to helping them realise a pleasant and fulfilled dream and this is crucial as the person being told that they are loved could be mistaken to think that the person telling them this, is willing to do anything to make them have a fulfilled and pleasant dream.\n",
      "\n",
      "OK, maybe not do anything, I guess that will be the difference between unconditional love and love.\n",
      "Could this be the reason why a man/woman can say they love their partner and then turn around and beat the partner black and blue?\n",
      "\n",
      "The none selfish version of love must be very difficult to come by. I guess that’s why a lot of people spend a lifetime searching for love and never finding it.\n",
      "\n",
      "With this definition of love, it must be true what some people say that the Hollywood version of love at first site is not only misleading it is impossible or at least close to being impossible. It will only be possible if at least one of the parties involved has zero expectation out of life other than having a partner with a specific look or by the draw of luck they coincidentally want the same thing or complimentary things out of life.\n",
      "\n",
      "Another impossibility (or close to being impossible) is someone expecting to be loved when the person themselves don’t yet know what they want from life yet, or, there is a possibility that the person could change their mind about what they want from life.\n",
      "\n",
      "As you might have been able to figure out now, real love is a beautiful thing, if you are very, very lucky to find someone that shows you real love, you have to grab it with both hands as this is a rarity.\n",
      "If you’ve ever shown someone real love and you were rejected then that person was not deserving of your love and must have never fully appreciated the value that you added to their life. A partner that’s confident of the value they are adding to your life should be secure in their role in your life.\n",
      "\n",
      "Life is a dream, and finding someone that wants to come on that journey with you in order to help make that dream fulfilled and pleasant is a blessing.\n",
      "\n",
      "Now, that you have this view of love, do you still think choosing a partner on the basis of looks, wealth etc is an ideal means of choosing a life partner? And when you finally find love what are you willing to give back in return? Bear in mind that we live in a world where it is acceptable to capitalise on the misfortune of others and a lot of people want to get something for nothing. What I’m trying to say is that, it’s important for you to know that there are people out there that will want to take advantage of your desire to find love or your lack of knowledge of knowing what real love is. So, when you find love, don’t forget the golden rule: “Treat others how you like to be treated” (Luke 6:31/ Hadith 13th of Anawawi)\n",
      "\n",
      "Note, the type of love described here is the love between two partners not for example the love between a parent and a child as the child didn’t ask to be there. But I’m sure you can figure out what shape the love between a child and a parent should take. As they say in parts of Nigeria, abo oro lan so fun omoluwabi toba de inu e a di ondin din (not everything has to be spelt out). You can even extrapolate this definition of love to better understand the shape of other types of real love e.g., the love between a government and its people or even the love between a religious leader and its followers.\n",
      "\n",
      "Wish I knew all these things I only recently knew about love when I was younger (and I’m in my mid 40s). Hopefully, you now know the true nature of real love.\n"
     ]
    }
   ],
   "source": [
    "for line in read_Large_File(\"largefile.txt\"):\n",
    "    print(line.strip())"
   ]
  },
  {
   "cell_type": "code",
   "execution_count": null,
   "metadata": {},
   "outputs": [],
   "source": []
  }
 ],
 "metadata": {
  "kernelspec": {
   "display_name": "Python 3",
   "language": "python",
   "name": "python3"
  },
  "language_info": {
   "codemirror_mode": {
    "name": "ipython",
    "version": 3
   },
   "file_extension": ".py",
   "mimetype": "text/x-python",
   "name": "python",
   "nbconvert_exporter": "python",
   "pygments_lexer": "ipython3",
   "version": "3.10.14"
  }
 },
 "nbformat": 4,
 "nbformat_minor": 2
}
