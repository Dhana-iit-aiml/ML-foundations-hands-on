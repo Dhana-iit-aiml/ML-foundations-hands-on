{
 "cells": [
  {
   "cell_type": "code",
   "execution_count": 247,
   "id": "9d18a715",
   "metadata": {},
   "outputs": [
    {
     "data": {
      "text/html": [
       "<div>\n",
       "<style scoped>\n",
       "    .dataframe tbody tr th:only-of-type {\n",
       "        vertical-align: middle;\n",
       "    }\n",
       "\n",
       "    .dataframe tbody tr th {\n",
       "        vertical-align: top;\n",
       "    }\n",
       "\n",
       "    .dataframe thead th {\n",
       "        text-align: right;\n",
       "    }\n",
       "</style>\n",
       "<table border=\"1\" class=\"dataframe\">\n",
       "  <thead>\n",
       "    <tr style=\"text-align: right;\">\n",
       "      <th></th>\n",
       "      <th>InvoiceNo</th>\n",
       "      <th>StockCode</th>\n",
       "      <th>Description</th>\n",
       "      <th>Quantity</th>\n",
       "      <th>InvoiceDate</th>\n",
       "      <th>UnitPrice</th>\n",
       "      <th>CustomerID</th>\n",
       "      <th>Country</th>\n",
       "    </tr>\n",
       "  </thead>\n",
       "  <tbody>\n",
       "    <tr>\n",
       "      <th>0</th>\n",
       "      <td>536527</td>\n",
       "      <td>22809</td>\n",
       "      <td>SET OF 6 T-LIGHTS SANTA</td>\n",
       "      <td>6</td>\n",
       "      <td>01-12-2010 13:04</td>\n",
       "      <td>2.95</td>\n",
       "      <td>12662</td>\n",
       "      <td>Germany</td>\n",
       "    </tr>\n",
       "    <tr>\n",
       "      <th>1</th>\n",
       "      <td>536527</td>\n",
       "      <td>84347</td>\n",
       "      <td>ROTATING SILVER ANGELS T-LIGHT HLDR</td>\n",
       "      <td>6</td>\n",
       "      <td>01-12-2010 13:04</td>\n",
       "      <td>2.55</td>\n",
       "      <td>12662</td>\n",
       "      <td>Germany</td>\n",
       "    </tr>\n",
       "    <tr>\n",
       "      <th>2</th>\n",
       "      <td>536527</td>\n",
       "      <td>84945</td>\n",
       "      <td>MULTI COLOUR SILVER T-LIGHT HOLDER</td>\n",
       "      <td>12</td>\n",
       "      <td>01-12-2010 13:04</td>\n",
       "      <td>0.85</td>\n",
       "      <td>12662</td>\n",
       "      <td>Germany</td>\n",
       "    </tr>\n",
       "    <tr>\n",
       "      <th>3</th>\n",
       "      <td>536527</td>\n",
       "      <td>22242</td>\n",
       "      <td>5 HOOK HANGER MAGIC TOADSTOOL</td>\n",
       "      <td>12</td>\n",
       "      <td>01-12-2010 13:04</td>\n",
       "      <td>1.65</td>\n",
       "      <td>12662</td>\n",
       "      <td>Germany</td>\n",
       "    </tr>\n",
       "    <tr>\n",
       "      <th>4</th>\n",
       "      <td>536527</td>\n",
       "      <td>22244</td>\n",
       "      <td>3 HOOK HANGER MAGIC GARDEN</td>\n",
       "      <td>12</td>\n",
       "      <td>01-12-2010 13:04</td>\n",
       "      <td>1.95</td>\n",
       "      <td>12662</td>\n",
       "      <td>Germany</td>\n",
       "    </tr>\n",
       "  </tbody>\n",
       "</table>\n",
       "</div>"
      ],
      "text/plain": [
       "  InvoiceNo StockCode                          Description  Quantity  \\\n",
       "0    536527     22809              SET OF 6 T-LIGHTS SANTA         6   \n",
       "1    536527     84347  ROTATING SILVER ANGELS T-LIGHT HLDR         6   \n",
       "2    536527     84945   MULTI COLOUR SILVER T-LIGHT HOLDER        12   \n",
       "3    536527     22242        5 HOOK HANGER MAGIC TOADSTOOL        12   \n",
       "4    536527     22244           3 HOOK HANGER MAGIC GARDEN        12   \n",
       "\n",
       "        InvoiceDate  UnitPrice  CustomerID  Country  \n",
       "0  01-12-2010 13:04       2.95       12662  Germany  \n",
       "1  01-12-2010 13:04       2.55       12662  Germany  \n",
       "2  01-12-2010 13:04       0.85       12662  Germany  \n",
       "3  01-12-2010 13:04       1.65       12662  Germany  \n",
       "4  01-12-2010 13:04       1.95       12662  Germany  "
      ]
     },
     "execution_count": 247,
     "metadata": {},
     "output_type": "execute_result"
    }
   ],
   "source": [
    "import pandas as pd\n",
    "\n",
    "# 6. Sales Load the csv data  via panda as Dataframe\n",
    "sales_df = pd.read_csv(\"sales.csv\")\n",
    "# Analyse and view sample data\n",
    "sales_df.head()\n"
   ]
  },
  {
   "cell_type": "code",
   "execution_count": 248,
   "id": "7bc48db4",
   "metadata": {},
   "outputs": [
    {
     "name": "stdout",
     "output_type": "stream",
     "text": [
      "0\n",
      "Empty DataFrame\n",
      "Columns: [InvoiceNo, StockCode, Description, Quantity, InvoiceDate, UnitPrice, CustomerID, Country]\n",
      "Index: []\n",
      "<class 'pandas.core.frame.DataFrame'>\n",
      "RangeIndex: 9495 entries, 0 to 9494\n",
      "Data columns (total 8 columns):\n",
      " #   Column       Non-Null Count  Dtype  \n",
      "---  ------       --------------  -----  \n",
      " 0   InvoiceNo    9495 non-null   object \n",
      " 1   StockCode    9495 non-null   object \n",
      " 2   Description  9495 non-null   object \n",
      " 3   Quantity     9495 non-null   int64  \n",
      " 4   InvoiceDate  9495 non-null   object \n",
      " 5   UnitPrice    9495 non-null   float64\n",
      " 6   CustomerID   9495 non-null   int64  \n",
      " 7   Country      9495 non-null   object \n",
      "dtypes: float64(1), int64(2), object(5)\n",
      "memory usage: 593.6+ KB\n"
     ]
    }
   ],
   "source": [
    "# 6.1 Sales - missing value in each column\n",
    "print(sales_df.isnull().sum().sum()) #pd.isnull(sales_df).sum() # or #\n",
    "# Inference : No missing value found\n",
    "sales_df.describe()\n",
    "# Row wise missing value checking\n",
    "print(sales_df[sales_df.isnull().any(axis=1)])\n",
    "# 6.2 Datatype checks\n",
    "sales_df.info()"
   ]
  },
  {
   "cell_type": "code",
   "execution_count": 249,
   "id": "9e88c699",
   "metadata": {},
   "outputs": [
    {
     "name": "stdout",
     "output_type": "stream",
     "text": [
      "\n",
      " Sales - Duplicate Recordss :  15\n",
      "\n",
      " Duplicate Recordss : \n",
      "     InvoiceNo StockCode                          Description  Quantity  \\\n",
      "292     538174     22326  ROUND SNACK BOXES SET OF4 WOODLAND         12   \n",
      "1132    542106     20676                   RED RETROSPOT BOWL        24   \n",
      "3232    553731     23208        LUNCH BAG VINTAGE LEAF DESIGN        10   \n",
      "3626    555162     22704                     WRAP RED APPLES         25   \n",
      "3744    555383     21828               EIGHT PIECE SNAKE  SET         2   \n",
      "3748    555383     22668                    PINK BABY BUNTING         5   \n",
      "5969    565430     22375    AIRLINE BAG VINTAGE JET SET BROWN         1   \n",
      "5984    565430     22725       ALARM CLOCK BAKELIKE CHOCOLATE         2   \n",
      "7023    570007     20676                   RED RETROSPOT BOWL         8   \n",
      "8280    575886     21354                 TOAST ITS - BEST MUM         1   \n",
      "8281    575886     21355              TOAST ITS - I LOVE YOU          1   \n",
      "8306    575886     22059        CERAMIC STRAWBERRY DESIGN MUG         1   \n",
      "8425    576607     22086      PAPER CHAIN KIT 50'S CHRISTMAS          6   \n",
      "8430    576607     22940            FELTCRAFT CHRISTMAS FAIRY         8   \n",
      "8830    578273     22554     PLASTERS IN TIN WOODLAND ANIMALS         1   \n",
      "\n",
      "           InvoiceDate  UnitPrice  CustomerID  Country  \n",
      "292   10-12-2010 09:35       2.95       12471  Germany  \n",
      "1132  25-01-2011 13:37       1.25       12709  Germany  \n",
      "3232  19-05-2011 08:26       1.65       12481  Germany  \n",
      "3626  01-06-2011 10:15       0.42       12473  Germany  \n",
      "3744  02-06-2011 15:13       1.25       12517  Germany  \n",
      "3748  02-06-2011 15:13       2.95       12517  Germany  \n",
      "5969  04-09-2011 13:07       4.25       14335  Germany  \n",
      "5984  04-09-2011 13:07       3.75       14335  Germany  \n",
      "7023  07-10-2011 09:26       1.25       12519  Germany  \n",
      "8280  11-11-2011 13:57       1.25       12517  Germany  \n",
      "8281  11-11-2011 13:57       1.25       12517  Germany  \n",
      "8306  11-11-2011 13:57       1.49       12517  Germany  \n",
      "8425  15-11-2011 15:42       2.95       12474  Germany  \n",
      "8430  15-11-2011 15:42       4.25       12474  Germany  \n",
      "8830  23-11-2011 13:41       1.65       14335  Germany  \n",
      "\n",
      " Sales : Number of Duplicates: 15\n",
      "<class 'pandas.core.frame.DataFrame'>\n",
      "RangeIndex: 9480 entries, 0 to 9479\n",
      "Data columns (total 9 columns):\n",
      " #   Column       Non-Null Count  Dtype  \n",
      "---  ------       --------------  -----  \n",
      " 0   index        9480 non-null   int64  \n",
      " 1   InvoiceNo    9480 non-null   object \n",
      " 2   StockCode    9480 non-null   object \n",
      " 3   Description  9480 non-null   object \n",
      " 4   Quantity     9480 non-null   int64  \n",
      " 5   InvoiceDate  9480 non-null   object \n",
      " 6   UnitPrice    9480 non-null   float64\n",
      " 7   CustomerID   9480 non-null   int64  \n",
      " 8   Country      9480 non-null   object \n",
      "dtypes: float64(1), int64(3), object(5)\n",
      "memory usage: 666.7+ KB\n"
     ]
    }
   ],
   "source": [
    "# 6.3 Sales Identify and show duplicate rows\n",
    "\n",
    "print(\"\\n Sales - Duplicate Recordss : \", sales_df.duplicated().sum())\n",
    "# Inference : there are 15 dupilcates rows\n",
    "# To show duplicates\n",
    "print(\"\\n Duplicate Recordss : \")\n",
    "print(sales_df[sales_df.duplicated()])\n",
    "print(\"\\n Sales : Number of Duplicates:\", sales_df.duplicated().sum())\n",
    "# Inference : there are 15 dupilcates rows\n",
    "sales_df.drop_duplicates(inplace=True)\n",
    "#verify duplicates removal\n",
    "sales_df.duplicated().sum() \n",
    "sales_df.reset_index(inplace=True)\n",
    "sales_df.info() # total cnt of row post duplicate removal"
   ]
  },
  {
   "cell_type": "code",
   "execution_count": 250,
   "id": "44b98640",
   "metadata": {},
   "outputs": [
    {
     "name": "stdout",
     "output_type": "stream",
     "text": [
      "1671\n"
     ]
    }
   ],
   "source": [
    "# 6. Stocks Load the csv data  via panda as Dataframe\n",
    "\n",
    "stocks_df = pd.read_csv(\"StockDetails.csv\")\n",
    "stocks_df.head()\n",
    "stocks_df.describe()\n",
    "# Total stock rows = 1703\n",
    "len(stocks_df)\n",
    "print(stocks_df['StockCode'].nunique())"
   ]
  },
  {
   "cell_type": "code",
   "execution_count": 251,
   "id": "d155ac00",
   "metadata": {},
   "outputs": [
    {
     "name": "stdout",
     "output_type": "stream",
     "text": [
      "\n",
      "Stock Details - Number of Duplicates: 0\n",
      "Empty DataFrame\n",
      "Columns: [StockCode, Description]\n",
      "Index: []\n",
      "\n",
      " checking Data Type : \n",
      "<class 'pandas.core.frame.DataFrame'>\n",
      "RangeIndex: 1703 entries, 0 to 1702\n",
      "Data columns (total 2 columns):\n",
      " #   Column       Non-Null Count  Dtype \n",
      "---  ------       --------------  ----- \n",
      " 0   StockCode    1703 non-null   object\n",
      " 1   Description  1703 non-null   object\n",
      "dtypes: object(2)\n",
      "memory usage: 26.7+ KB\n"
     ]
    },
    {
     "data": {
      "text/plain": [
       "np.int64(0)"
      ]
     },
     "execution_count": 251,
     "metadata": {},
     "output_type": "execute_result"
    }
   ],
   "source": [
    "# Stocks 6.1 missing value in each column\n",
    "\n",
    "# Inference : No missing value found\n",
    "print(\"\\nStock Details - Number of Duplicates:\", stocks_df.duplicated().sum())\n",
    "# Row wise missing value checking\n",
    "print(stocks_df[stocks_df.isnull().any(axis=1)])\n",
    "# 6.2 Datatype checks\n",
    "print(\"\\n checking Data Type : \")\n",
    "stocks_df.info()\n",
    "# 6.3 Stocks - Identify duplicate rows\n",
    "\n",
    "stocks_df.duplicated().sum() \n",
    "# Inference : there are no dupilcates rows\n"
   ]
  },
  {
   "cell_type": "code",
   "execution_count": 252,
   "id": "cf6376b8",
   "metadata": {},
   "outputs": [
    {
     "data": {
      "text/html": [
       "<div>\n",
       "<style scoped>\n",
       "    .dataframe tbody tr th:only-of-type {\n",
       "        vertical-align: middle;\n",
       "    }\n",
       "\n",
       "    .dataframe tbody tr th {\n",
       "        vertical-align: top;\n",
       "    }\n",
       "\n",
       "    .dataframe thead th {\n",
       "        text-align: right;\n",
       "    }\n",
       "</style>\n",
       "<table border=\"1\" class=\"dataframe\">\n",
       "  <thead>\n",
       "    <tr style=\"text-align: right;\">\n",
       "      <th></th>\n",
       "      <th>DayOfInvoice</th>\n",
       "      <th>MonthOfInvoice</th>\n",
       "      <th>TransactionHour</th>\n",
       "    </tr>\n",
       "  </thead>\n",
       "  <tbody>\n",
       "    <tr>\n",
       "      <th>0</th>\n",
       "      <td>2010-12-01</td>\n",
       "      <td>12</td>\n",
       "      <td>13</td>\n",
       "    </tr>\n",
       "    <tr>\n",
       "      <th>1</th>\n",
       "      <td>2010-12-01</td>\n",
       "      <td>12</td>\n",
       "      <td>13</td>\n",
       "    </tr>\n",
       "    <tr>\n",
       "      <th>2</th>\n",
       "      <td>2010-12-01</td>\n",
       "      <td>12</td>\n",
       "      <td>13</td>\n",
       "    </tr>\n",
       "    <tr>\n",
       "      <th>3</th>\n",
       "      <td>2010-12-01</td>\n",
       "      <td>12</td>\n",
       "      <td>13</td>\n",
       "    </tr>\n",
       "    <tr>\n",
       "      <th>4</th>\n",
       "      <td>2010-12-01</td>\n",
       "      <td>12</td>\n",
       "      <td>13</td>\n",
       "    </tr>\n",
       "  </tbody>\n",
       "</table>\n",
       "</div>"
      ],
      "text/plain": [
       "  DayOfInvoice  MonthOfInvoice  TransactionHour\n",
       "0   2010-12-01              12               13\n",
       "1   2010-12-01              12               13\n",
       "2   2010-12-01              12               13\n",
       "3   2010-12-01              12               13\n",
       "4   2010-12-01              12               13"
      ]
     },
     "execution_count": 252,
     "metadata": {},
     "output_type": "execute_result"
    }
   ],
   "source": [
    "# 7. Convert invoice date into datetime, extract date, month, hour of transaction\n",
    "sales_df['InvoiceDate'] = pd.to_datetime(sales_df['InvoiceDate'], format='%d-%m-%Y %H:%M')\n",
    "sales_df.head()\n",
    "#print(sales_df['InvoiceDate'].dt.month) # to just show without new columns\n",
    "sales_df['DayOfInvoice'] =sales_df['InvoiceDate'].dt.date\n",
    "sales_df['MonthOfInvoice'] =sales_df['InvoiceDate'].dt.month\n",
    "sales_df['TransactionHour'] =sales_df['InvoiceDate'].dt.hour\n",
    "# Verify Month, Hour, date\n",
    "sales_df[['DayOfInvoice', 'MonthOfInvoice','TransactionHour']].head()\n"
   ]
  },
  {
   "cell_type": "code",
   "execution_count": 253,
   "id": "b8dcaed1",
   "metadata": {},
   "outputs": [
    {
     "name": "stdout",
     "output_type": "stream",
     "text": [
      "453\n"
     ]
    }
   ],
   "source": [
    "# 8. Add a new column TotalPrice = Quantity * UnitPrice.  \n",
    "'''  Before finding  total price, pre data analysis found negative quantity.\n",
    "     I also infer -ve quanity invoiceNo starts with 'C' which I assume as cancellations/return/refunds with -ve quanity records\n",
    "     Assumption : I cleanup the -ve quantity but just keeping track of cancel invoices seperately\n",
    "     cancellations = sales_df[sales_df['InvoiceNo'].str.startswith('C', na=False)] # also it is negative_sales sales \n",
    "\n",
    "     #negative_sales['InvoiceNo'].str.contains(\"C\").head()\n",
    "     cancellations = sales_df[sales_df['InvoiceNo'].str.startswith('C', na=False)]\n",
    "     print(len(cancellations))\n",
    "'''\n",
    "all_sales_df =sales_df.copy() # This is overall inventory data with refund/cancels + actual sales later Q19. It is useful to calculate % of stocks sold\n",
    "negative_sales = sales_df[sales_df['Quantity'] < 0]\n",
    "valid_sales = sales_df[sales_df['Quantity'] > 0]\n",
    "print(len(negative_sales))"
   ]
  },
  {
   "cell_type": "code",
   "execution_count": 254,
   "id": "9da3765a",
   "metadata": {},
   "outputs": [
    {
     "data": {
      "text/html": [
       "<div>\n",
       "<style scoped>\n",
       "    .dataframe tbody tr th:only-of-type {\n",
       "        vertical-align: middle;\n",
       "    }\n",
       "\n",
       "    .dataframe tbody tr th {\n",
       "        vertical-align: top;\n",
       "    }\n",
       "\n",
       "    .dataframe thead th {\n",
       "        text-align: right;\n",
       "    }\n",
       "</style>\n",
       "<table border=\"1\" class=\"dataframe\">\n",
       "  <thead>\n",
       "    <tr style=\"text-align: right;\">\n",
       "      <th></th>\n",
       "      <th>UnitPrice</th>\n",
       "      <th>Quantity</th>\n",
       "      <th>TotalPrice</th>\n",
       "    </tr>\n",
       "  </thead>\n",
       "  <tbody>\n",
       "    <tr>\n",
       "      <th>9022</th>\n",
       "      <td>1.25</td>\n",
       "      <td>12</td>\n",
       "      <td>15.00</td>\n",
       "    </tr>\n",
       "    <tr>\n",
       "      <th>9023</th>\n",
       "      <td>0.85</td>\n",
       "      <td>12</td>\n",
       "      <td>10.20</td>\n",
       "    </tr>\n",
       "    <tr>\n",
       "      <th>9024</th>\n",
       "      <td>0.85</td>\n",
       "      <td>12</td>\n",
       "      <td>10.20</td>\n",
       "    </tr>\n",
       "    <tr>\n",
       "      <th>9025</th>\n",
       "      <td>2.08</td>\n",
       "      <td>12</td>\n",
       "      <td>24.96</td>\n",
       "    </tr>\n",
       "    <tr>\n",
       "      <th>9026</th>\n",
       "      <td>1.65</td>\n",
       "      <td>10</td>\n",
       "      <td>16.50</td>\n",
       "    </tr>\n",
       "  </tbody>\n",
       "</table>\n",
       "</div>"
      ],
      "text/plain": [
       "      UnitPrice  Quantity  TotalPrice\n",
       "9022       1.25        12       15.00\n",
       "9023       0.85        12       10.20\n",
       "9024       0.85        12       10.20\n",
       "9025       2.08        12       24.96\n",
       "9026       1.65        10       16.50"
      ]
     },
     "execution_count": 254,
     "metadata": {},
     "output_type": "execute_result"
    }
   ],
   "source": [
    "#8.1 cleanup sales data\n",
    "'''# Fow now lets assume to take +ve quanities for as actual sales for revenues, considering -ve quantities are cancellation & refunds\n",
    "     Eliminate negative records\n",
    "'''\n",
    "sales_df.shape\n",
    "sales_df['Quantity'].unique()\n",
    "# filter -ve quantity , making sales_df = cleaned sales data\n",
    "sales_df = sales_df[sales_df['Quantity']>0]\n",
    "# inference = 453 -ve values, \n",
    "sales_df.reset_index(inplace=True)\n",
    "len(sales_df)\n",
    "# verifying -ve quantity cleanup\n",
    "sales_df['Quantity'].unique()\n",
    "\n",
    "# 8.1 Calculate Revenue/TotalPrice as new column\n",
    "# Removed -ve quantity, calculating Revenue/TotalPrice with +ve quantity as actual sales\n",
    "sales_df['TotalPrice'] = sales_df['UnitPrice']*sales_df['Quantity']\n",
    "# -ve value : 453, total : value : 9480 total +ve: 9027\n",
    "sales_df[['UnitPrice','Quantity', 'TotalPrice']].tail()"
   ]
  },
  {
   "cell_type": "code",
   "execution_count": 255,
   "id": "66bd25c4",
   "metadata": {},
   "outputs": [
    {
     "name": "stdout",
     "output_type": "stream",
     "text": [
      "\n",
      "Top 3 Bestselling individual item by Quantity Sold:\n",
      "2917    600\n",
      "6677    432\n",
      "3813    300\n",
      "Name: Quantity, dtype: int64\n",
      "\n",
      "Top 3 Bestselling individual Stock by Quantity Sold:\n",
      "StockCode  Description                        \n",
      "22326      ROUND SNACK BOXES SET OF4 WOODLAND     1221\n",
      "15036      ASSORTED COLOURS SILK FAN              1164\n",
      "POST       POSTAGE                                1114\n",
      "Name: Quantity, dtype: int64\n"
     ]
    }
   ],
   "source": [
    "# 9. Identify the top 3 bestselling items by quantity sold.\n",
    "# top 3 selling single item\n",
    "top_3_items = sales_df['Quantity'].sort_values(ascending=False).head(3)\n",
    "print(\"\\nTop 3 Bestselling individual item by Quantity Sold:\")\n",
    "print(top_3_items)\n",
    "# we can get all records of top 3 selling item\n",
    "# if top 3 selling stock as an single stock item, stocks  have to be grouped\n",
    "top_3_stock = sales_df.groupby(['StockCode', 'Description'])['Quantity'].sum().sort_values(ascending=False).head(3)\n",
    "print(\"\\nTop 3 Bestselling individual Stock by Quantity Sold:\")\n",
    "print(top_3_stock)\n"
   ]
  },
  {
   "cell_type": "code",
   "execution_count": 256,
   "id": "93bf5689",
   "metadata": {},
   "outputs": [
    {
     "name": "stdout",
     "output_type": "stream",
     "text": [
      "\n",
      " Number of Unique Customers: 94\n",
      "\n",
      " Average Quantity per Invoice: 260.74\n"
     ]
    }
   ],
   "source": [
    "# 10.1  How many unique customers made purchases\n",
    "unique_customers = sales_df['CustomerID'].nunique()\n",
    "print(\"\\n Number of Unique Customers:\", unique_customers)\n",
    "#  There are 94 unique customers\n",
    "# verify with unique on customer\n",
    "# sales_df['CustomerID'].unique()\n",
    "# 10.2  average quantity per invoice.  \n",
    "avg_quantity = round(sales_df.groupby(['InvoiceNo'])['Quantity'].sum().mean(), 2)\n",
    "print(\"\\n Average Quantity per Invoice:\", round(avg_quantity, 2))\n",
    "\n",
    "# With including cancelled orders : Average Quantity per Invoice: 9.21"
   ]
  },
  {
   "cell_type": "markdown",
   "id": "7c3a656a",
   "metadata": {},
   "source": [
    "C. Visualization"
   ]
  },
  {
   "cell_type": "code",
   "execution_count": 257,
   "id": "0cbba72a",
   "metadata": {},
   "outputs": [
    {
     "name": "stdout",
     "output_type": "stream",
     "text": [
      "  StockCode                          Description  Quantity\n",
      "0     22326  ROUND SNACK BOXES SET OF4 WOODLAND       1221\n",
      "1     15036            ASSORTED COLOURS SILK FAN      1164\n",
      "2      POST                              POSTAGE      1114\n",
      "3     20719               WOODLAND CHARLOTTE BAG      1020\n",
      "4     21212      PACK OF 72 RETROSPOT CAKE CASES      1002\n",
      "5     22585            PACK OF 6 BIRDY GIFT TAGS       936\n",
      "6     22629                  SPACEBOY LUNCH BOX        876\n",
      "7     22554     PLASTERS IN TIN WOODLAND ANIMALS       856\n",
      "8     22961               JAM MAKING SET PRINTED       816\n",
      "9     22423             REGENCY CAKESTAND 3 TIER       809\n"
     ]
    },
    {
     "data": {
      "image/png": "[encoded data removed]",
      "text/plain": [
       "<Figure size 640x480 with 1 Axes>"
      ]
     },
     "metadata": {},
     "output_type": "display_data"
    }
   ],
   "source": [
    "# 11. Plot a bar chart of top 10 items by quantity sold. \n",
    "import seaborn as sns\n",
    "import pandas as pd\n",
    "import matplotlib.pyplot as plt\n",
    "\n",
    "top_10_stock = valid_sales.groupby(['StockCode', 'Description'])['Quantity'].sum().sort_values(ascending=False).head(10).reset_index()\n",
    "print(top_10_stock)\n",
    "#sales_df = valid_sales.copy()\n",
    "sns.barplot(data=top_10_stock, x= 'Quantity', y='Description')\n",
    "plt.title('Top 10 Items by Quantity Sold')\n",
    "plt.xlabel('Quantity Sold')\n",
    "plt.ylabel('Item Description')\n",
    "plt.show()"
   ]
  },
  {
   "cell_type": "code",
   "execution_count": 258,
   "id": "7bcae6a7",
   "metadata": {},
   "outputs": [
    {
     "data": {
      "image/png": "[encoded data removed]",
      "text/plain": [
       "<Figure size 640x480 with 1 Axes>"
      ]
     },
     "metadata": {},
     "output_type": "display_data"
    },
    {
     "name": "stdout",
     "output_type": "stream",
     "text": [
      "Total Sales per Hour:\n",
      "    TransactionHour  TotalPrice\n",
      "0                 8     9070.25\n",
      "1                 9    30936.20\n",
      "2                10    27097.47\n",
      "3                11    19485.58\n",
      "4                12    36178.77\n",
      "5                13    35320.35\n",
      "6                14    37527.59\n",
      "7                15    25642.97\n",
      "8                16     2729.20\n",
      "9                17     4275.92\n",
      "10               18      414.10\n"
     ]
    }
   ],
   "source": [
    "# 12. Plot total sales per hour of the day to understand peak shopping hours.  \n",
    "import seaborn as sns\n",
    "import pandas as pd\n",
    "import matplotlib.pyplot as plt\n",
    "\n",
    "sales_df.head()\n",
    "# Group by Hour and sum TotalPrice\n",
    "sales_per_hour = sales_df.groupby('TransactionHour')['TotalPrice'].sum().reset_index()\n",
    "sales_per_hour.head()\n",
    "\n",
    "sns.barplot(data=sales_per_hour, x=sales_per_hour['TransactionHour'], y=sales_per_hour['TotalPrice'], color='seagreen')\n",
    "plt.xlabel('Hour of the Day')\n",
    "plt.title('Total Sales per Hour of the Day')\n",
    "plt.tight_layout()\n",
    "plt.show()\n",
    "\n",
    "# Display sales per hour\n",
    "print(\"Total Sales per Hour:\")\n",
    "print(sales_per_hour)"
   ]
  },
  {
   "cell_type": "code",
   "execution_count": 259,
   "id": "ce40c90b",
   "metadata": {},
   "outputs": [
    {
     "data": {
      "image/png": "[encoded data removed]",
      "text/plain": [
       "<Figure size 640x480 with 1 Axes>"
      ]
     },
     "metadata": {},
     "output_type": "display_data"
    }
   ],
   "source": [
    "# 13. Create a pie chart showing revenue distribution among top 5 customers.  \n",
    "sales_df.head()\n",
    "customer_revenue  = sales_df.groupby('CustomerID')['TotalPrice'].sum().sort_values(ascending=False).reset_index()\n",
    "top_5_customers =customer_revenue.head(5)\n",
    "labels = top_5_customers['CustomerID'].astype(str)\n",
    "sizes= top_5_customers['TotalPrice']\n",
    "plt.title('Revenue Distribution Among Top 5 Customers')\n",
    "plt.pie(sizes,  labels=labels,  autopct='%1.2f%%', startangle=90)\n",
    "plt.axis('equal')\n",
    "plt.tight_layout()"
   ]
  },
  {
   "cell_type": "code",
   "execution_count": 260,
   "id": "9868d878",
   "metadata": {},
   "outputs": [
    {
     "data": {
      "image/png": "[encoded data removed]",
      "text/plain": [
       "<Figure size 800x500 with 1 Axes>"
      ]
     },
     "metadata": {},
     "output_type": "display_data"
    }
   ],
   "source": [
    "# 14. Visualize the monthly revenue trend using a line chart.  \n",
    "sales_df.head()\n",
    "sales_df['YearMonth'] = sales_df['InvoiceDate'].dt.to_period('M').astype(str)\n",
    "\n",
    "#sales_df['YearMonth'].unique()\n",
    "sales_monthly_revenue = sales_df.groupby('YearMonth')['TotalPrice'].sum().reset_index()\n",
    "# Plot line chart\n",
    "plt.figure(figsize=(8, 5))\n",
    "plt.plot(sales_monthly_revenue['YearMonth'].astype(str), sales_monthly_revenue['TotalPrice'], marker='o', color='green')\n",
    "plt.xlabel('Months')\n",
    "plt.ylabel('Revenue($)')\n",
    "plt.title('Monthly Revenue Trend')\n",
    "plt.xticks(rotation=45, ha='right')\n",
    "plt.grid(True, linestyle='--')\n",
    "plt.tight_layout()"
   ]
  },
  {
   "cell_type": "code",
   "execution_count": 261,
   "id": "52fd5404",
   "metadata": {},
   "outputs": [
    {
     "name": "stdout",
     "output_type": "stream",
     "text": [
      "['552978', '564856', '543737', '581179', '550137']\n"
     ]
    },
    {
     "data": {
      "application/vnd.plotly.v1+json": {
       "config": {
        "plotlyServerURL": "https://plot.ly"
       },
       "data": [
        {
         "hovertemplate": "Product=CHICK GREY HOT WATER BOTTLE<br>Invoice Number=%{x}<br>Revenue ($)=%{y}<extra></extra>",
         "legendgroup": "CHICK GREY HOT WATER BOTTLE",
         "marker": {
          "color": "#636efa",
          "pattern": {
           "shape": ""
          }
         },
         "name": "CHICK GREY HOT WATER BOTTLE",
         "orientation": "v",
         "showlegend": true,
         "textposition": "auto",
         "type": "bar",
         "width": 0.6,
         "x": [
          "543737"
         ],
         "xaxis": "x",
         "y": {
          "bdata": "mpmZmZmZO0A=",
          "dtype": "f8"
         },
         "yaxis": "y"
        },
        {
         "hovertemplate": "Product=BLUE BIRDHOUSE DECORATION<br>Invoice Number=%{x}<br>Revenue ($)=%{y}<extra></extra>",
         "legendgroup": "BLUE BIRDHOUSE DECORATION",
         "marker": {
          "color": "#EF553B",
          "pattern": {
           "shape": ""
          }
         },
         "name": "BLUE BIRDHOUSE DECORATION",
         "orientation": "v",
         "showlegend": true,
         "textposition": "auto",
         "type": "bar",
         "width": 0.6,
         "x": [
          "543737"
         ],
         "xaxis": "x",
         "y": {
          "bdata": "ZmZmZmZmJEA=",
          "dtype": "f8"
         },
         "yaxis": "y"
        },
        {
         "hovertemplate": "Product=DOORMAT FANCY FONT HOME SWEET HOME<br>Invoice Number=%{x}<br>Revenue ($)=%{y}<extra></extra>",
         "legendgroup": "DOORMAT FANCY FONT HOME SWEET HOME",
         "marker": {
          "color": "#00cc96",
          "pattern": {
           "shape": ""
          }
         },
         "name": "DOORMAT FANCY FONT HOME SWEET HOME",
         "orientation": "v",
         "showlegend": true,
         "textposition": "auto",
         "type": "bar",
         "width": 0.6,
         "x": [
          "543737",
          "552978",
          "564856"
         ],
         "xaxis": "x",
         "y": {
          "bdata": "zczMzMzMT0AAAAAAAOBQQAAAAAAA4FBA",
          "dtype": "f8"
         },
         "yaxis": "y"
        },
        {
         "hovertemplate": "Product=DOORMAT RESPECTABLE HOUSE<br>Invoice Number=%{x}<br>Revenue ($)=%{y}<extra></extra>",
         "legendgroup": "DOORMAT RESPECTABLE HOUSE",
         "marker": {
          "color": "#ab63fa",
          "pattern": {
           "shape": ""
          }
         },
         "name": "DOORMAT RESPECTABLE HOUSE",
         "orientation": "v",
         "showlegend": true,
         "textposition": "auto",
         "type": "bar",
         "width": 0.6,
         "x": [
          "543737",
          "552978"
         ],
         "xaxis": "x",
         "y": {
          "bdata": "zczMzMzMT0AAAAAAAOBQQA==",
          "dtype": "f8"
         },
         "yaxis": "y"
        },
        {
         "hovertemplate": "Product=DOORMAT AIRMAIL <br>Invoice Number=%{x}<br>Revenue ($)=%{y}<extra></extra>",
         "legendgroup": "DOORMAT AIRMAIL ",
         "marker": {
          "color": "#FFA15A",
          "pattern": {
           "shape": ""
          }
         },
         "name": "DOORMAT AIRMAIL ",
         "orientation": "v",
         "showlegend": true,
         "textposition": "auto",
         "type": "bar",
         "width": 0.6,
         "x": [
          "543737"
         ],
         "xaxis": "x",
         "y": {
          "bdata": "zczMzMzMT0A=",
          "dtype": "f8"
         },
         "yaxis": "y"
        },
        {
         "hovertemplate": "Product=DOORMAT NEIGHBOURHOOD WITCH <br>Invoice Number=%{x}<br>Revenue ($)=%{y}<extra></extra>",
         "legendgroup": "DOORMAT NEIGHBOURHOOD WITCH ",
         "marker": {
          "color": "#19d3f3",
          "pattern": {
           "shape": ""
          }
         },
         "name": "DOORMAT NEIGHBOURHOOD WITCH ",
         "orientation": "v",
         "showlegend": true,
         "textposition": "auto",
         "type": "bar",
         "width": 0.6,
         "x": [
          "543737"
         ],
         "xaxis": "x",
         "y": {
          "bdata": "zczMzMzMP0A=",
          "dtype": "f8"
         },
         "yaxis": "y"
        },
        {
         "hovertemplate": "Product=DOORMAT HOME SWEET HOME BLUE <br>Invoice Number=%{x}<br>Revenue ($)=%{y}<extra></extra>",
         "legendgroup": "DOORMAT HOME SWEET HOME BLUE ",
         "marker": {
          "color": "#FF6692",
          "pattern": {
           "shape": ""
          }
         },
         "name": "DOORMAT HOME SWEET HOME BLUE ",
         "orientation": "v",
         "showlegend": true,
         "textposition": "auto",
         "type": "bar",
         "width": 0.6,
         "x": [
          "543737"
         ],
         "xaxis": "x",
         "y": {
          "bdata": "zczMzMzMP0A=",
          "dtype": "f8"
         },
         "yaxis": "y"
        },
        {
         "hovertemplate": "Product=DOORMAT NEW ENGLAND<br>Invoice Number=%{x}<br>Revenue ($)=%{y}<extra></extra>",
         "legendgroup": "DOORMAT NEW ENGLAND",
         "marker": {
          "color": "#B6E880",
          "pattern": {
           "shape": ""
          }
         },
         "name": "DOORMAT NEW ENGLAND",
         "orientation": "v",
         "showlegend": true,
         "textposition": "auto",
         "type": "bar",
         "width": 0.6,
         "x": [
          "543737"
         ],
         "xaxis": "x",
         "y": {
          "bdata": "AAAAAADgUEA=",
          "dtype": "f8"
         },
         "yaxis": "y"
        },
        {
         "hovertemplate": "Product=WATERING CAN BLUE ELEPHANT<br>Invoice Number=%{x}<br>Revenue ($)=%{y}<extra></extra>",
         "legendgroup": "WATERING CAN BLUE ELEPHANT",
         "marker": {
          "color": "#FF97FF",
          "pattern": {
           "shape": ""
          }
         },
         "name": "WATERING CAN BLUE ELEPHANT",
         "orientation": "v",
         "showlegend": true,
         "textposition": "auto",
         "type": "bar",
         "width": 0.6,
         "x": [
          "543737",
          "564856"
         ],
         "xaxis": "x",
         "y": {
          "bdata": "ZmZmZmZmJ0BmZmZmZmYnQA==",
          "dtype": "f8"
         },
         "yaxis": "y"
        },
        {
         "hovertemplate": "Product=RETROSPOT PADDED SEAT CUSHION<br>Invoice Number=%{x}<br>Revenue ($)=%{y}<extra></extra>",
         "legendgroup": "RETROSPOT PADDED SEAT CUSHION",
         "marker": {
          "color": "#FECB52",
          "pattern": {
           "shape": ""
          }
         },
         "name": "RETROSPOT PADDED SEAT CUSHION",
         "orientation": "v",
         "showlegend": true,
         "textposition": "auto",
         "type": "bar",
         "width": 0.6,
         "x": [
          "543737",
          "550137",
          "552978",
          "564856"
         ],
         "xaxis": "x",
         "y": {
          "bdata": "AAAAAADAMkAAAAAAAMAyQM3MzMzMbGlAAAAAAADAQkA=",
          "dtype": "f8"
         },
         "yaxis": "y"
        },
        {
         "hovertemplate": "Product=WHITE SPOT RED CERAMIC DRAWER KNOB<br>Invoice Number=%{x}<br>Revenue ($)=%{y}<extra></extra>",
         "legendgroup": "WHITE SPOT RED CERAMIC DRAWER KNOB",
         "marker": {
          "color": "#636efa",
          "pattern": {
           "shape": ""
          }
         },
         "name": "WHITE SPOT RED CERAMIC DRAWER KNOB",
         "orientation": "v",
         "showlegend": true,
         "textposition": "auto",
         "type": "bar",
         "width": 0.6,
         "x": [
          "543737",
          "550137",
          "564856"
         ],
         "xaxis": "x",
         "y": {
          "bdata": "AAAAAAAALkAAAAAAAAAuQAAAAAAAAC5A",
          "dtype": "f8"
         },
         "yaxis": "y"
        },
        {
         "hovertemplate": "Product=BLUE DRAWER KNOB ACRYLIC EDWARDIAN<br>Invoice Number=%{x}<br>Revenue ($)=%{y}<extra></extra>",
         "legendgroup": "BLUE DRAWER KNOB ACRYLIC EDWARDIAN",
         "marker": {
          "color": "#EF553B",
          "pattern": {
           "shape": ""
          }
         },
         "name": "BLUE DRAWER KNOB ACRYLIC EDWARDIAN",
         "orientation": "v",
         "showlegend": true,
         "textposition": "auto",
         "type": "bar",
         "width": 0.6,
         "x": [
          "543737"
         ],
         "xaxis": "x",
         "y": {
          "bdata": "AAAAAAAALkA=",
          "dtype": "f8"
         },
         "yaxis": "y"
        },
        {
         "hovertemplate": "Product=RETROSPOT BABUSHKA DOORSTOP<br>Invoice Number=%{x}<br>Revenue ($)=%{y}<extra></extra>",
         "legendgroup": "RETROSPOT BABUSHKA DOORSTOP",
         "marker": {
          "color": "#00cc96",
          "pattern": {
           "shape": ""
          }
         },
         "name": "RETROSPOT BABUSHKA DOORSTOP",
         "orientation": "v",
         "showlegend": true,
         "textposition": "auto",
         "type": "bar",
         "width": 0.6,
         "x": [
          "543737"
         ],
         "xaxis": "x",
         "y": {
          "bdata": "AAAAAAAALkA=",
          "dtype": "f8"
         },
         "yaxis": "y"
        },
        {
         "hovertemplate": "Product=OWL DOORSTOP<br>Invoice Number=%{x}<br>Revenue ($)=%{y}<extra></extra>",
         "legendgroup": "OWL DOORSTOP",
         "marker": {
          "color": "#ab63fa",
          "pattern": {
           "shape": ""
          }
         },
         "name": "OWL DOORSTOP",
         "orientation": "v",
         "showlegend": true,
         "textposition": "auto",
         "type": "bar",
         "width": 0.6,
         "x": [
          "543737"
         ],
         "xaxis": "x",
         "y": {
          "bdata": "NDMzMzOzLUA=",
          "dtype": "f8"
         },
         "yaxis": "y"
        },
        {
         "hovertemplate": "Product=DOORSTOP RETROSPOT HEART<br>Invoice Number=%{x}<br>Revenue ($)=%{y}<extra></extra>",
         "legendgroup": "DOORSTOP RETROSPOT HEART",
         "marker": {
          "color": "#FFA15A",
          "pattern": {
           "shape": ""
          }
         },
         "name": "DOORSTOP RETROSPOT HEART",
         "orientation": "v",
         "showlegend": true,
         "textposition": "auto",
         "type": "bar",
         "width": 0.6,
         "x": [
          "543737",
          "564856"
         ],
         "xaxis": "x",
         "y": {
          "bdata": "AAAAAAAALkAAAAAAAAAuQA==",
          "dtype": "f8"
         },
         "yaxis": "y"
        },
        {
         "hovertemplate": "Product=GINGHAM HEART  DOORSTOP RED<br>Invoice Number=%{x}<br>Revenue ($)=%{y}<extra></extra>",
         "legendgroup": "GINGHAM HEART  DOORSTOP RED",
         "marker": {
          "color": "#19d3f3",
          "pattern": {
           "shape": ""
          }
         },
         "name": "GINGHAM HEART  DOORSTOP RED",
         "orientation": "v",
         "showlegend": true,
         "textposition": "auto",
         "type": "bar",
         "width": 0.6,
         "x": [
          "543737"
         ],
         "xaxis": "x",
         "y": {
          "bdata": "AAAAAACAKUA=",
          "dtype": "f8"
         },
         "yaxis": "y"
        },
        {
         "hovertemplate": "Product=BLUE  TILE HOOK<br>Invoice Number=%{x}<br>Revenue ($)=%{y}<extra></extra>",
         "legendgroup": "BLUE  TILE HOOK",
         "marker": {
          "color": "#FF6692",
          "pattern": {
           "shape": ""
          }
         },
         "name": "BLUE  TILE HOOK",
         "orientation": "v",
         "showlegend": true,
         "textposition": "auto",
         "type": "bar",
         "width": 0.6,
         "x": [
          "543737"
         ],
         "xaxis": "x",
         "y": {
          "bdata": "ZmZmZmZmNEA=",
          "dtype": "f8"
         },
         "yaxis": "y"
        },
        {
         "hovertemplate": "Product=FOUR HOOK  WHITE LOVEBIRDS<br>Invoice Number=%{x}<br>Revenue ($)=%{y}<extra></extra>",
         "legendgroup": "FOUR HOOK  WHITE LOVEBIRDS",
         "marker": {
          "color": "#B6E880",
          "pattern": {
           "shape": ""
          }
         },
         "name": "FOUR HOOK  WHITE LOVEBIRDS",
         "orientation": "v",
         "showlegend": true,
         "textposition": "auto",
         "type": "bar",
         "width": 0.6,
         "x": [
          "543737",
          "550137",
          "564856"
         ],
         "xaxis": "x",
         "y": {
          "bdata": "NDMzMzMzOUA0MzMzMzM5QGdmZmZm5kJA",
          "dtype": "f8"
         },
         "yaxis": "y"
        },
        {
         "hovertemplate": "Product=5 HOOK HANGER RED MAGIC TOADSTOOL<br>Invoice Number=%{x}<br>Revenue ($)=%{y}<extra></extra>",
         "legendgroup": "5 HOOK HANGER RED MAGIC TOADSTOOL",
         "marker": {
          "color": "#FF97FF",
          "pattern": {
           "shape": ""
          }
         },
         "name": "5 HOOK HANGER RED MAGIC TOADSTOOL",
         "orientation": "v",
         "showlegend": true,
         "textposition": "auto",
         "type": "bar",
         "width": 0.6,
         "x": [
          "543737",
          "550137",
          "552978"
         ],
         "xaxis": "x",
         "y": {
          "bdata": "zMzMzMzMM0DMzMzMzMxDQMzMzMzMzENA",
          "dtype": "f8"
         },
         "yaxis": "y"
        },
        {
         "hovertemplate": "Product=3 HOOK HANGER MAGIC GARDEN<br>Invoice Number=%{x}<br>Revenue ($)=%{y}<extra></extra>",
         "legendgroup": "3 HOOK HANGER MAGIC GARDEN",
         "marker": {
          "color": "#FECB52",
          "pattern": {
           "shape": ""
          }
         },
         "name": "3 HOOK HANGER MAGIC GARDEN",
         "orientation": "v",
         "showlegend": true,
         "textposition": "auto",
         "type": "bar",
         "width": 0.6,
         "x": [
          "543737",
          "550137",
          "564856"
         ],
         "xaxis": "x",
         "y": {
          "bdata": "zczMzMyMUUDNzMzMzIxRQMzMzMzMzGNA",
          "dtype": "f8"
         },
         "yaxis": "y"
        },
        {
         "hovertemplate": "Product=YELLOW COAT RACK PARIS FASHION<br>Invoice Number=%{x}<br>Revenue ($)=%{y}<extra></extra>",
         "legendgroup": "YELLOW COAT RACK PARIS FASHION",
         "marker": {
          "color": "#636efa",
          "pattern": {
           "shape": ""
          }
         },
         "name": "YELLOW COAT RACK PARIS FASHION",
         "orientation": "v",
         "showlegend": true,
         "textposition": "auto",
         "type": "bar",
         "width": 0.6,
         "x": [
          "543737"
         ],
         "xaxis": "x",
         "y": {
          "bdata": "NDMzMzOzLUA=",
          "dtype": "f8"
         },
         "yaxis": "y"
        },
        {
         "hovertemplate": "Product=CREAM CUPID HEARTS COAT HANGER<br>Invoice Number=%{x}<br>Revenue ($)=%{y}<extra></extra>",
         "legendgroup": "CREAM CUPID HEARTS COAT HANGER",
         "marker": {
          "color": "#EF553B",
          "pattern": {
           "shape": ""
          }
         },
         "name": "CREAM CUPID HEARTS COAT HANGER",
         "orientation": "v",
         "showlegend": true,
         "textposition": "auto",
         "type": "bar",
         "width": 0.6,
         "x": [
          "543737",
          "564856"
         ],
         "xaxis": "x",
         "y": {
          "bdata": "AAAAAAAASkAAAAAAAABeQA==",
          "dtype": "f8"
         },
         "yaxis": "y"
        },
        {
         "hovertemplate": "Product=RED SPOTTY BISCUIT TIN<br>Invoice Number=%{x}<br>Revenue ($)=%{y}<extra></extra>",
         "legendgroup": "RED SPOTTY BISCUIT TIN",
         "marker": {
          "color": "#00cc96",
          "pattern": {
           "shape": ""
          }
         },
         "name": "RED SPOTTY BISCUIT TIN",
         "orientation": "v",
         "showlegend": true,
         "textposition": "auto",
         "type": "bar",
         "width": 0.6,
         "x": [
          "543737"
         ],
         "xaxis": "x",
         "y": {
          "bdata": "AAAAAABgeEA=",
          "dtype": "f8"
         },
         "yaxis": "y"
        },
        {
         "hovertemplate": "Product=ENAMEL BLUE RIM BISCUIT BIN<br>Invoice Number=%{x}<br>Revenue ($)=%{y}<extra></extra>",
         "legendgroup": "ENAMEL BLUE RIM BISCUIT BIN",
         "marker": {
          "color": "#ab63fa",
          "pattern": {
           "shape": ""
          }
         },
         "name": "ENAMEL BLUE RIM BISCUIT BIN",
         "orientation": "v",
         "showlegend": true,
         "textposition": "auto",
         "type": "bar",
         "width": 0.6,
         "x": [
          "543737"
         ],
         "xaxis": "x",
         "y": {
          "bdata": "AAAAAACAWUA=",
          "dtype": "f8"
         },
         "yaxis": "y"
        },
        {
         "hovertemplate": "Product=RED RETROSPOT ROUND CAKE TINS<br>Invoice Number=%{x}<br>Revenue ($)=%{y}<extra></extra>",
         "legendgroup": "RED RETROSPOT ROUND CAKE TINS",
         "marker": {
          "color": "#FFA15A",
          "pattern": {
           "shape": ""
          }
         },
         "name": "RED RETROSPOT ROUND CAKE TINS",
         "orientation": "v",
         "showlegend": true,
         "textposition": "auto",
         "type": "bar",
         "width": 0.6,
         "x": [
          "543737",
          "564856"
         ],
         "xaxis": "x",
         "y": {
          "bdata": "AAAAAADgWECZmZmZmdk9QA==",
          "dtype": "f8"
         },
         "yaxis": "y"
        },
        {
         "hovertemplate": "Product=SET OF 3 CAKE TINS PANTRY DESIGN <br>Invoice Number=%{x}<br>Revenue ($)=%{y}<extra></extra>",
         "legendgroup": "SET OF 3 CAKE TINS PANTRY DESIGN ",
         "marker": {
          "color": "#19d3f3",
          "pattern": {
           "shape": ""
          }
         },
         "name": "SET OF 3 CAKE TINS PANTRY DESIGN ",
         "orientation": "v",
         "showlegend": true,
         "textposition": "auto",
         "type": "bar",
         "width": 0.6,
         "x": [
          "543737"
         ],
         "xaxis": "x",
         "y": {
          "bdata": "NDMzMzOzTUA=",
          "dtype": "f8"
         },
         "yaxis": "y"
        },
        {
         "hovertemplate": "Product=SET OF 3 CAKE TINS SKETCHBOOK<br>Invoice Number=%{x}<br>Revenue ($)=%{y}<extra></extra>",
         "legendgroup": "SET OF 3 CAKE TINS SKETCHBOOK",
         "marker": {
          "color": "#FF6692",
          "pattern": {
           "shape": ""
          }
         },
         "name": "SET OF 3 CAKE TINS SKETCHBOOK",
         "orientation": "v",
         "showlegend": true,
         "textposition": "auto",
         "type": "bar",
         "width": 0.6,
         "x": [
          "543737"
         ],
         "xaxis": "x",
         "y": {
          "bdata": "NDMzMzOzPUA=",
          "dtype": "f8"
         },
         "yaxis": "y"
        },
        {
         "hovertemplate": "Product=FRYING PAN RED RETROSPOT<br>Invoice Number=%{x}<br>Revenue ($)=%{y}<extra></extra>",
         "legendgroup": "FRYING PAN RED RETROSPOT",
         "marker": {
          "color": "#B6E880",
          "pattern": {
           "shape": ""
          }
         },
         "name": "FRYING PAN RED RETROSPOT",
         "orientation": "v",
         "showlegend": true,
         "textposition": "auto",
         "type": "bar",
         "width": 0.6,
         "x": [
          "543737",
          "564856"
         ],
         "xaxis": "x",
         "y": {
          "bdata": "AAAAAACASUAAAAAAAABBQA==",
          "dtype": "f8"
         },
         "yaxis": "y"
        },
        {
         "hovertemplate": "Product=SET OF 6 HERB TINS SKETCHBOOK<br>Invoice Number=%{x}<br>Revenue ($)=%{y}<extra></extra>",
         "legendgroup": "SET OF 6 HERB TINS SKETCHBOOK",
         "marker": {
          "color": "#FF97FF",
          "pattern": {
           "shape": ""
          }
         },
         "name": "SET OF 6 HERB TINS SKETCHBOOK",
         "orientation": "v",
         "showlegend": true,
         "textposition": "auto",
         "type": "bar",
         "width": 0.6,
         "x": [
          "543737",
          "550137",
          "564856"
         ],
         "xaxis": "x",
         "y": {
          "bdata": "mpmZmZmZL0CamZmZmZk/QDQzMzMzs2RA",
          "dtype": "f8"
         },
         "yaxis": "y"
        },
        {
         "hovertemplate": "Product=SET OF 6 SPICE TINS PANTRY DESIGN<br>Invoice Number=%{x}<br>Revenue ($)=%{y}<extra></extra>",
         "legendgroup": "SET OF 6 SPICE TINS PANTRY DESIGN",
         "marker": {
          "color": "#FECB52",
          "pattern": {
           "shape": ""
          }
         },
         "name": "SET OF 6 SPICE TINS PANTRY DESIGN",
         "orientation": "v",
         "showlegend": true,
         "textposition": "auto",
         "type": "bar",
         "width": 0.6,
         "x": [
          "543737"
         ],
         "xaxis": "x",
         "y": {
          "bdata": "NDMzMzOzR0A=",
          "dtype": "f8"
         },
         "yaxis": "y"
        },
        {
         "hovertemplate": "Product=PEG BAG APPLES DESIGN<br>Invoice Number=%{x}<br>Revenue ($)=%{y}<extra></extra>",
         "legendgroup": "PEG BAG APPLES DESIGN",
         "marker": {
          "color": "#636efa",
          "pattern": {
           "shape": ""
          }
         },
         "name": "PEG BAG APPLES DESIGN",
         "orientation": "v",
         "showlegend": true,
         "textposition": "auto",
         "type": "bar",
         "width": 0.6,
         "x": [
          "543737",
          "564856"
         ],
         "xaxis": "x",
         "y": {
          "bdata": "mZmZmZmZLkCZmZmZmZk+QA==",
          "dtype": "f8"
         },
         "yaxis": "y"
        },
        {
         "hovertemplate": "Product=MILK PAN RED RETROSPOT<br>Invoice Number=%{x}<br>Revenue ($)=%{y}<extra></extra>",
         "legendgroup": "MILK PAN RED RETROSPOT",
         "marker": {
          "color": "#EF553B",
          "pattern": {
           "shape": ""
          }
         },
         "name": "MILK PAN RED RETROSPOT",
         "orientation": "v",
         "showlegend": true,
         "textposition": "auto",
         "type": "bar",
         "width": 0.6,
         "x": [
          "543737"
         ],
         "xaxis": "x",
         "y": {
          "bdata": "AAAAAAAATkA=",
          "dtype": "f8"
         },
         "yaxis": "y"
        },
        {
         "hovertemplate": "Product=OVEN MITT APPLES DESIGN<br>Invoice Number=%{x}<br>Revenue ($)=%{y}<extra></extra>",
         "legendgroup": "OVEN MITT APPLES DESIGN",
         "marker": {
          "color": "#00cc96",
          "pattern": {
           "shape": ""
          }
         },
         "name": "OVEN MITT APPLES DESIGN",
         "orientation": "v",
         "showlegend": true,
         "textposition": "auto",
         "type": "bar",
         "width": 0.6,
         "x": [
          "543737",
          "564856"
         ],
         "xaxis": "x",
         "y": {
          "bdata": "AAAAAAAALUAAAAAAAAAtQA==",
          "dtype": "f8"
         },
         "yaxis": "y"
        },
        {
         "hovertemplate": "Product=SET 3 RETROSPOT TEA,COFFEE,SUGAR<br>Invoice Number=%{x}<br>Revenue ($)=%{y}<extra></extra>",
         "legendgroup": "SET 3 RETROSPOT TEA,COFFEE,SUGAR",
         "marker": {
          "color": "#ab63fa",
          "pattern": {
           "shape": ""
          }
         },
         "name": "SET 3 RETROSPOT TEA,COFFEE,SUGAR",
         "orientation": "v",
         "showlegend": true,
         "textposition": "auto",
         "type": "bar",
         "width": 0.6,
         "x": [
          "543737",
          "550137"
         ],
         "xaxis": "x",
         "y": {
          "bdata": "AAAAAADAWEAAAAAAACBzQA==",
          "dtype": "f8"
         },
         "yaxis": "y"
        },
        {
         "hovertemplate": "Product=ENAMEL BLUE RIM COFFEE CONTAINER<br>Invoice Number=%{x}<br>Revenue ($)=%{y}<extra></extra>",
         "legendgroup": "ENAMEL BLUE RIM COFFEE CONTAINER",
         "marker": {
          "color": "#FFA15A",
          "pattern": {
           "shape": ""
          }
         },
         "name": "ENAMEL BLUE RIM COFFEE CONTAINER",
         "orientation": "v",
         "showlegend": true,
         "textposition": "auto",
         "type": "bar",
         "width": 0.6,
         "x": [
          "543737",
          "550137"
         ],
         "xaxis": "x",
         "y": {
          "bdata": "NDMzMzMzKUDrUbgeheszQA==",
          "dtype": "f8"
         },
         "yaxis": "y"
        },
        {
         "hovertemplate": "Product=BLUE TEA TOWEL CLASSIC DESIGN<br>Invoice Number=%{x}<br>Revenue ($)=%{y}<extra></extra>",
         "legendgroup": "BLUE TEA TOWEL CLASSIC DESIGN",
         "marker": {
          "color": "#19d3f3",
          "pattern": {
           "shape": ""
          }
         },
         "name": "BLUE TEA TOWEL CLASSIC DESIGN",
         "orientation": "v",
         "showlegend": true,
         "textposition": "auto",
         "type": "bar",
         "width": 0.6,
         "x": [
          "543737"
         ],
         "xaxis": "x",
         "y": {
          "bdata": "AAAAAAAALkA=",
          "dtype": "f8"
         },
         "yaxis": "y"
        },
        {
         "hovertemplate": "Product= SET 2 TEA TOWELS I LOVE LONDON <br>Invoice Number=%{x}<br>Revenue ($)=%{y}<extra></extra>",
         "legendgroup": " SET 2 TEA TOWELS I LOVE LONDON ",
         "marker": {
          "color": "#FF6692",
          "pattern": {
           "shape": ""
          }
         },
         "name": " SET 2 TEA TOWELS I LOVE LONDON ",
         "orientation": "v",
         "showlegend": true,
         "textposition": "auto",
         "type": "bar",
         "width": 0.6,
         "x": [
          "543737",
          "552978"
         ],
         "xaxis": "x",
         "y": {
          "bdata": "NDMzMzOzMUA0MzMzM7NRQA==",
          "dtype": "f8"
         },
         "yaxis": "y"
        },
        {
         "hovertemplate": "Product=SET OF 16 VINTAGE ROSE CUTLERY<br>Invoice Number=%{x}<br>Revenue ($)=%{y}<extra></extra>",
         "legendgroup": "SET OF 16 VINTAGE ROSE CUTLERY",
         "marker": {
          "color": "#B6E880",
          "pattern": {
           "shape": ""
          }
         },
         "name": "SET OF 16 VINTAGE ROSE CUTLERY",
         "orientation": "v",
         "showlegend": true,
         "textposition": "auto",
         "type": "bar",
         "width": 0.6,
         "x": [
          "543737",
          "550137",
          "564856"
         ],
         "xaxis": "x",
         "y": {
          "bdata": "AAAAAADgT0AAAAAAAOBPQMzMzMzMbHBA",
          "dtype": "f8"
         },
         "yaxis": "y"
        },
        {
         "hovertemplate": "Product=SET OF 16 VINTAGE RED CUTLERY<br>Invoice Number=%{x}<br>Revenue ($)=%{y}<extra></extra>",
         "legendgroup": "SET OF 16 VINTAGE RED CUTLERY",
         "marker": {
          "color": "#FF97FF",
          "pattern": {
           "shape": ""
          }
         },
         "name": "SET OF 16 VINTAGE RED CUTLERY",
         "orientation": "v",
         "showlegend": true,
         "textposition": "auto",
         "type": "bar",
         "width": 0.6,
         "x": [
          "543737"
         ],
         "xaxis": "x",
         "y": {
          "bdata": "AAAAAADgX0A=",
          "dtype": "f8"
         },
         "yaxis": "y"
        },
        {
         "hovertemplate": "Product=SET OF 16 VINTAGE SKY BLUE CUTLERY<br>Invoice Number=%{x}<br>Revenue ($)=%{y}<extra></extra>",
         "legendgroup": "SET OF 16 VINTAGE SKY BLUE CUTLERY",
         "marker": {
          "color": "#FECB52",
          "pattern": {
           "shape": ""
          }
         },
         "name": "SET OF 16 VINTAGE SKY BLUE CUTLERY",
         "orientation": "v",
         "showlegend": true,
         "textposition": "auto",
         "type": "bar",
         "width": 0.6,
         "x": [
          "543737",
          "564856"
         ],
         "xaxis": "x",
         "y": {
          "bdata": "AAAAAADgT0DMzMzMzGxwQA==",
          "dtype": "f8"
         },
         "yaxis": "y"
        },
        {
         "hovertemplate": "Product=RED 3 PIECE RETROSPOT CUTLERY SET<br>Invoice Number=%{x}<br>Revenue ($)=%{y}<extra></extra>",
         "legendgroup": "RED 3 PIECE RETROSPOT CUTLERY SET",
         "marker": {
          "color": "#636efa",
          "pattern": {
           "shape": ""
          }
         },
         "name": "RED 3 PIECE RETROSPOT CUTLERY SET",
         "orientation": "v",
         "showlegend": true,
         "textposition": "auto",
         "type": "bar",
         "width": 0.6,
         "x": [
          "543737"
         ],
         "xaxis": "x",
         "y": {
          "bdata": "AAAAAACANkA=",
          "dtype": "f8"
         },
         "yaxis": "y"
        },
        {
         "hovertemplate": "Product=FELT EGG COSY BLUE RABBIT <br>Invoice Number=%{x}<br>Revenue ($)=%{y}<extra></extra>",
         "legendgroup": "FELT EGG COSY BLUE RABBIT ",
         "marker": {
          "color": "#EF553B",
          "pattern": {
           "shape": ""
          }
         },
         "name": "FELT EGG COSY BLUE RABBIT ",
         "orientation": "v",
         "showlegend": true,
         "textposition": "auto",
         "type": "bar",
         "width": 0.6,
         "x": [
          "543737"
         ],
         "xaxis": "x",
         "y": {
          "bdata": "ZmZmZmZmJEA=",
          "dtype": "f8"
         },
         "yaxis": "y"
        },
        {
         "hovertemplate": "Product=FELT EGG COSY CHICKEN<br>Invoice Number=%{x}<br>Revenue ($)=%{y}<extra></extra>",
         "legendgroup": "FELT EGG COSY CHICKEN",
         "marker": {
          "color": "#00cc96",
          "pattern": {
           "shape": ""
          }
         },
         "name": "FELT EGG COSY CHICKEN",
         "orientation": "v",
         "showlegend": true,
         "textposition": "auto",
         "type": "bar",
         "width": 0.6,
         "x": [
          "543737",
          "564856"
         ],
         "xaxis": "x",
         "y": {
          "bdata": "ZmZmZmZmJECZmZmZmZk+QA==",
          "dtype": "f8"
         },
         "yaxis": "y"
        },
        {
         "hovertemplate": "Product=PINK  HEART SHAPE LOVE BUCKET <br>Invoice Number=%{x}<br>Revenue ($)=%{y}<extra></extra>",
         "legendgroup": "PINK  HEART SHAPE LOVE BUCKET ",
         "marker": {
          "color": "#ab63fa",
          "pattern": {
           "shape": ""
          }
         },
         "name": "PINK  HEART SHAPE LOVE BUCKET ",
         "orientation": "v",
         "showlegend": true,
         "textposition": "auto",
         "type": "bar",
         "width": 0.6,
         "x": [
          "543737",
          "550137"
         ],
         "xaxis": "x",
         "y": {
          "bdata": "zczMzMyMWkDNzMzMzIxaQA==",
          "dtype": "f8"
         },
         "yaxis": "y"
        },
        {
         "hovertemplate": "Product=RED HEART SHAPE LOVE BUCKET <br>Invoice Number=%{x}<br>Revenue ($)=%{y}<extra></extra>",
         "legendgroup": "RED HEART SHAPE LOVE BUCKET ",
         "marker": {
          "color": "#FFA15A",
          "pattern": {
           "shape": ""
          }
         },
         "name": "RED HEART SHAPE LOVE BUCKET ",
         "orientation": "v",
         "showlegend": true,
         "textposition": "auto",
         "type": "bar",
         "width": 0.6,
         "x": [
          "543737",
          "550137"
         ],
         "xaxis": "x",
         "y": {
          "bdata": "NDMzMzOzQUDNzMzMzIxaQA==",
          "dtype": "f8"
         },
         "yaxis": "y"
        },
        {
         "hovertemplate": "Product=RETROSPOT HEART HOT WATER BOTTLE<br>Invoice Number=%{x}<br>Revenue ($)=%{y}<extra></extra>",
         "legendgroup": "RETROSPOT HEART HOT WATER BOTTLE",
         "marker": {
          "color": "#19d3f3",
          "pattern": {
           "shape": ""
          }
         },
         "name": "RETROSPOT HEART HOT WATER BOTTLE",
         "orientation": "v",
         "showlegend": true,
         "textposition": "auto",
         "type": "bar",
         "width": 0.6,
         "x": [
          "543737"
         ],
         "xaxis": "x",
         "y": {
          "bdata": "zczMzMz8WUA=",
          "dtype": "f8"
         },
         "yaxis": "y"
        },
        {
         "hovertemplate": "Product=SUKI  SHOULDER BAG<br>Invoice Number=%{x}<br>Revenue ($)=%{y}<extra></extra>",
         "legendgroup": "SUKI  SHOULDER BAG",
         "marker": {
          "color": "#FF6692",
          "pattern": {
           "shape": ""
          }
         },
         "name": "SUKI  SHOULDER BAG",
         "orientation": "v",
         "showlegend": true,
         "textposition": "auto",
         "type": "bar",
         "width": 0.6,
         "x": [
          "543737"
         ],
         "xaxis": "x",
         "y": {
          "bdata": "AAAAAACAMEA=",
          "dtype": "f8"
         },
         "yaxis": "y"
        },
        {
         "hovertemplate": "Product=SILK PURSE BABUSHKA PINK<br>Invoice Number=%{x}<br>Revenue ($)=%{y}<extra></extra>",
         "legendgroup": "SILK PURSE BABUSHKA PINK",
         "marker": {
          "color": "#B6E880",
          "pattern": {
           "shape": ""
          }
         },
         "name": "SILK PURSE BABUSHKA PINK",
         "orientation": "v",
         "showlegend": true,
         "textposition": "auto",
         "type": "bar",
         "width": 0.6,
         "x": [
          "543737",
          "550137"
         ],
         "xaxis": "x",
         "y": {
          "bdata": "mpmZmZkZNECamZmZmRk0QA==",
          "dtype": "f8"
         },
         "yaxis": "y"
        },
        {
         "hovertemplate": "Product=FOLDING UMBRELLA RED/WHITE POLKADOT<br>Invoice Number=%{x}<br>Revenue ($)=%{y}<extra></extra>",
         "legendgroup": "FOLDING UMBRELLA RED/WHITE POLKADOT",
         "marker": {
          "color": "#FF97FF",
          "pattern": {
           "shape": ""
          }
         },
         "name": "FOLDING UMBRELLA RED/WHITE POLKADOT",
         "orientation": "v",
         "showlegend": true,
         "textposition": "auto",
         "type": "bar",
         "width": 0.6,
         "x": [
          "543737",
          "564856"
         ],
         "xaxis": "x",
         "y": {
          "bdata": "zczMzMzMM0DNzMzMzMwzQA==",
          "dtype": "f8"
         },
         "yaxis": "y"
        },
        {
         "hovertemplate": "Product=ORGANISER WOOD ANTIQUE WHITE <br>Invoice Number=%{x}<br>Revenue ($)=%{y}<extra></extra>",
         "legendgroup": "ORGANISER WOOD ANTIQUE WHITE ",
         "marker": {
          "color": "#FECB52",
          "pattern": {
           "shape": ""
          }
         },
         "name": "ORGANISER WOOD ANTIQUE WHITE ",
         "orientation": "v",
         "showlegend": true,
         "textposition": "auto",
         "type": "bar",
         "width": 0.6,
         "x": [
          "543737"
         ],
         "xaxis": "x",
         "y": {
          "bdata": "AAAAAAAAMUA=",
          "dtype": "f8"
         },
         "yaxis": "y"
        },
        {
         "hovertemplate": "Product=RED STRIPE CERAMIC DRAWER KNOB<br>Invoice Number=%{x}<br>Revenue ($)=%{y}<extra></extra>",
         "legendgroup": "RED STRIPE CERAMIC DRAWER KNOB",
         "marker": {
          "color": "#636efa",
          "pattern": {
           "shape": ""
          }
         },
         "name": "RED STRIPE CERAMIC DRAWER KNOB",
         "orientation": "v",
         "showlegend": true,
         "textposition": "auto",
         "type": "bar",
         "width": 0.6,
         "x": [
          "543737",
          "564856"
         ],
         "xaxis": "x",
         "y": {
          "bdata": "AAAAAAAALkAAAAAAAAAuQA==",
          "dtype": "f8"
         },
         "yaxis": "y"
        },
        {
         "hovertemplate": "Product=BLUE STRIPE CERAMIC DRAWER KNOB<br>Invoice Number=%{x}<br>Revenue ($)=%{y}<extra></extra>",
         "legendgroup": "BLUE STRIPE CERAMIC DRAWER KNOB",
         "marker": {
          "color": "#EF553B",
          "pattern": {
           "shape": ""
          }
         },
         "name": "BLUE STRIPE CERAMIC DRAWER KNOB",
         "orientation": "v",
         "showlegend": true,
         "textposition": "auto",
         "type": "bar",
         "width": 0.6,
         "x": [
          "543737"
         ],
         "xaxis": "x",
         "y": {
          "bdata": "AAAAAAAALkA=",
          "dtype": "f8"
         },
         "yaxis": "y"
        },
        {
         "hovertemplate": "Product=DOORMAT FAIRY CAKE<br>Invoice Number=%{x}<br>Revenue ($)=%{y}<extra></extra>",
         "legendgroup": "DOORMAT FAIRY CAKE",
         "marker": {
          "color": "#00cc96",
          "pattern": {
           "shape": ""
          }
         },
         "name": "DOORMAT FAIRY CAKE",
         "orientation": "v",
         "showlegend": true,
         "textposition": "auto",
         "type": "bar",
         "width": 0.6,
         "x": [
          "550137",
          "564856"
         ],
         "xaxis": "x",
         "y": {
          "bdata": "zczMzMzML0DNzMzMzMw/QA==",
          "dtype": "f8"
         },
         "yaxis": "y"
        },
        {
         "hovertemplate": "Product=DOORMAT UNION FLAG<br>Invoice Number=%{x}<br>Revenue ($)=%{y}<extra></extra>",
         "legendgroup": "DOORMAT UNION FLAG",
         "marker": {
          "color": "#ab63fa",
          "pattern": {
           "shape": ""
          }
         },
         "name": "DOORMAT UNION FLAG",
         "orientation": "v",
         "showlegend": true,
         "textposition": "auto",
         "type": "bar",
         "width": 0.6,
         "x": [
          "550137"
         ],
         "xaxis": "x",
         "y": {
          "bdata": "zczMzMzML0A=",
          "dtype": "f8"
         },
         "yaxis": "y"
        },
        {
         "hovertemplate": "Product=DOORMAT WELCOME PUPPIES<br>Invoice Number=%{x}<br>Revenue ($)=%{y}<extra></extra>",
         "legendgroup": "DOORMAT WELCOME PUPPIES",
         "marker": {
          "color": "#FFA15A",
          "pattern": {
           "shape": ""
          }
         },
         "name": "DOORMAT WELCOME PUPPIES",
         "orientation": "v",
         "showlegend": true,
         "textposition": "auto",
         "type": "bar",
         "width": 0.6,
         "x": [
          "550137",
          "564856"
         ],
         "xaxis": "x",
         "y": {
          "bdata": "zczMzMzML0DNzMzMzMw/QA==",
          "dtype": "f8"
         },
         "yaxis": "y"
        },
        {
         "hovertemplate": "Product=JAM JAR WITH PINK LID<br>Invoice Number=%{x}<br>Revenue ($)=%{y}<extra></extra>",
         "legendgroup": "JAM JAR WITH PINK LID",
         "marker": {
          "color": "#19d3f3",
          "pattern": {
           "shape": ""
          }
         },
         "name": "JAM JAR WITH PINK LID",
         "orientation": "v",
         "showlegend": true,
         "textposition": "auto",
         "type": "bar",
         "width": 0.6,
         "x": [
          "550137"
         ],
         "xaxis": "x",
         "y": {
          "bdata": "ZmZmZmZmJEA=",
          "dtype": "f8"
         },
         "yaxis": "y"
        },
        {
         "hovertemplate": "Product=PIN CUSHION BABUSHKA PINK<br>Invoice Number=%{x}<br>Revenue ($)=%{y}<extra></extra>",
         "legendgroup": "PIN CUSHION BABUSHKA PINK",
         "marker": {
          "color": "#FF6692",
          "pattern": {
           "shape": ""
          }
         },
         "name": "PIN CUSHION BABUSHKA PINK",
         "orientation": "v",
         "showlegend": true,
         "textposition": "auto",
         "type": "bar",
         "width": 0.6,
         "x": [
          "550137"
         ],
         "xaxis": "x",
         "y": {
          "bdata": "mpmZmZkZREA=",
          "dtype": "f8"
         },
         "yaxis": "y"
        },
        {
         "hovertemplate": "Product=PIN CUSHION BABUSHKA BLUE<br>Invoice Number=%{x}<br>Revenue ($)=%{y}<extra></extra>",
         "legendgroup": "PIN CUSHION BABUSHKA BLUE",
         "marker": {
          "color": "#B6E880",
          "pattern": {
           "shape": ""
          }
         },
         "name": "PIN CUSHION BABUSHKA BLUE",
         "orientation": "v",
         "showlegend": true,
         "textposition": "auto",
         "type": "bar",
         "width": 0.6,
         "x": [
          "550137"
         ],
         "xaxis": "x",
         "y": {
          "bdata": "mpmZmZkZNEA=",
          "dtype": "f8"
         },
         "yaxis": "y"
        },
        {
         "hovertemplate": "Product=MEASURING TAPE BABUSHKA BLUE<br>Invoice Number=%{x}<br>Revenue ($)=%{y}<extra></extra>",
         "legendgroup": "MEASURING TAPE BABUSHKA BLUE",
         "marker": {
          "color": "#FF97FF",
          "pattern": {
           "shape": ""
          }
         },
         "name": "MEASURING TAPE BABUSHKA BLUE",
         "orientation": "v",
         "showlegend": true,
         "textposition": "auto",
         "type": "bar",
         "width": 0.6,
         "x": [
          "550137"
         ],
         "xaxis": "x",
         "y": {
          "bdata": "NDMzMzOzMUA=",
          "dtype": "f8"
         },
         "yaxis": "y"
        },
        {
         "hovertemplate": "Product=VICTORIAN SEWING BOX MEDIUM<br>Invoice Number=%{x}<br>Revenue ($)=%{y}<extra></extra>",
         "legendgroup": "VICTORIAN SEWING BOX MEDIUM",
         "marker": {
          "color": "#FECB52",
          "pattern": {
           "shape": ""
          }
         },
         "name": "VICTORIAN SEWING BOX MEDIUM",
         "orientation": "v",
         "showlegend": true,
         "textposition": "auto",
         "type": "bar",
         "width": 0.6,
         "x": [
          "550137"
         ],
         "xaxis": "x",
         "y": {
          "bdata": "zczMzMzML0A=",
          "dtype": "f8"
         },
         "yaxis": "y"
        },
        {
         "hovertemplate": "Product=PINK PAPER PARASOL <br>Invoice Number=%{x}<br>Revenue ($)=%{y}<extra></extra>",
         "legendgroup": "PINK PAPER PARASOL ",
         "marker": {
          "color": "#636efa",
          "pattern": {
           "shape": ""
          }
         },
         "name": "PINK PAPER PARASOL ",
         "orientation": "v",
         "showlegend": true,
         "textposition": "auto",
         "type": "bar",
         "width": 0.6,
         "x": [
          "550137",
          "564856"
         ],
         "xaxis": "x",
         "y": {
          "bdata": "NDMzMzOzMUA0MzMzM7MxQA==",
          "dtype": "f8"
         },
         "yaxis": "y"
        },
        {
         "hovertemplate": "Product=GUMBALL COAT RACK<br>Invoice Number=%{x}<br>Revenue ($)=%{y}<extra></extra>",
         "legendgroup": "GUMBALL COAT RACK",
         "marker": {
          "color": "#EF553B",
          "pattern": {
           "shape": ""
          }
         },
         "name": "GUMBALL COAT RACK",
         "orientation": "v",
         "showlegend": true,
         "textposition": "auto",
         "type": "bar",
         "width": 0.6,
         "x": [
          "550137"
         ],
         "xaxis": "x",
         "y": {
          "bdata": "mZmZmZmZPkA=",
          "dtype": "f8"
         },
         "yaxis": "y"
        },
        {
         "hovertemplate": "Product=BATHROOM METAL SIGN<br>Invoice Number=%{x}<br>Revenue ($)=%{y}<extra></extra>",
         "legendgroup": "BATHROOM METAL SIGN",
         "marker": {
          "color": "#00cc96",
          "pattern": {
           "shape": ""
          }
         },
         "name": "BATHROOM METAL SIGN",
         "orientation": "v",
         "showlegend": true,
         "textposition": "auto",
         "type": "bar",
         "width": 0.6,
         "x": [
          "550137"
         ],
         "xaxis": "x",
         "y": {
          "bdata": "Z2ZmZmZmGkA=",
          "dtype": "f8"
         },
         "yaxis": "y"
        },
        {
         "hovertemplate": "Product=HOME SWEET HOME METAL SIGN <br>Invoice Number=%{x}<br>Revenue ($)=%{y}<extra></extra>",
         "legendgroup": "HOME SWEET HOME METAL SIGN ",
         "marker": {
          "color": "#ab63fa",
          "pattern": {
           "shape": ""
          }
         },
         "name": "HOME SWEET HOME METAL SIGN ",
         "orientation": "v",
         "showlegend": true,
         "textposition": "auto",
         "type": "bar",
         "width": 0.6,
         "x": [
          "550137",
          "552978",
          "564856"
         ],
         "xaxis": "x",
         "y": {
          "bdata": "NDMzMzOzQUAzMzMzM/NmQM3MzMzMjEpA",
          "dtype": "f8"
         },
         "yaxis": "y"
        },
        {
         "hovertemplate": "Product=PINK FEATHERS CURTAIN<br>Invoice Number=%{x}<br>Revenue ($)=%{y}<extra></extra>",
         "legendgroup": "PINK FEATHERS CURTAIN",
         "marker": {
          "color": "#FFA15A",
          "pattern": {
           "shape": ""
          }
         },
         "name": "PINK FEATHERS CURTAIN",
         "orientation": "v",
         "showlegend": true,
         "textposition": "auto",
         "type": "bar",
         "width": 0.6,
         "x": [
          "550137"
         ],
         "xaxis": "x",
         "y": {
          "bdata": "AAAAAAAAOUA=",
          "dtype": "f8"
         },
         "yaxis": "y"
        },
        {
         "hovertemplate": "Product=POMPOM CURTAIN<br>Invoice Number=%{x}<br>Revenue ($)=%{y}<extra></extra>",
         "legendgroup": "POMPOM CURTAIN",
         "marker": {
          "color": "#19d3f3",
          "pattern": {
           "shape": ""
          }
         },
         "name": "POMPOM CURTAIN",
         "orientation": "v",
         "showlegend": true,
         "textposition": "auto",
         "type": "bar",
         "width": 0.6,
         "x": [
          "550137",
          "564856"
         ],
         "xaxis": "x",
         "y": {
          "bdata": "mpmZmZnZUUCamZmZmdlRQA==",
          "dtype": "f8"
         },
         "yaxis": "y"
        },
        {
         "hovertemplate": "Product=RED RETROSPOT APRON <br>Invoice Number=%{x}<br>Revenue ($)=%{y}<extra></extra>",
         "legendgroup": "RED RETROSPOT APRON ",
         "marker": {
          "color": "#FF6692",
          "pattern": {
           "shape": ""
          }
         },
         "name": "RED RETROSPOT APRON ",
         "orientation": "v",
         "showlegend": true,
         "textposition": "auto",
         "type": "bar",
         "width": 0.6,
         "x": [
          "550137"
         ],
         "xaxis": "x",
         "y": {
          "bdata": "mpmZmZnZMUA=",
          "dtype": "f8"
         },
         "yaxis": "y"
        },
        {
         "hovertemplate": "Product=PING MICROWAVE APRON<br>Invoice Number=%{x}<br>Revenue ($)=%{y}<extra></extra>",
         "legendgroup": "PING MICROWAVE APRON",
         "marker": {
          "color": "#B6E880",
          "pattern": {
           "shape": ""
          }
         },
         "name": "PING MICROWAVE APRON",
         "orientation": "v",
         "showlegend": true,
         "textposition": "auto",
         "type": "bar",
         "width": 0.6,
         "x": [
          "550137"
         ],
         "xaxis": "x",
         "y": {
          "bdata": "ZmZmZmZmN0A=",
          "dtype": "f8"
         },
         "yaxis": "y"
        },
        {
         "hovertemplate": "Product=COTTON APRON PANTRY DESIGN<br>Invoice Number=%{x}<br>Revenue ($)=%{y}<extra></extra>",
         "legendgroup": "COTTON APRON PANTRY DESIGN",
         "marker": {
          "color": "#FF97FF",
          "pattern": {
           "shape": ""
          }
         },
         "name": "COTTON APRON PANTRY DESIGN",
         "orientation": "v",
         "showlegend": true,
         "textposition": "auto",
         "type": "bar",
         "width": 0.6,
         "x": [
          "550137",
          "552978"
         ],
         "xaxis": "x",
         "y": {
          "bdata": "NDMzMzOzPUAAAAAAAJBqQA==",
          "dtype": "f8"
         },
         "yaxis": "y"
        },
        {
         "hovertemplate": "Product=APRON APPLE DELIGHT<br>Invoice Number=%{x}<br>Revenue ($)=%{y}<extra></extra>",
         "legendgroup": "APRON APPLE DELIGHT",
         "marker": {
          "color": "#FECB52",
          "pattern": {
           "shape": ""
          }
         },
         "name": "APRON APPLE DELIGHT",
         "orientation": "v",
         "showlegend": true,
         "textposition": "auto",
         "type": "bar",
         "width": 0.6,
         "x": [
          "550137",
          "552978"
         ],
         "xaxis": "x",
         "y": {
          "bdata": "zczMzMzMM0AAAAAAAJBqQA==",
          "dtype": "f8"
         },
         "yaxis": "y"
        },
        {
         "hovertemplate": "Product=PANTRY WASHING UP BRUSH<br>Invoice Number=%{x}<br>Revenue ($)=%{y}<extra></extra>",
         "legendgroup": "PANTRY WASHING UP BRUSH",
         "marker": {
          "color": "#636efa",
          "pattern": {
           "shape": ""
          }
         },
         "name": "PANTRY WASHING UP BRUSH",
         "orientation": "v",
         "showlegend": true,
         "textposition": "auto",
         "type": "bar",
         "width": 0.6,
         "x": [
          "550137"
         ],
         "xaxis": "x",
         "y": {
          "bdata": "ZmZmZmZmMUA=",
          "dtype": "f8"
         },
         "yaxis": "y"
        },
        {
         "hovertemplate": "Product=PACK OF 72 RETROSPOT CAKE CASES<br>Invoice Number=%{x}<br>Revenue ($)=%{y}<extra></extra>",
         "legendgroup": "PACK OF 72 RETROSPOT CAKE CASES",
         "marker": {
          "color": "#EF553B",
          "pattern": {
           "shape": ""
          }
         },
         "name": "PACK OF 72 RETROSPOT CAKE CASES",
         "orientation": "v",
         "showlegend": true,
         "textposition": "auto",
         "type": "bar",
         "width": 0.6,
         "x": [
          "550137"
         ],
         "xaxis": "x",
         "y": {
          "bdata": "Z2ZmZmZmKkA=",
          "dtype": "f8"
         },
         "yaxis": "y"
        },
        {
         "hovertemplate": "Product=RED RETROSPOT PEG BAG<br>Invoice Number=%{x}<br>Revenue ($)=%{y}<extra></extra>",
         "legendgroup": "RED RETROSPOT PEG BAG",
         "marker": {
          "color": "#00cc96",
          "pattern": {
           "shape": ""
          }
         },
         "name": "RED RETROSPOT PEG BAG",
         "orientation": "v",
         "showlegend": true,
         "textposition": "auto",
         "type": "bar",
         "width": 0.6,
         "x": [
          "550137",
          "552978",
          "564856"
         ],
         "xaxis": "x",
         "y": {
          "bdata": "mZmZmZmZPkCZmZmZmZleQJmZmZmZmT5A",
          "dtype": "f8"
         },
         "yaxis": "y"
        },
        {
         "hovertemplate": "Product=FRYING PAN PINK POLKADOT<br>Invoice Number=%{x}<br>Revenue ($)=%{y}<extra></extra>",
         "legendgroup": "FRYING PAN PINK POLKADOT",
         "marker": {
          "color": "#ab63fa",
          "pattern": {
           "shape": ""
          }
         },
         "name": "FRYING PAN PINK POLKADOT",
         "orientation": "v",
         "showlegend": true,
         "textposition": "auto",
         "type": "bar",
         "width": 0.6,
         "x": [
          "550137",
          "564856"
         ],
         "xaxis": "x",
         "y": {
          "bdata": "AAAAAAAAQUAAAAAAAAAxQA==",
          "dtype": "f8"
         },
         "yaxis": "y"
        },
        {
         "hovertemplate": "Product=SET/2 RED RETROSPOT TEA TOWELS <br>Invoice Number=%{x}<br>Revenue ($)=%{y}<extra></extra>",
         "legendgroup": "SET/2 RED RETROSPOT TEA TOWELS ",
         "marker": {
          "color": "#FFA15A",
          "pattern": {
           "shape": ""
          }
         },
         "name": "SET/2 RED RETROSPOT TEA TOWELS ",
         "orientation": "v",
         "showlegend": true,
         "textposition": "auto",
         "type": "bar",
         "width": 0.6,
         "x": [
          "550137",
          "552978"
         ],
         "xaxis": "x",
         "y": {
          "bdata": "AAAAAAAwcUAAAAAAADBxQA==",
          "dtype": "f8"
         },
         "yaxis": "y"
        },
        {
         "hovertemplate": "Product=SET 2 PANTRY DESIGN TEA TOWELS<br>Invoice Number=%{x}<br>Revenue ($)=%{y}<extra></extra>",
         "legendgroup": "SET 2 PANTRY DESIGN TEA TOWELS",
         "marker": {
          "color": "#19d3f3",
          "pattern": {
           "shape": ""
          }
         },
         "name": "SET 2 PANTRY DESIGN TEA TOWELS",
         "orientation": "v",
         "showlegend": true,
         "textposition": "auto",
         "type": "bar",
         "width": 0.6,
         "x": [
          "550137",
          "552978"
         ],
         "xaxis": "x",
         "y": {
          "bdata": "AAAAAACAM0AAAAAAADBxQA==",
          "dtype": "f8"
         },
         "yaxis": "y"
        },
        {
         "hovertemplate": "Product=RED RETROSPOT OVEN GLOVE DOUBLE<br>Invoice Number=%{x}<br>Revenue ($)=%{y}<extra></extra>",
         "legendgroup": "RED RETROSPOT OVEN GLOVE DOUBLE",
         "marker": {
          "color": "#FF6692",
          "pattern": {
           "shape": ""
          }
         },
         "name": "RED RETROSPOT OVEN GLOVE DOUBLE",
         "orientation": "v",
         "showlegend": true,
         "textposition": "auto",
         "type": "bar",
         "width": 0.6,
         "x": [
          "550137"
         ],
         "xaxis": "x",
         "y": {
          "bdata": "NDMzMzOzMUA=",
          "dtype": "f8"
         },
         "yaxis": "y"
        },
        {
         "hovertemplate": "Product=BLACK KITCHEN SCALES<br>Invoice Number=%{x}<br>Revenue ($)=%{y}<extra></extra>",
         "legendgroup": "BLACK KITCHEN SCALES",
         "marker": {
          "color": "#B6E880",
          "pattern": {
           "shape": ""
          }
         },
         "name": "BLACK KITCHEN SCALES",
         "orientation": "v",
         "showlegend": true,
         "textposition": "auto",
         "type": "bar",
         "width": 0.6,
         "x": [
          "550137",
          "552978"
         ],
         "xaxis": "x",
         "y": {
          "bdata": "AAAAAAAAMUA0MzMzM/NWQA==",
          "dtype": "f8"
         },
         "yaxis": "y"
        },
        {
         "hovertemplate": "Product=RETROSPOT RED WASHING UP GLOVES<br>Invoice Number=%{x}<br>Revenue ($)=%{y}<extra></extra>",
         "legendgroup": "RETROSPOT RED WASHING UP GLOVES",
         "marker": {
          "color": "#FF97FF",
          "pattern": {
           "shape": ""
          }
         },
         "name": "RETROSPOT RED WASHING UP GLOVES",
         "orientation": "v",
         "showlegend": true,
         "textposition": "auto",
         "type": "bar",
         "width": 0.6,
         "x": [
          "550137",
          "564856"
         ],
         "xaxis": "x",
         "y": {
          "bdata": "NDMzMzMzKUA0MzMzMzMpQA==",
          "dtype": "f8"
         },
         "yaxis": "y"
        },
        {
         "hovertemplate": "Product=RED RETROSPOT PICNIC BAG<br>Invoice Number=%{x}<br>Revenue ($)=%{y}<extra></extra>",
         "legendgroup": "RED RETROSPOT PICNIC BAG",
         "marker": {
          "color": "#FECB52",
          "pattern": {
           "shape": ""
          }
         },
         "name": "RED RETROSPOT PICNIC BAG",
         "orientation": "v",
         "showlegend": true,
         "textposition": "auto",
         "type": "bar",
         "width": 0.6,
         "x": [
          "550137",
          "552978"
         ],
         "xaxis": "x",
         "y": {
          "bdata": "AAAAAACAPUD//////99fQA==",
          "dtype": "f8"
         },
         "yaxis": "y"
        },
        {
         "hovertemplate": "Product=JUMBO BAG APPLES<br>Invoice Number=%{x}<br>Revenue ($)=%{y}<extra></extra>",
         "legendgroup": "JUMBO BAG APPLES",
         "marker": {
          "color": "#636efa",
          "pattern": {
           "shape": ""
          }
         },
         "name": "JUMBO BAG APPLES",
         "orientation": "v",
         "showlegend": true,
         "textposition": "auto",
         "type": "bar",
         "width": 0.6,
         "x": [
          "550137"
         ],
         "xaxis": "x",
         "y": {
          "bdata": "zczMzMzMNEA=",
          "dtype": "f8"
         },
         "yaxis": "y"
        },
        {
         "hovertemplate": "Product=RED RETROSPOT MINI CASES<br>Invoice Number=%{x}<br>Revenue ($)=%{y}<extra></extra>",
         "legendgroup": "RED RETROSPOT MINI CASES",
         "marker": {
          "color": "#EF553B",
          "pattern": {
           "shape": ""
          }
         },
         "name": "RED RETROSPOT MINI CASES",
         "orientation": "v",
         "showlegend": true,
         "textposition": "auto",
         "type": "bar",
         "width": 0.6,
         "x": [
          "550137",
          "564856"
         ],
         "xaxis": "x",
         "y": {
          "bdata": "zczMzMzML0AAAAAAAOBTQA==",
          "dtype": "f8"
         },
         "yaxis": "y"
        },
        {
         "hovertemplate": "Product=OVERNIGHT BAG VINTAGE ROSE PAISLEY<br>Invoice Number=%{x}<br>Revenue ($)=%{y}<extra></extra>",
         "legendgroup": "OVERNIGHT BAG VINTAGE ROSE PAISLEY",
         "marker": {
          "color": "#00cc96",
          "pattern": {
           "shape": ""
          }
         },
         "name": "OVERNIGHT BAG VINTAGE ROSE PAISLEY",
         "orientation": "v",
         "showlegend": true,
         "textposition": "auto",
         "type": "bar",
         "width": 0.6,
         "x": [
          "550137"
         ],
         "xaxis": "x",
         "y": {
          "bdata": "NDMzMzOzLUA=",
          "dtype": "f8"
         },
         "yaxis": "y"
        },
        {
         "hovertemplate": "Product=BLUE OWL SOFT TOY<br>Invoice Number=%{x}<br>Revenue ($)=%{y}<extra></extra>",
         "legendgroup": "BLUE OWL SOFT TOY",
         "marker": {
          "color": "#ab63fa",
          "pattern": {
           "shape": ""
          }
         },
         "name": "BLUE OWL SOFT TOY",
         "orientation": "v",
         "showlegend": true,
         "textposition": "auto",
         "type": "bar",
         "width": 0.6,
         "x": [
          "550137"
         ],
         "xaxis": "x",
         "y": {
          "bdata": "NDMzMzOzMUA=",
          "dtype": "f8"
         },
         "yaxis": "y"
        },
        {
         "hovertemplate": "Product=CERAMIC STRAWBERRY CAKE MONEY BANK<br>Invoice Number=%{x}<br>Revenue ($)=%{y}<extra></extra>",
         "legendgroup": "CERAMIC STRAWBERRY CAKE MONEY BANK",
         "marker": {
          "color": "#FFA15A",
          "pattern": {
           "shape": ""
          }
         },
         "name": "CERAMIC STRAWBERRY CAKE MONEY BANK",
         "orientation": "v",
         "showlegend": true,
         "textposition": "auto",
         "type": "bar",
         "width": 0.6,
         "x": [
          "550137"
         ],
         "xaxis": "x",
         "y": {
          "bdata": "ZmZmZmZmMUA=",
          "dtype": "f8"
         },
         "yaxis": "y"
        },
        {
         "hovertemplate": "Product=PIGGY BANK RETROSPOT <br>Invoice Number=%{x}<br>Revenue ($)=%{y}<extra></extra>",
         "legendgroup": "PIGGY BANK RETROSPOT ",
         "marker": {
          "color": "#19d3f3",
          "pattern": {
           "shape": ""
          }
         },
         "name": "PIGGY BANK RETROSPOT ",
         "orientation": "v",
         "showlegend": true,
         "textposition": "auto",
         "type": "bar",
         "width": 0.6,
         "x": [
          "550137"
         ],
         "xaxis": "x",
         "y": {
          "bdata": "ZmZmZmZmJEA=",
          "dtype": "f8"
         },
         "yaxis": "y"
        },
        {
         "hovertemplate": "Product=WOOD S/3 CABINET ANT WHITE FINISH<br>Invoice Number=%{x}<br>Revenue ($)=%{y}<extra></extra>",
         "legendgroup": "WOOD S/3 CABINET ANT WHITE FINISH",
         "marker": {
          "color": "#FF6692",
          "pattern": {
           "shape": ""
          }
         },
         "name": "WOOD S/3 CABINET ANT WHITE FINISH",
         "orientation": "v",
         "showlegend": true,
         "textposition": "auto",
         "type": "bar",
         "width": 0.6,
         "x": [
          "550137",
          "564856"
         ],
         "xaxis": "x",
         "y": {
          "bdata": "mZmZmZnZSkAAAAAAAGBWQA==",
          "dtype": "f8"
         },
         "yaxis": "y"
        },
        {
         "hovertemplate": "Product=DOORMAT MULTICOLOUR STRIPE<br>Invoice Number=%{x}<br>Revenue ($)=%{y}<extra></extra>",
         "legendgroup": "DOORMAT MULTICOLOUR STRIPE",
         "marker": {
          "color": "#B6E880",
          "pattern": {
           "shape": ""
          }
         },
         "name": "DOORMAT MULTICOLOUR STRIPE",
         "orientation": "v",
         "showlegend": true,
         "textposition": "auto",
         "type": "bar",
         "width": 0.6,
         "x": [
          "550137"
         ],
         "xaxis": "x",
         "y": {
          "bdata": "zczMzMzML0A=",
          "dtype": "f8"
         },
         "yaxis": "y"
        },
        {
         "hovertemplate": "Product=DOORMAT WELCOME TO OUR HOME<br>Invoice Number=%{x}<br>Revenue ($)=%{y}<extra></extra>",
         "legendgroup": "DOORMAT WELCOME TO OUR HOME",
         "marker": {
          "color": "#FF97FF",
          "pattern": {
           "shape": ""
          }
         },
         "name": "DOORMAT WELCOME TO OUR HOME",
         "orientation": "v",
         "showlegend": true,
         "textposition": "auto",
         "type": "bar",
         "width": 0.6,
         "x": [
          "550137",
          "552978"
         ],
         "xaxis": "x",
         "y": {
          "bdata": "AAAAAADgUEAAAAAAAOBQQA==",
          "dtype": "f8"
         },
         "yaxis": "y"
        },
        {
         "hovertemplate": "Product=DOORMAT ENGLISH ROSE <br>Invoice Number=%{x}<br>Revenue ($)=%{y}<extra></extra>",
         "legendgroup": "DOORMAT ENGLISH ROSE ",
         "marker": {
          "color": "#FECB52",
          "pattern": {
           "shape": ""
          }
         },
         "name": "DOORMAT ENGLISH ROSE ",
         "orientation": "v",
         "showlegend": true,
         "textposition": "auto",
         "type": "bar",
         "width": 0.6,
         "x": [
          "550137"
         ],
         "xaxis": "x",
         "y": {
          "bdata": "mpmZmZnZR0A=",
          "dtype": "f8"
         },
         "yaxis": "y"
        },
        {
         "hovertemplate": "Product=SWEETHEART CERAMIC TRINKET BOX<br>Invoice Number=%{x}<br>Revenue ($)=%{y}<extra></extra>",
         "legendgroup": "SWEETHEART CERAMIC TRINKET BOX",
         "marker": {
          "color": "#636efa",
          "pattern": {
           "shape": ""
          }
         },
         "name": "SWEETHEART CERAMIC TRINKET BOX",
         "orientation": "v",
         "showlegend": true,
         "textposition": "auto",
         "type": "bar",
         "width": 0.6,
         "x": [
          "550137"
         ],
         "xaxis": "x",
         "y": {
          "bdata": "AAAAAAAALkA=",
          "dtype": "f8"
         },
         "yaxis": "y"
        },
        {
         "hovertemplate": "Product=SET OF 16 VINTAGE PISTACHIO CUTLERY<br>Invoice Number=%{x}<br>Revenue ($)=%{y}<extra></extra>",
         "legendgroup": "SET OF 16 VINTAGE PISTACHIO CUTLERY",
         "marker": {
          "color": "#EF553B",
          "pattern": {
           "shape": ""
          }
         },
         "name": "SET OF 16 VINTAGE PISTACHIO CUTLERY",
         "orientation": "v",
         "showlegend": true,
         "textposition": "auto",
         "type": "bar",
         "width": 0.6,
         "x": [
          "550137",
          "564856"
         ],
         "xaxis": "x",
         "y": {
          "bdata": "AAAAAADgT0AAAAAAAOBPQA==",
          "dtype": "f8"
         },
         "yaxis": "y"
        },
        {
         "hovertemplate": "Product=RED RETROSPOT BUTTER DISH<br>Invoice Number=%{x}<br>Revenue ($)=%{y}<extra></extra>",
         "legendgroup": "RED RETROSPOT BUTTER DISH",
         "marker": {
          "color": "#00cc96",
          "pattern": {
           "shape": ""
          }
         },
         "name": "RED RETROSPOT BUTTER DISH",
         "orientation": "v",
         "showlegend": true,
         "textposition": "auto",
         "type": "bar",
         "width": 0.6,
         "x": [
          "550137",
          "564856"
         ],
         "xaxis": "x",
         "y": {
          "bdata": "NDMzMzOzTUAAAAAAACBTQA==",
          "dtype": "f8"
         },
         "yaxis": "y"
        },
        {
         "hovertemplate": "Product=RED RETROSPOT SUGAR JAM BOWL<br>Invoice Number=%{x}<br>Revenue ($)=%{y}<extra></extra>",
         "legendgroup": "RED RETROSPOT SUGAR JAM BOWL",
         "marker": {
          "color": "#ab63fa",
          "pattern": {
           "shape": ""
          }
         },
         "name": "RED RETROSPOT SUGAR JAM BOWL",
         "orientation": "v",
         "showlegend": true,
         "textposition": "auto",
         "type": "bar",
         "width": 0.6,
         "x": [
          "550137"
         ],
         "xaxis": "x",
         "y": {
          "bdata": "mZmZmZmZPkA=",
          "dtype": "f8"
         },
         "yaxis": "y"
        },
        {
         "hovertemplate": "Product=CAKE PLATE LOVEBIRD WHITE<br>Invoice Number=%{x}<br>Revenue ($)=%{y}<extra></extra>",
         "legendgroup": "CAKE PLATE LOVEBIRD WHITE",
         "marker": {
          "color": "#FFA15A",
          "pattern": {
           "shape": ""
          }
         },
         "name": "CAKE PLATE LOVEBIRD WHITE",
         "orientation": "v",
         "showlegend": true,
         "textposition": "auto",
         "type": "bar",
         "width": 0.6,
         "x": [
          "550137"
         ],
         "xaxis": "x",
         "y": {
          "bdata": "NDMzMzOzLUA=",
          "dtype": "f8"
         },
         "yaxis": "y"
        },
        {
         "hovertemplate": "Product=SMALL RED RETROSPOT MUG IN BOX <br>Invoice Number=%{x}<br>Revenue ($)=%{y}<extra></extra>",
         "legendgroup": "SMALL RED RETROSPOT MUG IN BOX ",
         "marker": {
          "color": "#19d3f3",
          "pattern": {
           "shape": ""
          }
         },
         "name": "SMALL RED RETROSPOT MUG IN BOX ",
         "orientation": "v",
         "showlegend": true,
         "textposition": "auto",
         "type": "bar",
         "width": 0.6,
         "x": [
          "550137"
         ],
         "xaxis": "x",
         "y": {
          "bdata": "AAAAAACANkA=",
          "dtype": "f8"
         },
         "yaxis": "y"
        },
        {
         "hovertemplate": "Product=HOME SWEET HOME MUG<br>Invoice Number=%{x}<br>Revenue ($)=%{y}<extra></extra>",
         "legendgroup": "HOME SWEET HOME MUG",
         "marker": {
          "color": "#FF6692",
          "pattern": {
           "shape": ""
          }
         },
         "name": "HOME SWEET HOME MUG",
         "orientation": "v",
         "showlegend": true,
         "textposition": "auto",
         "type": "bar",
         "width": 0.6,
         "x": [
          "550137"
         ],
         "xaxis": "x",
         "y": {
          "bdata": "AAAAAAAALkA=",
          "dtype": "f8"
         },
         "yaxis": "y"
        },
        {
         "hovertemplate": "Product=RED RETROSPOT UMBRELLA<br>Invoice Number=%{x}<br>Revenue ($)=%{y}<extra></extra>",
         "legendgroup": "RED RETROSPOT UMBRELLA",
         "marker": {
          "color": "#B6E880",
          "pattern": {
           "shape": ""
          }
         },
         "name": "RED RETROSPOT UMBRELLA",
         "orientation": "v",
         "showlegend": true,
         "textposition": "auto",
         "type": "bar",
         "width": 0.6,
         "x": [
          "552978"
         ],
         "xaxis": "x",
         "y": {
          "bdata": "NDMzMzOzbUA=",
          "dtype": "f8"
         },
         "yaxis": "y"
        },
        {
         "hovertemplate": "Product=BLACK/BLUE POLKADOT UMBRELLA<br>Invoice Number=%{x}<br>Revenue ($)=%{y}<extra></extra>",
         "legendgroup": "BLACK/BLUE POLKADOT UMBRELLA",
         "marker": {
          "color": "#FF97FF",
          "pattern": {
           "shape": ""
          }
         },
         "name": "BLACK/BLUE POLKADOT UMBRELLA",
         "orientation": "v",
         "showlegend": true,
         "textposition": "auto",
         "type": "bar",
         "width": 0.6,
         "x": [
          "552978"
         ],
         "xaxis": "x",
         "y": {
          "bdata": "NDMzMzOzbUA=",
          "dtype": "f8"
         },
         "yaxis": "y"
        },
        {
         "hovertemplate": "Product=CLOTHES PEGS RETROSPOT PACK 24 <br>Invoice Number=%{x}<br>Revenue ($)=%{y}<extra></extra>",
         "legendgroup": "CLOTHES PEGS RETROSPOT PACK 24 ",
         "marker": {
          "color": "#FECB52",
          "pattern": {
           "shape": ""
          }
         },
         "name": "CLOTHES PEGS RETROSPOT PACK 24 ",
         "orientation": "v",
         "showlegend": true,
         "textposition": "auto",
         "type": "bar",
         "width": 0.6,
         "x": [
          "552978"
         ],
         "xaxis": "x",
         "y": {
          "bdata": "AAAAAAAAXkA=",
          "dtype": "f8"
         },
         "yaxis": "y"
        },
        {
         "hovertemplate": "Product=ROUND CONTAINER SET OF 5 RETROSPOT<br>Invoice Number=%{x}<br>Revenue ($)=%{y}<extra></extra>",
         "legendgroup": "ROUND CONTAINER SET OF 5 RETROSPOT",
         "marker": {
          "color": "#636efa",
          "pattern": {
           "shape": ""
          }
         },
         "name": "ROUND CONTAINER SET OF 5 RETROSPOT",
         "orientation": "v",
         "showlegend": true,
         "textposition": "auto",
         "type": "bar",
         "width": 0.6,
         "x": [
          "552978",
          "564856"
         ],
         "xaxis": "x",
         "y": {
          "bdata": "ZmZmZmZmUUDMzMzMzMwzQA==",
          "dtype": "f8"
         },
         "yaxis": "y"
        },
        {
         "hovertemplate": "Product=LUNCH BOX WITH CUTLERY RETROSPOT <br>Invoice Number=%{x}<br>Revenue ($)=%{y}<extra></extra>",
         "legendgroup": "LUNCH BOX WITH CUTLERY RETROSPOT ",
         "marker": {
          "color": "#EF553B",
          "pattern": {
           "shape": ""
          }
         },
         "name": "LUNCH BOX WITH CUTLERY RETROSPOT ",
         "orientation": "v",
         "showlegend": true,
         "textposition": "auto",
         "type": "bar",
         "width": 0.6,
         "x": [
          "552978"
         ],
         "xaxis": "x",
         "y": {
          "bdata": "AAAAAACAX0A=",
          "dtype": "f8"
         },
         "yaxis": "y"
        },
        {
         "hovertemplate": "Product=LARGE HEART MEASURING SPOONS<br>Invoice Number=%{x}<br>Revenue ($)=%{y}<extra></extra>",
         "legendgroup": "LARGE HEART MEASURING SPOONS",
         "marker": {
          "color": "#00cc96",
          "pattern": {
           "shape": ""
          }
         },
         "name": "LARGE HEART MEASURING SPOONS",
         "orientation": "v",
         "showlegend": true,
         "textposition": "auto",
         "type": "bar",
         "width": 0.6,
         "x": [
          "552978"
         ],
         "xaxis": "x",
         "y": {
          "bdata": "zMzMzMzMQ0A=",
          "dtype": "f8"
         },
         "yaxis": "y"
        },
        {
         "hovertemplate": "Product=RED RETROSPOT OVEN GLOVE <br>Invoice Number=%{x}<br>Revenue ($)=%{y}<extra></extra>",
         "legendgroup": "RED RETROSPOT OVEN GLOVE ",
         "marker": {
          "color": "#ab63fa",
          "pattern": {
           "shape": ""
          }
         },
         "name": "RED RETROSPOT OVEN GLOVE ",
         "orientation": "v",
         "showlegend": true,
         "textposition": "auto",
         "type": "bar",
         "width": 0.6,
         "x": [
          "552978"
         ],
         "xaxis": "x",
         "y": {
          "bdata": "AAAAAAAASUA=",
          "dtype": "f8"
         },
         "yaxis": "y"
        },
        {
         "hovertemplate": "Product=RED RETROSPOT SHOPPING BAG<br>Invoice Number=%{x}<br>Revenue ($)=%{y}<extra></extra>",
         "legendgroup": "RED RETROSPOT SHOPPING BAG",
         "marker": {
          "color": "#FFA15A",
          "pattern": {
           "shape": ""
          }
         },
         "name": "RED RETROSPOT SHOPPING BAG",
         "orientation": "v",
         "showlegend": true,
         "textposition": "auto",
         "type": "bar",
         "width": 0.6,
         "x": [
          "552978"
         ],
         "xaxis": "x",
         "y": {
          "bdata": "mZmZmZmZXkA=",
          "dtype": "f8"
         },
         "yaxis": "y"
        },
        {
         "hovertemplate": "Product=SET OF 2 TEA TOWELS APPLE AND PEARS<br>Invoice Number=%{x}<br>Revenue ($)=%{y}<extra></extra>",
         "legendgroup": "SET OF 2 TEA TOWELS APPLE AND PEARS",
         "marker": {
          "color": "#19d3f3",
          "pattern": {
           "shape": ""
          }
         },
         "name": "SET OF 2 TEA TOWELS APPLE AND PEARS",
         "orientation": "v",
         "showlegend": true,
         "textposition": "auto",
         "type": "bar",
         "width": 0.6,
         "x": [
          "552978"
         ],
         "xaxis": "x",
         "y": {
          "bdata": "///////fb0A=",
          "dtype": "f8"
         },
         "yaxis": "y"
        },
        {
         "hovertemplate": "Product=BOTTLE BAG RETROSPOT <br>Invoice Number=%{x}<br>Revenue ($)=%{y}<extra></extra>",
         "legendgroup": "BOTTLE BAG RETROSPOT ",
         "marker": {
          "color": "#FF6692",
          "pattern": {
           "shape": ""
          }
         },
         "name": "BOTTLE BAG RETROSPOT ",
         "orientation": "v",
         "showlegend": true,
         "textposition": "auto",
         "type": "bar",
         "width": 0.6,
         "x": [
          "552978",
          "564856"
         ],
         "xaxis": "x",
         "y": {
          "bdata": "AAAAAAAgV0AAAAAAAAAlQA==",
          "dtype": "f8"
         },
         "yaxis": "y"
        },
        {
         "hovertemplate": "Product=DOORMAT RED RETROSPOT<br>Invoice Number=%{x}<br>Revenue ($)=%{y}<extra></extra>",
         "legendgroup": "DOORMAT RED RETROSPOT",
         "marker": {
          "color": "#B6E880",
          "pattern": {
           "shape": ""
          }
         },
         "name": "DOORMAT RED RETROSPOT",
         "orientation": "v",
         "showlegend": true,
         "textposition": "auto",
         "type": "bar",
         "width": 0.6,
         "x": [
          "552978",
          "564856"
         ],
         "xaxis": "x",
         "y": {
          "bdata": "AAAAAADgYEAAAAAAAOBQQA==",
          "dtype": "f8"
         },
         "yaxis": "y"
        },
        {
         "hovertemplate": "Product=NO SINGING METAL SIGN<br>Invoice Number=%{x}<br>Revenue ($)=%{y}<extra></extra>",
         "legendgroup": "NO SINGING METAL SIGN",
         "marker": {
          "color": "#FF97FF",
          "pattern": {
           "shape": ""
          }
         },
         "name": "NO SINGING METAL SIGN",
         "orientation": "v",
         "showlegend": true,
         "textposition": "auto",
         "type": "bar",
         "width": 0.6,
         "x": [
          "552978"
         ],
         "xaxis": "x",
         "y": {
          "bdata": "NDMzMzMzVkA=",
          "dtype": "f8"
         },
         "yaxis": "y"
        },
        {
         "hovertemplate": "Product=BEWARE OF THE CAT METAL SIGN <br>Invoice Number=%{x}<br>Revenue ($)=%{y}<extra></extra>",
         "legendgroup": "BEWARE OF THE CAT METAL SIGN ",
         "marker": {
          "color": "#FECB52",
          "pattern": {
           "shape": ""
          }
         },
         "name": "BEWARE OF THE CAT METAL SIGN ",
         "orientation": "v",
         "showlegend": true,
         "textposition": "auto",
         "type": "bar",
         "width": 0.6,
         "x": [
          "552978"
         ],
         "xaxis": "x",
         "y": {
          "bdata": "ZmZmZmZmUUA=",
          "dtype": "f8"
         },
         "yaxis": "y"
        },
        {
         "hovertemplate": "Product=I'M ON HOLIDAY METAL SIGN<br>Invoice Number=%{x}<br>Revenue ($)=%{y}<extra></extra>",
         "legendgroup": "I'M ON HOLIDAY METAL SIGN",
         "marker": {
          "color": "#636efa",
          "pattern": {
           "shape": ""
          }
         },
         "name": "I'M ON HOLIDAY METAL SIGN",
         "orientation": "v",
         "showlegend": true,
         "textposition": "auto",
         "type": "bar",
         "width": 0.6,
         "x": [
          "552978"
         ],
         "xaxis": "x",
         "y": {
          "bdata": "NDMzMzMzSUA=",
          "dtype": "f8"
         },
         "yaxis": "y"
        },
        {
         "hovertemplate": "Product=RECIPE BOX PANTRY YELLOW DESIGN<br>Invoice Number=%{x}<br>Revenue ($)=%{y}<extra></extra>",
         "legendgroup": "RECIPE BOX PANTRY YELLOW DESIGN",
         "marker": {
          "color": "#EF553B",
          "pattern": {
           "shape": ""
          }
         },
         "name": "RECIPE BOX PANTRY YELLOW DESIGN",
         "orientation": "v",
         "showlegend": true,
         "textposition": "auto",
         "type": "bar",
         "width": 0.6,
         "x": [
          "552978"
         ],
         "xaxis": "x",
         "y": {
          "bdata": "mZmZmZmZTkA=",
          "dtype": "f8"
         },
         "yaxis": "y"
        },
        {
         "hovertemplate": "Product=FOOD COVER WITH BEADS SET 2 <br>Invoice Number=%{x}<br>Revenue ($)=%{y}<extra></extra>",
         "legendgroup": "FOOD COVER WITH BEADS SET 2 ",
         "marker": {
          "color": "#00cc96",
          "pattern": {
           "shape": ""
          }
         },
         "name": "FOOD COVER WITH BEADS SET 2 ",
         "orientation": "v",
         "showlegend": true,
         "textposition": "auto",
         "type": "bar",
         "width": 0.6,
         "x": [
          "552978"
         ],
         "xaxis": "x",
         "y": {
          "bdata": "AAAAAAAwZUA=",
          "dtype": "f8"
         },
         "yaxis": "y"
        },
        {
         "hovertemplate": "Product=SET OF 3 BUTTERFLY COOKIE CUTTERS<br>Invoice Number=%{x}<br>Revenue ($)=%{y}<extra></extra>",
         "legendgroup": "SET OF 3 BUTTERFLY COOKIE CUTTERS",
         "marker": {
          "color": "#ab63fa",
          "pattern": {
           "shape": ""
          }
         },
         "name": "SET OF 3 BUTTERFLY COOKIE CUTTERS",
         "orientation": "v",
         "showlegend": true,
         "textposition": "auto",
         "type": "bar",
         "width": 0.6,
         "x": [
          "552978"
         ],
         "xaxis": "x",
         "y": {
          "bdata": "AAAAAAAATkA=",
          "dtype": "f8"
         },
         "yaxis": "y"
        },
        {
         "hovertemplate": "Product=SET OF 3 HEART COOKIE CUTTERS<br>Invoice Number=%{x}<br>Revenue ($)=%{y}<extra></extra>",
         "legendgroup": "SET OF 3 HEART COOKIE CUTTERS",
         "marker": {
          "color": "#FFA15A",
          "pattern": {
           "shape": ""
          }
         },
         "name": "SET OF 3 HEART COOKIE CUTTERS",
         "orientation": "v",
         "showlegend": true,
         "textposition": "auto",
         "type": "bar",
         "width": 0.6,
         "x": [
          "552978"
         ],
         "xaxis": "x",
         "y": {
          "bdata": "AAAAAAAATkA=",
          "dtype": "f8"
         },
         "yaxis": "y"
        },
        {
         "hovertemplate": "Product=SET/10 RED POLKADOT PARTY CANDLES<br>Invoice Number=%{x}<br>Revenue ($)=%{y}<extra></extra>",
         "legendgroup": "SET/10 RED POLKADOT PARTY CANDLES",
         "marker": {
          "color": "#19d3f3",
          "pattern": {
           "shape": ""
          }
         },
         "name": "SET/10 RED POLKADOT PARTY CANDLES",
         "orientation": "v",
         "showlegend": true,
         "textposition": "auto",
         "type": "bar",
         "width": 0.6,
         "x": [
          "552978"
         ],
         "xaxis": "x",
         "y": {
          "bdata": "AAAAAAAATkA=",
          "dtype": "f8"
         },
         "yaxis": "y"
        },
        {
         "hovertemplate": "Product=BULL DOG BOTTLE OPENER<br>Invoice Number=%{x}<br>Revenue ($)=%{y}<extra></extra>",
         "legendgroup": "BULL DOG BOTTLE OPENER",
         "marker": {
          "color": "#FF6692",
          "pattern": {
           "shape": ""
          }
         },
         "name": "BULL DOG BOTTLE OPENER",
         "orientation": "v",
         "showlegend": true,
         "textposition": "auto",
         "type": "bar",
         "width": 0.6,
         "x": [
          "552978"
         ],
         "xaxis": "x",
         "y": {
          "bdata": "zczMzMysYkA=",
          "dtype": "f8"
         },
         "yaxis": "y"
        },
        {
         "hovertemplate": "Product=LUNCH BOX I LOVE LONDON<br>Invoice Number=%{x}<br>Revenue ($)=%{y}<extra></extra>",
         "legendgroup": "LUNCH BOX I LOVE LONDON",
         "marker": {
          "color": "#B6E880",
          "pattern": {
           "shape": ""
          }
         },
         "name": "LUNCH BOX I LOVE LONDON",
         "orientation": "v",
         "showlegend": true,
         "textposition": "auto",
         "type": "bar",
         "width": 0.6,
         "x": [
          "552978"
         ],
         "xaxis": "x",
         "y": {
          "bdata": "ZmZmZmZmR0A=",
          "dtype": "f8"
         },
         "yaxis": "y"
        },
        {
         "hovertemplate": "Product=EDWARDIAN PARASOL PINK<br>Invoice Number=%{x}<br>Revenue ($)=%{y}<extra></extra>",
         "legendgroup": "EDWARDIAN PARASOL PINK",
         "marker": {
          "color": "#FF97FF",
          "pattern": {
           "shape": ""
          }
         },
         "name": "EDWARDIAN PARASOL PINK",
         "orientation": "v",
         "showlegend": true,
         "textposition": "auto",
         "type": "bar",
         "width": 0.6,
         "x": [
          "552978"
         ],
         "xaxis": "x",
         "y": {
          "bdata": "AAAAAACQckA=",
          "dtype": "f8"
         },
         "yaxis": "y"
        },
        {
         "hovertemplate": "Product=EDWARDIAN PARASOL BLACK<br>Invoice Number=%{x}<br>Revenue ($)=%{y}<extra></extra>",
         "legendgroup": "EDWARDIAN PARASOL BLACK",
         "marker": {
          "color": "#FECB52",
          "pattern": {
           "shape": ""
          }
         },
         "name": "EDWARDIAN PARASOL BLACK",
         "orientation": "v",
         "showlegend": true,
         "textposition": "auto",
         "type": "bar",
         "width": 0.6,
         "x": [
          "552978"
         ],
         "xaxis": "x",
         "y": {
          "bdata": "AAAAAACQckA=",
          "dtype": "f8"
         },
         "yaxis": "y"
        },
        {
         "hovertemplate": "Product=EDWARDIAN PARASOL NATURAL<br>Invoice Number=%{x}<br>Revenue ($)=%{y}<extra></extra>",
         "legendgroup": "EDWARDIAN PARASOL NATURAL",
         "marker": {
          "color": "#636efa",
          "pattern": {
           "shape": ""
          }
         },
         "name": "EDWARDIAN PARASOL NATURAL",
         "orientation": "v",
         "showlegend": true,
         "textposition": "auto",
         "type": "bar",
         "width": 0.6,
         "x": [
          "552978"
         ],
         "xaxis": "x",
         "y": {
          "bdata": "AAAAAACQckA=",
          "dtype": "f8"
         },
         "yaxis": "y"
        },
        {
         "hovertemplate": "Product=EDWARDIAN PARASOL RED<br>Invoice Number=%{x}<br>Revenue ($)=%{y}<extra></extra>",
         "legendgroup": "EDWARDIAN PARASOL RED",
         "marker": {
          "color": "#EF553B",
          "pattern": {
           "shape": ""
          }
         },
         "name": "EDWARDIAN PARASOL RED",
         "orientation": "v",
         "showlegend": true,
         "textposition": "auto",
         "type": "bar",
         "width": 0.6,
         "x": [
          "552978"
         ],
         "xaxis": "x",
         "y": {
          "bdata": "AAAAAACQckA=",
          "dtype": "f8"
         },
         "yaxis": "y"
        },
        {
         "hovertemplate": "Product=STRAWBERRY LUNCH BOX WITH CUTLERY<br>Invoice Number=%{x}<br>Revenue ($)=%{y}<extra></extra>",
         "legendgroup": "STRAWBERRY LUNCH BOX WITH CUTLERY",
         "marker": {
          "color": "#00cc96",
          "pattern": {
           "shape": ""
          }
         },
         "name": "STRAWBERRY LUNCH BOX WITH CUTLERY",
         "orientation": "v",
         "showlegend": true,
         "textposition": "auto",
         "type": "bar",
         "width": 0.6,
         "x": [
          "552978",
          "564856"
         ],
         "xaxis": "x",
         "y": {
          "bdata": "AAAAAACAX0CZmZmZmZkuQA==",
          "dtype": "f8"
         },
         "yaxis": "y"
        },
        {
         "hovertemplate": "Product=MEMO BOARD COTTAGE DESIGN<br>Invoice Number=%{x}<br>Revenue ($)=%{y}<extra></extra>",
         "legendgroup": "MEMO BOARD COTTAGE DESIGN",
         "marker": {
          "color": "#ab63fa",
          "pattern": {
           "shape": ""
          }
         },
         "name": "MEMO BOARD COTTAGE DESIGN",
         "orientation": "v",
         "showlegend": true,
         "textposition": "auto",
         "type": "bar",
         "width": 0.6,
         "x": [
          "552978",
          "564856"
         ],
         "xaxis": "x",
         "y": {
          "bdata": "AAAAAACAWUDNzMzMzMwzQA==",
          "dtype": "f8"
         },
         "yaxis": "y"
        },
        {
         "hovertemplate": "Product=POPPY'S PLAYHOUSE KITCHEN<br>Invoice Number=%{x}<br>Revenue ($)=%{y}<extra></extra>",
         "legendgroup": "POPPY'S PLAYHOUSE KITCHEN",
         "marker": {
          "color": "#FFA15A",
          "pattern": {
           "shape": ""
          }
         },
         "name": "POPPY'S PLAYHOUSE KITCHEN",
         "orientation": "v",
         "showlegend": true,
         "textposition": "auto",
         "type": "bar",
         "width": 0.6,
         "x": [
          "552978"
         ],
         "xaxis": "x",
         "y": {
          "bdata": "AAAAAADAW0A=",
          "dtype": "f8"
         },
         "yaxis": "y"
        },
        {
         "hovertemplate": "Product=POPPY'S PLAYHOUSE BATHROOM<br>Invoice Number=%{x}<br>Revenue ($)=%{y}<extra></extra>",
         "legendgroup": "POPPY'S PLAYHOUSE BATHROOM",
         "marker": {
          "color": "#19d3f3",
          "pattern": {
           "shape": ""
          }
         },
         "name": "POPPY'S PLAYHOUSE BATHROOM",
         "orientation": "v",
         "showlegend": true,
         "textposition": "auto",
         "type": "bar",
         "width": 0.6,
         "x": [
          "552978"
         ],
         "xaxis": "x",
         "y": {
          "bdata": "AAAAAADAW0A=",
          "dtype": "f8"
         },
         "yaxis": "y"
        },
        {
         "hovertemplate": "Product=POPPY'S PLAYHOUSE BEDROOM <br>Invoice Number=%{x}<br>Revenue ($)=%{y}<extra></extra>",
         "legendgroup": "POPPY'S PLAYHOUSE BEDROOM ",
         "marker": {
          "color": "#FF6692",
          "pattern": {
           "shape": ""
          }
         },
         "name": "POPPY'S PLAYHOUSE BEDROOM ",
         "orientation": "v",
         "showlegend": true,
         "textposition": "auto",
         "type": "bar",
         "width": 0.6,
         "x": [
          "552978"
         ],
         "xaxis": "x",
         "y": {
          "bdata": "AAAAAADAW0A=",
          "dtype": "f8"
         },
         "yaxis": "y"
        },
        {
         "hovertemplate": "Product=POPPY'S PLAYHOUSE LIVINGROOM <br>Invoice Number=%{x}<br>Revenue ($)=%{y}<extra></extra>",
         "legendgroup": "POPPY'S PLAYHOUSE LIVINGROOM ",
         "marker": {
          "color": "#B6E880",
          "pattern": {
           "shape": ""
          }
         },
         "name": "POPPY'S PLAYHOUSE LIVINGROOM ",
         "orientation": "v",
         "showlegend": true,
         "textposition": "auto",
         "type": "bar",
         "width": 0.6,
         "x": [
          "552978"
         ],
         "xaxis": "x",
         "y": {
          "bdata": "AAAAAADAW0A=",
          "dtype": "f8"
         },
         "yaxis": "y"
        },
        {
         "hovertemplate": "Product=RED TOADSTOOL LED NIGHT LIGHT<br>Invoice Number=%{x}<br>Revenue ($)=%{y}<extra></extra>",
         "legendgroup": "RED TOADSTOOL LED NIGHT LIGHT",
         "marker": {
          "color": "#FF97FF",
          "pattern": {
           "shape": ""
          }
         },
         "name": "RED TOADSTOOL LED NIGHT LIGHT",
         "orientation": "v",
         "showlegend": true,
         "textposition": "auto",
         "type": "bar",
         "width": 0.6,
         "x": [
          "552978",
          "581179"
         ],
         "xaxis": "x",
         "y": {
          "bdata": "zMzMzMzMU0AAAAAAAMBYQA==",
          "dtype": "f8"
         },
         "yaxis": "y"
        },
        {
         "hovertemplate": "Product=CHARLOTTE BAG DOLLY GIRL DESIGN<br>Invoice Number=%{x}<br>Revenue ($)=%{y}<extra></extra>",
         "legendgroup": "CHARLOTTE BAG DOLLY GIRL DESIGN",
         "marker": {
          "color": "#FECB52",
          "pattern": {
           "shape": ""
          }
         },
         "name": "CHARLOTTE BAG DOLLY GIRL DESIGN",
         "orientation": "v",
         "showlegend": true,
         "textposition": "auto",
         "type": "bar",
         "width": 0.6,
         "x": [
          "552978"
         ],
         "xaxis": "x",
         "y": {
          "bdata": "AAAAAAAAUkA=",
          "dtype": "f8"
         },
         "yaxis": "y"
        },
        {
         "hovertemplate": "Product=STRAWBERRY CHARLOTTE BAG<br>Invoice Number=%{x}<br>Revenue ($)=%{y}<extra></extra>",
         "legendgroup": "STRAWBERRY CHARLOTTE BAG",
         "marker": {
          "color": "#636efa",
          "pattern": {
           "shape": ""
          }
         },
         "name": "STRAWBERRY CHARLOTTE BAG",
         "orientation": "v",
         "showlegend": true,
         "textposition": "auto",
         "type": "bar",
         "width": 0.6,
         "x": [
          "552978"
         ],
         "xaxis": "x",
         "y": {
          "bdata": "AAAAAAAAUkA=",
          "dtype": "f8"
         },
         "yaxis": "y"
        },
        {
         "hovertemplate": "Product=CHARLOTTE BAG SUKI DESIGN<br>Invoice Number=%{x}<br>Revenue ($)=%{y}<extra></extra>",
         "legendgroup": "CHARLOTTE BAG SUKI DESIGN",
         "marker": {
          "color": "#EF553B",
          "pattern": {
           "shape": ""
          }
         },
         "name": "CHARLOTTE BAG SUKI DESIGN",
         "orientation": "v",
         "showlegend": true,
         "textposition": "auto",
         "type": "bar",
         "width": 0.6,
         "x": [
          "552978"
         ],
         "xaxis": "x",
         "y": {
          "bdata": "AAAAAAAAUkA=",
          "dtype": "f8"
         },
         "yaxis": "y"
        },
        {
         "hovertemplate": "Product=RED RETROSPOT CHARLOTTE BAG<br>Invoice Number=%{x}<br>Revenue ($)=%{y}<extra></extra>",
         "legendgroup": "RED RETROSPOT CHARLOTTE BAG",
         "marker": {
          "color": "#00cc96",
          "pattern": {
           "shape": ""
          }
         },
         "name": "RED RETROSPOT CHARLOTTE BAG",
         "orientation": "v",
         "showlegend": true,
         "textposition": "auto",
         "type": "bar",
         "width": 0.6,
         "x": [
          "552978"
         ],
         "xaxis": "x",
         "y": {
          "bdata": "AAAAAAAAUkA=",
          "dtype": "f8"
         },
         "yaxis": "y"
        },
        {
         "hovertemplate": "Product=WOODLAND CHARLOTTE BAG<br>Invoice Number=%{x}<br>Revenue ($)=%{y}<extra></extra>",
         "legendgroup": "WOODLAND CHARLOTTE BAG",
         "marker": {
          "color": "#ab63fa",
          "pattern": {
           "shape": ""
          }
         },
         "name": "WOODLAND CHARLOTTE BAG",
         "orientation": "v",
         "showlegend": true,
         "textposition": "auto",
         "type": "bar",
         "width": 0.6,
         "x": [
          "552978"
         ],
         "xaxis": "x",
         "y": {
          "bdata": "AAAAAAAAUkA=",
          "dtype": "f8"
         },
         "yaxis": "y"
        },
        {
         "hovertemplate": "Product=LUNCH BAG DOLLY GIRL DESIGN<br>Invoice Number=%{x}<br>Revenue ($)=%{y}<extra></extra>",
         "legendgroup": "LUNCH BAG DOLLY GIRL DESIGN",
         "marker": {
          "color": "#FFA15A",
          "pattern": {
           "shape": ""
          }
         },
         "name": "LUNCH BAG DOLLY GIRL DESIGN",
         "orientation": "v",
         "showlegend": true,
         "textposition": "auto",
         "type": "bar",
         "width": 0.6,
         "x": [
          "552978"
         ],
         "xaxis": "x",
         "y": {
          "bdata": "AAAAAAAgYkA=",
          "dtype": "f8"
         },
         "yaxis": "y"
        },
        {
         "hovertemplate": "Product=LUNCH BAG RED RETROSPOT<br>Invoice Number=%{x}<br>Revenue ($)=%{y}<extra></extra>",
         "legendgroup": "LUNCH BAG RED RETROSPOT",
         "marker": {
          "color": "#19d3f3",
          "pattern": {
           "shape": ""
          }
         },
         "name": "LUNCH BAG RED RETROSPOT",
         "orientation": "v",
         "showlegend": true,
         "textposition": "auto",
         "type": "bar",
         "width": 0.6,
         "x": [
          "552978"
         ],
         "xaxis": "x",
         "y": {
          "bdata": "AAAAAAAgYkA=",
          "dtype": "f8"
         },
         "yaxis": "y"
        },
        {
         "hovertemplate": "Product=LUNCH BAG WOODLAND<br>Invoice Number=%{x}<br>Revenue ($)=%{y}<extra></extra>",
         "legendgroup": "LUNCH BAG WOODLAND",
         "marker": {
          "color": "#FF6692",
          "pattern": {
           "shape": ""
          }
         },
         "name": "LUNCH BAG WOODLAND",
         "orientation": "v",
         "showlegend": true,
         "textposition": "auto",
         "type": "bar",
         "width": 0.6,
         "x": [
          "552978"
         ],
         "xaxis": "x",
         "y": {
          "bdata": "AAAAAAAgYkA=",
          "dtype": "f8"
         },
         "yaxis": "y"
        },
        {
         "hovertemplate": "Product=LUNCH BAG DOILEY PATTERN <br>Invoice Number=%{x}<br>Revenue ($)=%{y}<extra></extra>",
         "legendgroup": "LUNCH BAG DOILEY PATTERN ",
         "marker": {
          "color": "#B6E880",
          "pattern": {
           "shape": ""
          }
         },
         "name": "LUNCH BAG DOILEY PATTERN ",
         "orientation": "v",
         "showlegend": true,
         "textposition": "auto",
         "type": "bar",
         "width": 0.6,
         "x": [
          "552978"
         ],
         "xaxis": "x",
         "y": {
          "bdata": "AAAAAAAgYkA=",
          "dtype": "f8"
         },
         "yaxis": "y"
        },
        {
         "hovertemplate": "Product=STRAWBERRY   PICNIC BAG<br>Invoice Number=%{x}<br>Revenue ($)=%{y}<extra></extra>",
         "legendgroup": "STRAWBERRY   PICNIC BAG",
         "marker": {
          "color": "#FF97FF",
          "pattern": {
           "shape": ""
          }
         },
         "name": "STRAWBERRY   PICNIC BAG",
         "orientation": "v",
         "showlegend": true,
         "textposition": "auto",
         "type": "bar",
         "width": 0.6,
         "x": [
          "552978"
         ],
         "xaxis": "x",
         "y": {
          "bdata": "///////fX0A=",
          "dtype": "f8"
         },
         "yaxis": "y"
        },
        {
         "hovertemplate": "Product=SET 10 LIGHTS NIGHT OWL<br>Invoice Number=%{x}<br>Revenue ($)=%{y}<extra></extra>",
         "legendgroup": "SET 10 LIGHTS NIGHT OWL",
         "marker": {
          "color": "#FECB52",
          "pattern": {
           "shape": ""
          }
         },
         "name": "SET 10 LIGHTS NIGHT OWL",
         "orientation": "v",
         "showlegend": true,
         "textposition": "auto",
         "type": "bar",
         "width": 0.6,
         "x": [
          "552978"
         ],
         "xaxis": "x",
         "y": {
          "bdata": "mpmZmZnZcUA=",
          "dtype": "f8"
         },
         "yaxis": "y"
        },
        {
         "hovertemplate": "Product=LIGHT GARLAND BUTTERFILES PINK<br>Invoice Number=%{x}<br>Revenue ($)=%{y}<extra></extra>",
         "legendgroup": "LIGHT GARLAND BUTTERFILES PINK",
         "marker": {
          "color": "#636efa",
          "pattern": {
           "shape": ""
          }
         },
         "name": "LIGHT GARLAND BUTTERFILES PINK",
         "orientation": "v",
         "showlegend": true,
         "textposition": "auto",
         "type": "bar",
         "width": 0.6,
         "x": [
          "552978"
         ],
         "xaxis": "x",
         "y": {
          "bdata": "AAAAAACAZkA=",
          "dtype": "f8"
         },
         "yaxis": "y"
        },
        {
         "hovertemplate": "Product=WOODEN OWLS LIGHT GARLAND <br>Invoice Number=%{x}<br>Revenue ($)=%{y}<extra></extra>",
         "legendgroup": "WOODEN OWLS LIGHT GARLAND ",
         "marker": {
          "color": "#EF553B",
          "pattern": {
           "shape": ""
          }
         },
         "name": "WOODEN OWLS LIGHT GARLAND ",
         "orientation": "v",
         "showlegend": true,
         "textposition": "auto",
         "type": "bar",
         "width": 0.6,
         "x": [
          "552978"
         ],
         "xaxis": "x",
         "y": {
          "bdata": "AAAAAACAZkA=",
          "dtype": "f8"
         },
         "yaxis": "y"
        },
        {
         "hovertemplate": "Product=POLKADOT PEN<br>Invoice Number=%{x}<br>Revenue ($)=%{y}<extra></extra>",
         "legendgroup": "POLKADOT PEN",
         "marker": {
          "color": "#00cc96",
          "pattern": {
           "shape": ""
          }
         },
         "name": "POLKADOT PEN",
         "orientation": "v",
         "showlegend": true,
         "textposition": "auto",
         "type": "bar",
         "width": 0.6,
         "x": [
          "552978"
         ],
         "xaxis": "x",
         "y": {
          "bdata": "ZmZmZmZmREA=",
          "dtype": "f8"
         },
         "yaxis": "y"
        },
        {
         "hovertemplate": "Product=SET 7 BABUSHKA NESTING BOXES<br>Invoice Number=%{x}<br>Revenue ($)=%{y}<extra></extra>",
         "legendgroup": "SET 7 BABUSHKA NESTING BOXES",
         "marker": {
          "color": "#ab63fa",
          "pattern": {
           "shape": ""
          }
         },
         "name": "SET 7 BABUSHKA NESTING BOXES",
         "orientation": "v",
         "showlegend": true,
         "textposition": "auto",
         "type": "bar",
         "width": 0.6,
         "x": [
          "552978"
         ],
         "xaxis": "x",
         "y": {
          "bdata": "NDMzMzPzZkA=",
          "dtype": "f8"
         },
         "yaxis": "y"
        },
        {
         "hovertemplate": "Product=ASSORTED COLOURS SILK FAN<br>Invoice Number=%{x}<br>Revenue ($)=%{y}<extra></extra>",
         "legendgroup": "ASSORTED COLOURS SILK FAN",
         "marker": {
          "color": "#FFA15A",
          "pattern": {
           "shape": ""
          }
         },
         "name": "ASSORTED COLOURS SILK FAN",
         "orientation": "v",
         "showlegend": true,
         "textposition": "auto",
         "type": "bar",
         "width": 0.6,
         "x": [
          "552978"
         ],
         "xaxis": "x",
         "y": {
          "bdata": "AAAAAABgeEA=",
          "dtype": "f8"
         },
         "yaxis": "y"
        },
        {
         "hovertemplate": "Product=DOLLY GIRL LUNCH BOX<br>Invoice Number=%{x}<br>Revenue ($)=%{y}<extra></extra>",
         "legendgroup": "DOLLY GIRL LUNCH BOX",
         "marker": {
          "color": "#19d3f3",
          "pattern": {
           "shape": ""
          }
         },
         "name": "DOLLY GIRL LUNCH BOX",
         "orientation": "v",
         "showlegend": true,
         "textposition": "auto",
         "type": "bar",
         "width": 0.6,
         "x": [
          "552978"
         ],
         "xaxis": "x",
         "y": {
          "bdata": "ZmZmZmZmWkA=",
          "dtype": "f8"
         },
         "yaxis": "y"
        },
        {
         "hovertemplate": "Product=SET OF 10 LED DOLLY LIGHTS<br>Invoice Number=%{x}<br>Revenue ($)=%{y}<extra></extra>",
         "legendgroup": "SET OF 10 LED DOLLY LIGHTS",
         "marker": {
          "color": "#FF6692",
          "pattern": {
           "shape": ""
          }
         },
         "name": "SET OF 10 LED DOLLY LIGHTS",
         "orientation": "v",
         "showlegend": true,
         "textposition": "auto",
         "type": "bar",
         "width": 0.6,
         "x": [
          "552978",
          "581179"
         ],
         "xaxis": "x",
         "y": {
          "bdata": "61G4HoUrYEAAAAAAAEBPQA==",
          "dtype": "f8"
         },
         "yaxis": "y"
        },
        {
         "hovertemplate": "Product=BAKING MOULD ROSE MILK CHOCOLATE<br>Invoice Number=%{x}<br>Revenue ($)=%{y}<extra></extra>",
         "legendgroup": "BAKING MOULD ROSE MILK CHOCOLATE",
         "marker": {
          "color": "#B6E880",
          "pattern": {
           "shape": ""
          }
         },
         "name": "BAKING MOULD ROSE MILK CHOCOLATE",
         "orientation": "v",
         "showlegend": true,
         "textposition": "auto",
         "type": "bar",
         "width": 0.6,
         "x": [
          "552978"
         ],
         "xaxis": "x",
         "y": {
          "bdata": "AAAAAADAaEA=",
          "dtype": "f8"
         },
         "yaxis": "y"
        },
        {
         "hovertemplate": "Product=BAKING MOULD EASTER EGG WHITE CHOC<br>Invoice Number=%{x}<br>Revenue ($)=%{y}<extra></extra>",
         "legendgroup": "BAKING MOULD EASTER EGG WHITE CHOC",
         "marker": {
          "color": "#FF97FF",
          "pattern": {
           "shape": ""
          }
         },
         "name": "BAKING MOULD EASTER EGG WHITE CHOC",
         "orientation": "v",
         "showlegend": true,
         "textposition": "auto",
         "type": "bar",
         "width": 0.6,
         "x": [
          "552978"
         ],
         "xaxis": "x",
         "y": {
          "bdata": "mZmZmZmZXkA=",
          "dtype": "f8"
         },
         "yaxis": "y"
        },
        {
         "hovertemplate": "Product=BAKING MOULD TOFFEE CUP CHOCOLATE<br>Invoice Number=%{x}<br>Revenue ($)=%{y}<extra></extra>",
         "legendgroup": "BAKING MOULD TOFFEE CUP CHOCOLATE",
         "marker": {
          "color": "#FECB52",
          "pattern": {
           "shape": ""
          }
         },
         "name": "BAKING MOULD TOFFEE CUP CHOCOLATE",
         "orientation": "v",
         "showlegend": true,
         "textposition": "auto",
         "type": "bar",
         "width": 0.6,
         "x": [
          "552978"
         ],
         "xaxis": "x",
         "y": {
          "bdata": "NDMzMzMzaUA=",
          "dtype": "f8"
         },
         "yaxis": "y"
        },
        {
         "hovertemplate": "Product=SET OF 3 REGENCY CAKE TINS<br>Invoice Number=%{x}<br>Revenue ($)=%{y}<extra></extra>",
         "legendgroup": "SET OF 3 REGENCY CAKE TINS",
         "marker": {
          "color": "#636efa",
          "pattern": {
           "shape": ""
          }
         },
         "name": "SET OF 3 REGENCY CAKE TINS",
         "orientation": "v",
         "showlegend": true,
         "textposition": "auto",
         "type": "bar",
         "width": 0.6,
         "x": [
          "564856"
         ],
         "xaxis": "x",
         "y": {
          "bdata": "zczMzMzMM0A=",
          "dtype": "f8"
         },
         "yaxis": "y"
        },
        {
         "hovertemplate": "Product=RED VINTAGE SPOT BEAKER<br>Invoice Number=%{x}<br>Revenue ($)=%{y}<extra></extra>",
         "legendgroup": "RED VINTAGE SPOT BEAKER",
         "marker": {
          "color": "#EF553B",
          "pattern": {
           "shape": ""
          }
         },
         "name": "RED VINTAGE SPOT BEAKER",
         "orientation": "v",
         "showlegend": true,
         "textposition": "auto",
         "type": "bar",
         "width": 0.6,
         "x": [
          "564856"
         ],
         "xaxis": "x",
         "y": {
          "bdata": "MzMzMzMzG0A=",
          "dtype": "f8"
         },
         "yaxis": "y"
        },
        {
         "hovertemplate": "Product=GREEN VINTAGE SPOT BEAKER<br>Invoice Number=%{x}<br>Revenue ($)=%{y}<extra></extra>",
         "legendgroup": "GREEN VINTAGE SPOT BEAKER",
         "marker": {
          "color": "#00cc96",
          "pattern": {
           "shape": ""
          }
         },
         "name": "GREEN VINTAGE SPOT BEAKER",
         "orientation": "v",
         "showlegend": true,
         "textposition": "auto",
         "type": "bar",
         "width": 0.6,
         "x": [
          "564856"
         ],
         "xaxis": "x",
         "y": {
          "bdata": "MzMzMzMzG0A=",
          "dtype": "f8"
         },
         "yaxis": "y"
        },
        {
         "hovertemplate": "Product=RED RETROSPOT SHOPPER BAG<br>Invoice Number=%{x}<br>Revenue ($)=%{y}<extra></extra>",
         "legendgroup": "RED RETROSPOT SHOPPER BAG",
         "marker": {
          "color": "#ab63fa",
          "pattern": {
           "shape": ""
          }
         },
         "name": "RED RETROSPOT SHOPPER BAG",
         "orientation": "v",
         "showlegend": true,
         "textposition": "auto",
         "type": "bar",
         "width": 0.6,
         "x": [
          "564856"
         ],
         "xaxis": "x",
         "y": {
          "bdata": "AAAAAAAAKUA=",
          "dtype": "f8"
         },
         "yaxis": "y"
        },
        {
         "hovertemplate": "Product=JUMBO BAG RED RETROSPOT<br>Invoice Number=%{x}<br>Revenue ($)=%{y}<extra></extra>",
         "legendgroup": "JUMBO BAG RED RETROSPOT",
         "marker": {
          "color": "#FFA15A",
          "pattern": {
           "shape": ""
          }
         },
         "name": "JUMBO BAG RED RETROSPOT",
         "orientation": "v",
         "showlegend": true,
         "textposition": "auto",
         "type": "bar",
         "width": 0.6,
         "x": [
          "564856"
         ],
         "xaxis": "x",
         "y": {
          "bdata": "zczMzMzMNEA=",
          "dtype": "f8"
         },
         "yaxis": "y"
        },
        {
         "hovertemplate": "Product=RED GINGHAM ROSE JEWELLERY BOX<br>Invoice Number=%{x}<br>Revenue ($)=%{y}<extra></extra>",
         "legendgroup": "RED GINGHAM ROSE JEWELLERY BOX",
         "marker": {
          "color": "#19d3f3",
          "pattern": {
           "shape": ""
          }
         },
         "name": "RED GINGHAM ROSE JEWELLERY BOX",
         "orientation": "v",
         "showlegend": true,
         "textposition": "auto",
         "type": "bar",
         "width": 0.6,
         "x": [
          "564856"
         ],
         "xaxis": "x",
         "y": {
          "bdata": "MzMzMzMzL0A=",
          "dtype": "f8"
         },
         "yaxis": "y"
        },
        {
         "hovertemplate": "Product=SCOTTIE DOG HOT WATER BOTTLE<br>Invoice Number=%{x}<br>Revenue ($)=%{y}<extra></extra>",
         "legendgroup": "SCOTTIE DOG HOT WATER BOTTLE",
         "marker": {
          "color": "#FF6692",
          "pattern": {
           "shape": ""
          }
         },
         "name": "SCOTTIE DOG HOT WATER BOTTLE",
         "orientation": "v",
         "showlegend": true,
         "textposition": "auto",
         "type": "bar",
         "width": 0.6,
         "x": [
          "564856"
         ],
         "xaxis": "x",
         "y": {
          "bdata": "NDMzMzOzPUA=",
          "dtype": "f8"
         },
         "yaxis": "y"
        },
        {
         "hovertemplate": "Product=BLACK CHRISTMAS TREE 60CM<br>Invoice Number=%{x}<br>Revenue ($)=%{y}<extra></extra>",
         "legendgroup": "BLACK CHRISTMAS TREE 60CM",
         "marker": {
          "color": "#B6E880",
          "pattern": {
           "shape": ""
          }
         },
         "name": "BLACK CHRISTMAS TREE 60CM",
         "orientation": "v",
         "showlegend": true,
         "textposition": "auto",
         "type": "bar",
         "width": 0.6,
         "x": [
          "564856"
         ],
         "xaxis": "x",
         "y": {
          "bdata": "zczMzMyMSkA=",
          "dtype": "f8"
         },
         "yaxis": "y"
        },
        {
         "hovertemplate": "Product=BLACK CHRISTMAS TREE 120CM<br>Invoice Number=%{x}<br>Revenue ($)=%{y}<extra></extra>",
         "legendgroup": "BLACK CHRISTMAS TREE 120CM",
         "marker": {
          "color": "#FF97FF",
          "pattern": {
           "shape": ""
          }
         },
         "name": "BLACK CHRISTMAS TREE 120CM",
         "orientation": "v",
         "showlegend": true,
         "textposition": "auto",
         "type": "bar",
         "width": 0.6,
         "x": [
          "564856"
         ],
         "xaxis": "x",
         "y": {
          "bdata": "AAAAAADAVUA=",
          "dtype": "f8"
         },
         "yaxis": "y"
        },
        {
         "hovertemplate": "Product=ROTATING LEAVES T-LIGHT HOLDER<br>Invoice Number=%{x}<br>Revenue ($)=%{y}<extra></extra>",
         "legendgroup": "ROTATING LEAVES T-LIGHT HOLDER",
         "marker": {
          "color": "#FECB52",
          "pattern": {
           "shape": ""
          }
         },
         "name": "ROTATING LEAVES T-LIGHT HOLDER",
         "orientation": "v",
         "showlegend": true,
         "textposition": "auto",
         "type": "bar",
         "width": 0.6,
         "x": [
          "564856"
         ],
         "xaxis": "x",
         "y": {
          "bdata": "AAAAAAAAPkA=",
          "dtype": "f8"
         },
         "yaxis": "y"
        },
        {
         "hovertemplate": "Product=ROTATING SILVER ANGELS T-LIGHT HLDR<br>Invoice Number=%{x}<br>Revenue ($)=%{y}<extra></extra>",
         "legendgroup": "ROTATING SILVER ANGELS T-LIGHT HLDR",
         "marker": {
          "color": "#636efa",
          "pattern": {
           "shape": ""
          }
         },
         "name": "ROTATING SILVER ANGELS T-LIGHT HLDR",
         "orientation": "v",
         "showlegend": true,
         "textposition": "auto",
         "type": "bar",
         "width": 0.6,
         "x": [
          "564856"
         ],
         "xaxis": "x",
         "y": {
          "bdata": "AAAAAAAgY0A=",
          "dtype": "f8"
         },
         "yaxis": "y"
        },
        {
         "hovertemplate": "Product=PARISIENNE KEY CABINET <br>Invoice Number=%{x}<br>Revenue ($)=%{y}<extra></extra>",
         "legendgroup": "PARISIENNE KEY CABINET ",
         "marker": {
          "color": "#EF553B",
          "pattern": {
           "shape": ""
          }
         },
         "name": "PARISIENNE KEY CABINET ",
         "orientation": "v",
         "showlegend": true,
         "textposition": "auto",
         "type": "bar",
         "width": 0.6,
         "x": [
          "564856"
         ],
         "xaxis": "x",
         "y": {
          "bdata": "AAAAAAAAN0A=",
          "dtype": "f8"
         },
         "yaxis": "y"
        },
        {
         "hovertemplate": "Product=BEACH HUT SHELF W 3 DRAWERS<br>Invoice Number=%{x}<br>Revenue ($)=%{y}<extra></extra>",
         "legendgroup": "BEACH HUT SHELF W 3 DRAWERS",
         "marker": {
          "color": "#00cc96",
          "pattern": {
           "shape": ""
          }
         },
         "name": "BEACH HUT SHELF W 3 DRAWERS",
         "orientation": "v",
         "showlegend": true,
         "textposition": "auto",
         "type": "bar",
         "width": 0.6,
         "x": [
          "564856"
         ],
         "xaxis": "x",
         "y": {
          "bdata": "zczMzMzMN0A=",
          "dtype": "f8"
         },
         "yaxis": "y"
        },
        {
         "hovertemplate": "Product=METAL 4 HOOK HANGER FRENCH CHATEAU<br>Invoice Number=%{x}<br>Revenue ($)=%{y}<extra></extra>",
         "legendgroup": "METAL 4 HOOK HANGER FRENCH CHATEAU",
         "marker": {
          "color": "#ab63fa",
          "pattern": {
           "shape": ""
          }
         },
         "name": "METAL 4 HOOK HANGER FRENCH CHATEAU",
         "orientation": "v",
         "showlegend": true,
         "textposition": "auto",
         "type": "bar",
         "width": 0.6,
         "x": [
          "564856"
         ],
         "xaxis": "x",
         "y": {
          "bdata": "ZmZmZmZmVEA=",
          "dtype": "f8"
         },
         "yaxis": "y"
        },
        {
         "hovertemplate": "Product=DOORMAT SPOTTY HOME SWEET HOME<br>Invoice Number=%{x}<br>Revenue ($)=%{y}<extra></extra>",
         "legendgroup": "DOORMAT SPOTTY HOME SWEET HOME",
         "marker": {
          "color": "#FFA15A",
          "pattern": {
           "shape": ""
          }
         },
         "name": "DOORMAT SPOTTY HOME SWEET HOME",
         "orientation": "v",
         "showlegend": true,
         "textposition": "auto",
         "type": "bar",
         "width": 0.6,
         "x": [
          "564856"
         ],
         "xaxis": "x",
         "y": {
          "bdata": "AAAAAADgYEA=",
          "dtype": "f8"
         },
         "yaxis": "y"
        },
        {
         "hovertemplate": "Product=DOORMAT BLACK FLOCK <br>Invoice Number=%{x}<br>Revenue ($)=%{y}<extra></extra>",
         "legendgroup": "DOORMAT BLACK FLOCK ",
         "marker": {
          "color": "#19d3f3",
          "pattern": {
           "shape": ""
          }
         },
         "name": "DOORMAT BLACK FLOCK ",
         "orientation": "v",
         "showlegend": true,
         "textposition": "auto",
         "type": "bar",
         "width": 0.6,
         "x": [
          "564856"
         ],
         "xaxis": "x",
         "y": {
          "bdata": "mpmZmZnZR0A=",
          "dtype": "f8"
         },
         "yaxis": "y"
        },
        {
         "hovertemplate": "Product=DOORMAT HEARTS<br>Invoice Number=%{x}<br>Revenue ($)=%{y}<extra></extra>",
         "legendgroup": "DOORMAT HEARTS",
         "marker": {
          "color": "#FF6692",
          "pattern": {
           "shape": ""
          }
         },
         "name": "DOORMAT HEARTS",
         "orientation": "v",
         "showlegend": true,
         "textposition": "auto",
         "type": "bar",
         "width": 0.6,
         "x": [
          "564856"
         ],
         "xaxis": "x",
         "y": {
          "bdata": "zczMzMzMT0A=",
          "dtype": "f8"
         },
         "yaxis": "y"
        },
        {
         "hovertemplate": "Product=WHITE HEARTS WIRE PLANT POT HOLDER<br>Invoice Number=%{x}<br>Revenue ($)=%{y}<extra></extra>",
         "legendgroup": "WHITE HEARTS WIRE PLANT POT HOLDER",
         "marker": {
          "color": "#B6E880",
          "pattern": {
           "shape": ""
          }
         },
         "name": "WHITE HEARTS WIRE PLANT POT HOLDER",
         "orientation": "v",
         "showlegend": true,
         "textposition": "auto",
         "type": "bar",
         "width": 0.6,
         "x": [
          "564856"
         ],
         "xaxis": "x",
         "y": {
          "bdata": "H4XrUbgeN0A=",
          "dtype": "f8"
         },
         "yaxis": "y"
        },
        {
         "hovertemplate": "Product=MOBILE VINTAGE HEARTS <br>Invoice Number=%{x}<br>Revenue ($)=%{y}<extra></extra>",
         "legendgroup": "MOBILE VINTAGE HEARTS ",
         "marker": {
          "color": "#FF97FF",
          "pattern": {
           "shape": ""
          }
         },
         "name": "MOBILE VINTAGE HEARTS ",
         "orientation": "v",
         "showlegend": true,
         "textposition": "auto",
         "type": "bar",
         "width": 0.6,
         "x": [
          "564856"
         ],
         "xaxis": "x",
         "y": {
          "bdata": "NDMzMzOzLUA=",
          "dtype": "f8"
         },
         "yaxis": "y"
        },
        {
         "hovertemplate": "Product=RED DINER WALL CLOCK<br>Invoice Number=%{x}<br>Revenue ($)=%{y}<extra></extra>",
         "legendgroup": "RED DINER WALL CLOCK",
         "marker": {
          "color": "#FECB52",
          "pattern": {
           "shape": ""
          }
         },
         "name": "RED DINER WALL CLOCK",
         "orientation": "v",
         "showlegend": true,
         "textposition": "auto",
         "type": "bar",
         "width": 0.6,
         "x": [
          "564856"
         ],
         "xaxis": "x",
         "y": {
          "bdata": "AAAAAAAAMUA=",
          "dtype": "f8"
         },
         "yaxis": "y"
        },
        {
         "hovertemplate": "Product=TRIPLE HOOK ANTIQUE IVORY ROSE<br>Invoice Number=%{x}<br>Revenue ($)=%{y}<extra></extra>",
         "legendgroup": "TRIPLE HOOK ANTIQUE IVORY ROSE",
         "marker": {
          "color": "#636efa",
          "pattern": {
           "shape": ""
          }
         },
         "name": "TRIPLE HOOK ANTIQUE IVORY ROSE",
         "orientation": "v",
         "showlegend": true,
         "textposition": "auto",
         "type": "bar",
         "width": 0.6,
         "x": [
          "564856"
         ],
         "xaxis": "x",
         "y": {
          "bdata": "UrgehetROkA=",
          "dtype": "f8"
         },
         "yaxis": "y"
        },
        {
         "hovertemplate": "Product=STRAWBERRY HONEYCOMB  GARLAND <br>Invoice Number=%{x}<br>Revenue ($)=%{y}<extra></extra>",
         "legendgroup": "STRAWBERRY HONEYCOMB  GARLAND ",
         "marker": {
          "color": "#EF553B",
          "pattern": {
           "shape": ""
          }
         },
         "name": "STRAWBERRY HONEYCOMB  GARLAND ",
         "orientation": "v",
         "showlegend": true,
         "textposition": "auto",
         "type": "bar",
         "width": 0.6,
         "x": [
          "564856"
         ],
         "xaxis": "x",
         "y": {
          "bdata": "zMzMzMzMM0A=",
          "dtype": "f8"
         },
         "yaxis": "y"
        },
        {
         "hovertemplate": "Product=FRENCH ENAMEL POT W LID<br>Invoice Number=%{x}<br>Revenue ($)=%{y}<extra></extra>",
         "legendgroup": "FRENCH ENAMEL POT W LID",
         "marker": {
          "color": "#00cc96",
          "pattern": {
           "shape": ""
          }
         },
         "name": "FRENCH ENAMEL POT W LID",
         "orientation": "v",
         "showlegend": true,
         "textposition": "auto",
         "type": "bar",
         "width": 0.6,
         "x": [
          "564856"
         ],
         "xaxis": "x",
         "y": {
          "bdata": "NDMzMzOzMUA=",
          "dtype": "f8"
         },
         "yaxis": "y"
        },
        {
         "hovertemplate": "Product=SET OF TEA COFFEE SUGAR TINS PANTRY<br>Invoice Number=%{x}<br>Revenue ($)=%{y}<extra></extra>",
         "legendgroup": "SET OF TEA COFFEE SUGAR TINS PANTRY",
         "marker": {
          "color": "#ab63fa",
          "pattern": {
           "shape": ""
          }
         },
         "name": "SET OF TEA COFFEE SUGAR TINS PANTRY",
         "orientation": "v",
         "showlegend": true,
         "textposition": "auto",
         "type": "bar",
         "width": 0.6,
         "x": [
          "564856"
         ],
         "xaxis": "x",
         "y": {
          "bdata": "zczMzMzMQ0A=",
          "dtype": "f8"
         },
         "yaxis": "y"
        },
        {
         "hovertemplate": "Product=FRYING PAN UNION FLAG<br>Invoice Number=%{x}<br>Revenue ($)=%{y}<extra></extra>",
         "legendgroup": "FRYING PAN UNION FLAG",
         "marker": {
          "color": "#FFA15A",
          "pattern": {
           "shape": ""
          }
         },
         "name": "FRYING PAN UNION FLAG",
         "orientation": "v",
         "showlegend": true,
         "textposition": "auto",
         "type": "bar",
         "width": 0.6,
         "x": [
          "564856"
         ],
         "xaxis": "x",
         "y": {
          "bdata": "AAAAAAAAMUA=",
          "dtype": "f8"
         },
         "yaxis": "y"
        },
        {
         "hovertemplate": "Product=PINK HEART SHAPE EGG FRYING PAN<br>Invoice Number=%{x}<br>Revenue ($)=%{y}<extra></extra>",
         "legendgroup": "PINK HEART SHAPE EGG FRYING PAN",
         "marker": {
          "color": "#19d3f3",
          "pattern": {
           "shape": ""
          }
         },
         "name": "PINK HEART SHAPE EGG FRYING PAN",
         "orientation": "v",
         "showlegend": true,
         "textposition": "auto",
         "type": "bar",
         "width": 0.6,
         "x": [
          "564856"
         ],
         "xaxis": "x",
         "y": {
          "bdata": "zMzMzMzMM0A=",
          "dtype": "f8"
         },
         "yaxis": "y"
        },
        {
         "hovertemplate": "Product=BREAD BIN DINER STYLE RED <br>Invoice Number=%{x}<br>Revenue ($)=%{y}<extra></extra>",
         "legendgroup": "BREAD BIN DINER STYLE RED ",
         "marker": {
          "color": "#FF6692",
          "pattern": {
           "shape": ""
          }
         },
         "name": "BREAD BIN DINER STYLE RED ",
         "orientation": "v",
         "showlegend": true,
         "textposition": "auto",
         "type": "bar",
         "width": 0.6,
         "x": [
          "564856"
         ],
         "xaxis": "x",
         "y": {
          "bdata": "zMzMzMxsSUA=",
          "dtype": "f8"
         },
         "yaxis": "y"
        },
        {
         "hovertemplate": "Product=WALL TIDY RETROSPOT <br>Invoice Number=%{x}<br>Revenue ($)=%{y}<extra></extra>",
         "legendgroup": "WALL TIDY RETROSPOT ",
         "marker": {
          "color": "#B6E880",
          "pattern": {
           "shape": ""
          }
         },
         "name": "WALL TIDY RETROSPOT ",
         "orientation": "v",
         "showlegend": true,
         "textposition": "auto",
         "type": "bar",
         "width": 0.6,
         "x": [
          "564856"
         ],
         "xaxis": "x",
         "y": {
          "bdata": "AAAAAAAAJUA=",
          "dtype": "f8"
         },
         "yaxis": "y"
        },
        {
         "hovertemplate": "Product=LE GRAND TRAY CHIC SET<br>Invoice Number=%{x}<br>Revenue ($)=%{y}<extra></extra>",
         "legendgroup": "LE GRAND TRAY CHIC SET",
         "marker": {
          "color": "#FF97FF",
          "pattern": {
           "shape": ""
          }
         },
         "name": "LE GRAND TRAY CHIC SET",
         "orientation": "v",
         "showlegend": true,
         "textposition": "auto",
         "type": "bar",
         "width": 0.6,
         "x": [
          "564856"
         ],
         "xaxis": "x",
         "y": {
          "bdata": "AAAAAADAQkA=",
          "dtype": "f8"
         },
         "yaxis": "y"
        },
        {
         "hovertemplate": "Product=RED KITCHEN SCALES<br>Invoice Number=%{x}<br>Revenue ($)=%{y}<extra></extra>",
         "legendgroup": "RED KITCHEN SCALES",
         "marker": {
          "color": "#FECB52",
          "pattern": {
           "shape": ""
          }
         },
         "name": "RED KITCHEN SCALES",
         "orientation": "v",
         "showlegend": true,
         "textposition": "auto",
         "type": "bar",
         "width": 0.6,
         "x": [
          "564856"
         ],
         "xaxis": "x",
         "y": {
          "bdata": "AAAAAABAVUA=",
          "dtype": "f8"
         },
         "yaxis": "y"
        },
        {
         "hovertemplate": "Product=ROUND CAKE TIN VINTAGE RED<br>Invoice Number=%{x}<br>Revenue ($)=%{y}<extra></extra>",
         "legendgroup": "ROUND CAKE TIN VINTAGE RED",
         "marker": {
          "color": "#636efa",
          "pattern": {
           "shape": ""
          }
         },
         "name": "ROUND CAKE TIN VINTAGE RED",
         "orientation": "v",
         "showlegend": true,
         "textposition": "auto",
         "type": "bar",
         "width": 0.6,
         "x": [
          "564856"
         ],
         "xaxis": "x",
         "y": {
          "bdata": "zczMzMzMP0A=",
          "dtype": "f8"
         },
         "yaxis": "y"
        },
        {
         "hovertemplate": "Product=SET/6 RED SPOTTY PAPER CUPS<br>Invoice Number=%{x}<br>Revenue ($)=%{y}<extra></extra>",
         "legendgroup": "SET/6 RED SPOTTY PAPER CUPS",
         "marker": {
          "color": "#EF553B",
          "pattern": {
           "shape": ""
          }
         },
         "name": "SET/6 RED SPOTTY PAPER CUPS",
         "orientation": "v",
         "showlegend": true,
         "textposition": "auto",
         "type": "bar",
         "width": 0.6,
         "x": [
          "564856"
         ],
         "xaxis": "x",
         "y": {
          "bdata": "NDMzMzMzH0A=",
          "dtype": "f8"
         },
         "yaxis": "y"
        },
        {
         "hovertemplate": "Product=SET/6 RED SPOTTY PAPER PLATES<br>Invoice Number=%{x}<br>Revenue ($)=%{y}<extra></extra>",
         "legendgroup": "SET/6 RED SPOTTY PAPER PLATES",
         "marker": {
          "color": "#00cc96",
          "pattern": {
           "shape": ""
          }
         },
         "name": "SET/6 RED SPOTTY PAPER PLATES",
         "orientation": "v",
         "showlegend": true,
         "textposition": "auto",
         "type": "bar",
         "width": 0.6,
         "x": [
          "564856"
         ],
         "xaxis": "x",
         "y": {
          "bdata": "ZmZmZmZmJEA=",
          "dtype": "f8"
         },
         "yaxis": "y"
        },
        {
         "hovertemplate": "Product=PACK OF 20 NAPKINS RED APPLES<br>Invoice Number=%{x}<br>Revenue ($)=%{y}<extra></extra>",
         "legendgroup": "PACK OF 20 NAPKINS RED APPLES",
         "marker": {
          "color": "#ab63fa",
          "pattern": {
           "shape": ""
          }
         },
         "name": "PACK OF 20 NAPKINS RED APPLES",
         "orientation": "v",
         "showlegend": true,
         "textposition": "auto",
         "type": "bar",
         "width": 0.6,
         "x": [
          "564856"
         ],
         "xaxis": "x",
         "y": {
          "bdata": "ZmZmZmZmJEA=",
          "dtype": "f8"
         },
         "yaxis": "y"
        },
        {
         "hovertemplate": "Product=STRAWBERRY RAFFIA FOOD COVER<br>Invoice Number=%{x}<br>Revenue ($)=%{y}<extra></extra>",
         "legendgroup": "STRAWBERRY RAFFIA FOOD COVER",
         "marker": {
          "color": "#FFA15A",
          "pattern": {
           "shape": ""
          }
         },
         "name": "STRAWBERRY RAFFIA FOOD COVER",
         "orientation": "v",
         "showlegend": true,
         "textposition": "auto",
         "type": "bar",
         "width": 0.6,
         "x": [
          "564856"
         ],
         "xaxis": "x",
         "y": {
          "bdata": "AAAAAADgUEA=",
          "dtype": "f8"
         },
         "yaxis": "y"
        },
        {
         "hovertemplate": "Product=CHERRY CROCHET FOOD COVER<br>Invoice Number=%{x}<br>Revenue ($)=%{y}<extra></extra>",
         "legendgroup": "CHERRY CROCHET FOOD COVER",
         "marker": {
          "color": "#19d3f3",
          "pattern": {
           "shape": ""
          }
         },
         "name": "CHERRY CROCHET FOOD COVER",
         "orientation": "v",
         "showlegend": true,
         "textposition": "auto",
         "type": "bar",
         "width": 0.6,
         "x": [
          "564856"
         ],
         "xaxis": "x",
         "y": {
          "bdata": "AAAAAADgUEA=",
          "dtype": "f8"
         },
         "yaxis": "y"
        },
        {
         "hovertemplate": "Product=SET OF 16 VINTAGE BLACK CUTLERY<br>Invoice Number=%{x}<br>Revenue ($)=%{y}<extra></extra>",
         "legendgroup": "SET OF 16 VINTAGE BLACK CUTLERY",
         "marker": {
          "color": "#FF6692",
          "pattern": {
           "shape": ""
          }
         },
         "name": "SET OF 16 VINTAGE BLACK CUTLERY",
         "orientation": "v",
         "showlegend": true,
         "textposition": "auto",
         "type": "bar",
         "width": 0.6,
         "x": [
          "564856"
         ],
         "xaxis": "x",
         "y": {
          "bdata": "zMzMzMxscEA=",
          "dtype": "f8"
         },
         "yaxis": "y"
        },
        {
         "hovertemplate": "Product=RED RETROSPOT BOWL<br>Invoice Number=%{x}<br>Revenue ($)=%{y}<extra></extra>",
         "legendgroup": "RED RETROSPOT BOWL",
         "marker": {
          "color": "#B6E880",
          "pattern": {
           "shape": ""
          }
         },
         "name": "RED RETROSPOT BOWL",
         "orientation": "v",
         "showlegend": true,
         "textposition": "auto",
         "type": "bar",
         "width": 0.6,
         "x": [
          "564856"
         ],
         "xaxis": "x",
         "y": {
          "bdata": "AAAAAAAANEA=",
          "dtype": "f8"
         },
         "yaxis": "y"
        },
        {
         "hovertemplate": "Product=COFFEE MUG BLUE PAISLEY DESIGN<br>Invoice Number=%{x}<br>Revenue ($)=%{y}<extra></extra>",
         "legendgroup": "COFFEE MUG BLUE PAISLEY DESIGN",
         "marker": {
          "color": "#FF97FF",
          "pattern": {
           "shape": ""
          }
         },
         "name": "COFFEE MUG BLUE PAISLEY DESIGN",
         "orientation": "v",
         "showlegend": true,
         "textposition": "auto",
         "type": "bar",
         "width": 0.6,
         "x": [
          "564856"
         ],
         "xaxis": "x",
         "y": {
          "bdata": "mZmZmZmZLkA=",
          "dtype": "f8"
         },
         "yaxis": "y"
        },
        {
         "hovertemplate": "Product=TABLECLOTH RED APPLES DESIGN <br>Invoice Number=%{x}<br>Revenue ($)=%{y}<extra></extra>",
         "legendgroup": "TABLECLOTH RED APPLES DESIGN ",
         "marker": {
          "color": "#FECB52",
          "pattern": {
           "shape": ""
          }
         },
         "name": "TABLECLOTH RED APPLES DESIGN ",
         "orientation": "v",
         "showlegend": true,
         "textposition": "auto",
         "type": "bar",
         "width": 0.6,
         "x": [
          "564856"
         ],
         "xaxis": "x",
         "y": {
          "bdata": "AAAAAADgWEA=",
          "dtype": "f8"
         },
         "yaxis": "y"
        },
        {
         "hovertemplate": "Product=CHILDRENS CUTLERY RETROSPOT RED <br>Invoice Number=%{x}<br>Revenue ($)=%{y}<extra></extra>",
         "legendgroup": "CHILDRENS CUTLERY RETROSPOT RED ",
         "marker": {
          "color": "#636efa",
          "pattern": {
           "shape": ""
          }
         },
         "name": "CHILDRENS CUTLERY RETROSPOT RED ",
         "orientation": "v",
         "showlegend": true,
         "textposition": "auto",
         "type": "bar",
         "width": 0.6,
         "x": [
          "564856"
         ],
         "xaxis": "x",
         "y": {
          "bdata": "Z2ZmZmbmSEA=",
          "dtype": "f8"
         },
         "yaxis": "y"
        },
        {
         "hovertemplate": "Product=BIG DOUGHNUT FRIDGE MAGNETS<br>Invoice Number=%{x}<br>Revenue ($)=%{y}<extra></extra>",
         "legendgroup": "BIG DOUGHNUT FRIDGE MAGNETS",
         "marker": {
          "color": "#EF553B",
          "pattern": {
           "shape": ""
          }
         },
         "name": "BIG DOUGHNUT FRIDGE MAGNETS",
         "orientation": "v",
         "showlegend": true,
         "textposition": "auto",
         "type": "bar",
         "width": 0.6,
         "x": [
          "564856"
         ],
         "xaxis": "x",
         "y": {
          "bdata": "ZmZmZmZmJEA=",
          "dtype": "f8"
         },
         "yaxis": "y"
        },
        {
         "hovertemplate": "Product=SET OF 4 JAM JAR MAGNETS<br>Invoice Number=%{x}<br>Revenue ($)=%{y}<extra></extra>",
         "legendgroup": "SET OF 4 JAM JAR MAGNETS",
         "marker": {
          "color": "#00cc96",
          "pattern": {
           "shape": ""
          }
         },
         "name": "SET OF 4 JAM JAR MAGNETS",
         "orientation": "v",
         "showlegend": true,
         "textposition": "auto",
         "type": "bar",
         "width": 0.6,
         "x": [
          "564856"
         ],
         "xaxis": "x",
         "y": {
          "bdata": "9ihcj8L1OEA=",
          "dtype": "f8"
         },
         "yaxis": "y"
        },
        {
         "hovertemplate": "Product=KNICKERBOCKERGLORY MAGNET ASSORTED <br>Invoice Number=%{x}<br>Revenue ($)=%{y}<extra></extra>",
         "legendgroup": "KNICKERBOCKERGLORY MAGNET ASSORTED ",
         "marker": {
          "color": "#ab63fa",
          "pattern": {
           "shape": ""
          }
         },
         "name": "KNICKERBOCKERGLORY MAGNET ASSORTED ",
         "orientation": "v",
         "showlegend": true,
         "textposition": "auto",
         "type": "bar",
         "width": 0.6,
         "x": [
          "564856"
         ],
         "xaxis": "x",
         "y": {
          "bdata": "61G4HoXrI0A=",
          "dtype": "f8"
         },
         "yaxis": "y"
        },
        {
         "hovertemplate": "Product=SET OF 5 MINI GROCERY MAGNETS<br>Invoice Number=%{x}<br>Revenue ($)=%{y}<extra></extra>",
         "legendgroup": "SET OF 5 MINI GROCERY MAGNETS",
         "marker": {
          "color": "#FFA15A",
          "pattern": {
           "shape": ""
          }
         },
         "name": "SET OF 5 MINI GROCERY MAGNETS",
         "orientation": "v",
         "showlegend": true,
         "textposition": "auto",
         "type": "bar",
         "width": 0.6,
         "x": [
          "564856"
         ],
         "xaxis": "x",
         "y": {
          "bdata": "9ihcj8L1OEA=",
          "dtype": "f8"
         },
         "yaxis": "y"
        },
        {
         "hovertemplate": "Product=SET OF 5 PANCAKE DAY MAGNETS<br>Invoice Number=%{x}<br>Revenue ($)=%{y}<extra></extra>",
         "legendgroup": "SET OF 5 PANCAKE DAY MAGNETS",
         "marker": {
          "color": "#19d3f3",
          "pattern": {
           "shape": ""
          }
         },
         "name": "SET OF 5 PANCAKE DAY MAGNETS",
         "orientation": "v",
         "showlegend": true,
         "textposition": "auto",
         "type": "bar",
         "width": 0.6,
         "x": [
          "564856"
         ],
         "xaxis": "x",
         "y": {
          "bdata": "9ihcj8L1OEA=",
          "dtype": "f8"
         },
         "yaxis": "y"
        },
        {
         "hovertemplate": "Product=SET OF 5 LUCKY CAT MAGNETS <br>Invoice Number=%{x}<br>Revenue ($)=%{y}<extra></extra>",
         "legendgroup": "SET OF 5 LUCKY CAT MAGNETS ",
         "marker": {
          "color": "#FF6692",
          "pattern": {
           "shape": ""
          }
         },
         "name": "SET OF 5 LUCKY CAT MAGNETS ",
         "orientation": "v",
         "showlegend": true,
         "textposition": "auto",
         "type": "bar",
         "width": 0.6,
         "x": [
          "564856",
          "581179"
         ],
         "xaxis": "x",
         "y": {
          "bdata": "9ihcj8L1OED2KFyPwvVIQA==",
          "dtype": "f8"
         },
         "yaxis": "y"
        },
        {
         "hovertemplate": "Product=BLUE PAISLEY JOURNAL <br>Invoice Number=%{x}<br>Revenue ($)=%{y}<extra></extra>",
         "legendgroup": "BLUE PAISLEY JOURNAL ",
         "marker": {
          "color": "#B6E880",
          "pattern": {
           "shape": ""
          }
         },
         "name": "BLUE PAISLEY JOURNAL ",
         "orientation": "v",
         "showlegend": true,
         "textposition": "auto",
         "type": "bar",
         "width": 0.6,
         "x": [
          "564856"
         ],
         "xaxis": "x",
         "y": {
          "bdata": "Z2ZmZmbmUkA=",
          "dtype": "f8"
         },
         "yaxis": "y"
        },
        {
         "hovertemplate": "Product=GARDEN PATH JOURNAL<br>Invoice Number=%{x}<br>Revenue ($)=%{y}<extra></extra>",
         "legendgroup": "GARDEN PATH JOURNAL",
         "marker": {
          "color": "#FF97FF",
          "pattern": {
           "shape": ""
          }
         },
         "name": "GARDEN PATH JOURNAL",
         "orientation": "v",
         "showlegend": true,
         "textposition": "auto",
         "type": "bar",
         "width": 0.6,
         "x": [
          "564856"
         ],
         "xaxis": "x",
         "y": {
          "bdata": "mZmZmZmZPkA=",
          "dtype": "f8"
         },
         "yaxis": "y"
        },
        {
         "hovertemplate": "Product=MEMO BOARD RETROSPOT  DESIGN<br>Invoice Number=%{x}<br>Revenue ($)=%{y}<extra></extra>",
         "legendgroup": "MEMO BOARD RETROSPOT  DESIGN",
         "marker": {
          "color": "#FECB52",
          "pattern": {
           "shape": ""
          }
         },
         "name": "MEMO BOARD RETROSPOT  DESIGN",
         "orientation": "v",
         "showlegend": true,
         "textposition": "auto",
         "type": "bar",
         "width": 0.6,
         "x": [
          "564856"
         ],
         "xaxis": "x",
         "y": {
          "bdata": "NDMzMzOzTUA=",
          "dtype": "f8"
         },
         "yaxis": "y"
        },
        {
         "hovertemplate": "Product=STORAGE TIN VINTAGE LEAF<br>Invoice Number=%{x}<br>Revenue ($)=%{y}<extra></extra>",
         "legendgroup": "STORAGE TIN VINTAGE LEAF",
         "marker": {
          "color": "#636efa",
          "pattern": {
           "shape": ""
          }
         },
         "name": "STORAGE TIN VINTAGE LEAF",
         "orientation": "v",
         "showlegend": true,
         "textposition": "auto",
         "type": "bar",
         "width": 0.6,
         "x": [
          "564856"
         ],
         "xaxis": "x",
         "y": {
          "bdata": "16NwPQpXQUA=",
          "dtype": "f8"
         },
         "yaxis": "y"
        },
        {
         "hovertemplate": "Product=ROUND STORAGE TIN VINTAGE LEAF<br>Invoice Number=%{x}<br>Revenue ($)=%{y}<extra></extra>",
         "legendgroup": "ROUND STORAGE TIN VINTAGE LEAF",
         "marker": {
          "color": "#EF553B",
          "pattern": {
           "shape": ""
          }
         },
         "name": "ROUND STORAGE TIN VINTAGE LEAF",
         "orientation": "v",
         "showlegend": true,
         "textposition": "auto",
         "type": "bar",
         "width": 0.6,
         "x": [
          "564856"
         ],
         "xaxis": "x",
         "y": {
          "bdata": "ZmZmZmZmJ0A=",
          "dtype": "f8"
         },
         "yaxis": "y"
        },
        {
         "hovertemplate": "Product=STORAGE TIN VINTAGE DOILY <br>Invoice Number=%{x}<br>Revenue ($)=%{y}<extra></extra>",
         "legendgroup": "STORAGE TIN VINTAGE DOILY ",
         "marker": {
          "color": "#00cc96",
          "pattern": {
           "shape": ""
          }
         },
         "name": "STORAGE TIN VINTAGE DOILY ",
         "orientation": "v",
         "showlegend": true,
         "textposition": "auto",
         "type": "bar",
         "width": 0.6,
         "x": [
          "564856"
         ],
         "xaxis": "x",
         "y": {
          "bdata": "16NwPQpXMUA=",
          "dtype": "f8"
         },
         "yaxis": "y"
        },
        {
         "hovertemplate": "Product=SET OF 4 KNICK KNACK TINS DOILY <br>Invoice Number=%{x}<br>Revenue ($)=%{y}<extra></extra>",
         "legendgroup": "SET OF 4 KNICK KNACK TINS DOILY ",
         "marker": {
          "color": "#ab63fa",
          "pattern": {
           "shape": ""
          }
         },
         "name": "SET OF 4 KNICK KNACK TINS DOILY ",
         "orientation": "v",
         "showlegend": true,
         "textposition": "auto",
         "type": "bar",
         "width": 0.6,
         "x": [
          "564856"
         ],
         "xaxis": "x",
         "y": {
          "bdata": "Z2ZmZmbmOEA=",
          "dtype": "f8"
         },
         "yaxis": "y"
        },
        {
         "hovertemplate": "Product=PINK FAIRY CAKE CUSHION COVER<br>Invoice Number=%{x}<br>Revenue ($)=%{y}<extra></extra>",
         "legendgroup": "PINK FAIRY CAKE CUSHION COVER",
         "marker": {
          "color": "#FFA15A",
          "pattern": {
           "shape": ""
          }
         },
         "name": "PINK FAIRY CAKE CUSHION COVER",
         "orientation": "v",
         "showlegend": true,
         "textposition": "auto",
         "type": "bar",
         "width": 0.6,
         "x": [
          "564856"
         ],
         "xaxis": "x",
         "y": {
          "bdata": "AAAAAAAALkA=",
          "dtype": "f8"
         },
         "yaxis": "y"
        },
        {
         "hovertemplate": "Product=STRAWBERRY CERAMIC TRINKET POT<br>Invoice Number=%{x}<br>Revenue ($)=%{y}<extra></extra>",
         "legendgroup": "STRAWBERRY CERAMIC TRINKET POT",
         "marker": {
          "color": "#19d3f3",
          "pattern": {
           "shape": ""
          }
         },
         "name": "STRAWBERRY CERAMIC TRINKET POT",
         "orientation": "v",
         "showlegend": true,
         "textposition": "auto",
         "type": "bar",
         "width": 0.6,
         "x": [
          "581179"
         ],
         "xaxis": "x",
         "y": {
          "bdata": "AAAAAAAATkA=",
          "dtype": "f8"
         },
         "yaxis": "y"
        },
        {
         "hovertemplate": "Product=REGENCY CAKESTAND 3 TIER<br>Invoice Number=%{x}<br>Revenue ($)=%{y}<extra></extra>",
         "legendgroup": "REGENCY CAKESTAND 3 TIER",
         "marker": {
          "color": "#FF6692",
          "pattern": {
           "shape": ""
          }
         },
         "name": "REGENCY CAKESTAND 3 TIER",
         "orientation": "v",
         "showlegend": true,
         "textposition": "auto",
         "type": "bar",
         "width": 0.6,
         "x": [
          "581179"
         ],
         "xaxis": "x",
         "y": {
          "bdata": "ZmZmZmbmhUA=",
          "dtype": "f8"
         },
         "yaxis": "y"
        },
        {
         "hovertemplate": "Product=PLASTERS IN TIN WOODLAND ANIMALS<br>Invoice Number=%{x}<br>Revenue ($)=%{y}<extra></extra>",
         "legendgroup": "PLASTERS IN TIN WOODLAND ANIMALS",
         "marker": {
          "color": "#B6E880",
          "pattern": {
           "shape": ""
          }
         },
         "name": "PLASTERS IN TIN WOODLAND ANIMALS",
         "orientation": "v",
         "showlegend": true,
         "textposition": "auto",
         "type": "bar",
         "width": 0.6,
         "x": [
          "581179"
         ],
         "xaxis": "x",
         "y": {
          "bdata": "zMzMzMzMQ0A=",
          "dtype": "f8"
         },
         "yaxis": "y"
        },
        {
         "hovertemplate": "Product=PLASTERS IN TIN CIRCUS PARADE <br>Invoice Number=%{x}<br>Revenue ($)=%{y}<extra></extra>",
         "legendgroup": "PLASTERS IN TIN CIRCUS PARADE ",
         "marker": {
          "color": "#FF97FF",
          "pattern": {
           "shape": ""
          }
         },
         "name": "PLASTERS IN TIN CIRCUS PARADE ",
         "orientation": "v",
         "showlegend": true,
         "textposition": "auto",
         "type": "bar",
         "width": 0.6,
         "x": [
          "581179"
         ],
         "xaxis": "x",
         "y": {
          "bdata": "zMzMzMzMQ0A=",
          "dtype": "f8"
         },
         "yaxis": "y"
        },
        {
         "hovertemplate": "Product=TRADITIONAL KNITTING NANCY<br>Invoice Number=%{x}<br>Revenue ($)=%{y}<extra></extra>",
         "legendgroup": "TRADITIONAL KNITTING NANCY",
         "marker": {
          "color": "#FECB52",
          "pattern": {
           "shape": ""
          }
         },
         "name": "TRADITIONAL KNITTING NANCY",
         "orientation": "v",
         "showlegend": true,
         "textposition": "auto",
         "type": "bar",
         "width": 0.6,
         "x": [
          "581179"
         ],
         "xaxis": "x",
         "y": {
          "bdata": "MzMzMzOzTUA=",
          "dtype": "f8"
         },
         "yaxis": "y"
        },
        {
         "hovertemplate": "Product=LIPSTICK PEN RED<br>Invoice Number=%{x}<br>Revenue ($)=%{y}<extra></extra>",
         "legendgroup": "LIPSTICK PEN RED",
         "marker": {
          "color": "#636efa",
          "pattern": {
           "shape": ""
          }
         },
         "name": "LIPSTICK PEN RED",
         "orientation": "v",
         "showlegend": true,
         "textposition": "auto",
         "type": "bar",
         "width": 0.6,
         "x": [
          "581179"
         ],
         "xaxis": "x",
         "y": {
          "bdata": "KVyPwvUoNEA=",
          "dtype": "f8"
         },
         "yaxis": "y"
        },
        {
         "hovertemplate": "Product=ALARM CLOCK BAKELIKE PINK<br>Invoice Number=%{x}<br>Revenue ($)=%{y}<extra></extra>",
         "legendgroup": "ALARM CLOCK BAKELIKE PINK",
         "marker": {
          "color": "#EF553B",
          "pattern": {
           "shape": ""
          }
         },
         "name": "ALARM CLOCK BAKELIKE PINK",
         "orientation": "v",
         "showlegend": true,
         "textposition": "auto",
         "type": "bar",
         "width": 0.6,
         "x": [
          "581179"
         ],
         "xaxis": "x",
         "y": {
          "bdata": "AAAAAAAATkA=",
          "dtype": "f8"
         },
         "yaxis": "y"
        },
        {
         "hovertemplate": "Product=JAM MAKING SET PRINTED<br>Invoice Number=%{x}<br>Revenue ($)=%{y}<extra></extra>",
         "legendgroup": "JAM MAKING SET PRINTED",
         "marker": {
          "color": "#00cc96",
          "pattern": {
           "shape": ""
          }
         },
         "name": "JAM MAKING SET PRINTED",
         "orientation": "v",
         "showlegend": true,
         "textposition": "auto",
         "type": "bar",
         "width": 0.6,
         "x": [
          "581179"
         ],
         "xaxis": "x",
         "y": {
          "bdata": "ZmZmZmZmQUA=",
          "dtype": "f8"
         },
         "yaxis": "y"
        },
        {
         "hovertemplate": "Product=SET OF 12 MINI LOAF BAKING CASES<br>Invoice Number=%{x}<br>Revenue ($)=%{y}<extra></extra>",
         "legendgroup": "SET OF 12 MINI LOAF BAKING CASES",
         "marker": {
          "color": "#ab63fa",
          "pattern": {
           "shape": ""
          }
         },
         "name": "SET OF 12 MINI LOAF BAKING CASES",
         "orientation": "v",
         "showlegend": true,
         "textposition": "auto",
         "type": "bar",
         "width": 0.6,
         "x": [
          "581179"
         ],
         "xaxis": "x",
         "y": {
          "bdata": "j8L1KFyPOkA=",
          "dtype": "f8"
         },
         "yaxis": "y"
        },
        {
         "hovertemplate": "Product=SET OF 6 SNACK LOAF BAKING CASES<br>Invoice Number=%{x}<br>Revenue ($)=%{y}<extra></extra>",
         "legendgroup": "SET OF 6 SNACK LOAF BAKING CASES",
         "marker": {
          "color": "#FFA15A",
          "pattern": {
           "shape": ""
          }
         },
         "name": "SET OF 6 SNACK LOAF BAKING CASES",
         "orientation": "v",
         "showlegend": true,
         "textposition": "auto",
         "type": "bar",
         "width": 0.6,
         "x": [
          "581179"
         ],
         "xaxis": "x",
         "y": {
          "bdata": "j8L1KFyPKkA=",
          "dtype": "f8"
         },
         "yaxis": "y"
        },
        {
         "hovertemplate": "Product=REGENCY SUGAR BOWL GREEN<br>Invoice Number=%{x}<br>Revenue ($)=%{y}<extra></extra>",
         "legendgroup": "REGENCY SUGAR BOWL GREEN",
         "marker": {
          "color": "#19d3f3",
          "pattern": {
           "shape": ""
          }
         },
         "name": "REGENCY SUGAR BOWL GREEN",
         "orientation": "v",
         "showlegend": true,
         "textposition": "auto",
         "type": "bar",
         "width": 0.6,
         "x": [
          "581179"
         ],
         "xaxis": "x",
         "y": {
          "bdata": "mpmZmZmZMEA=",
          "dtype": "f8"
         },
         "yaxis": "y"
        },
        {
         "hovertemplate": "Product=PANTRY MAGNETIC  SHOPPING LIST<br>Invoice Number=%{x}<br>Revenue ($)=%{y}<extra></extra>",
         "legendgroup": "PANTRY MAGNETIC  SHOPPING LIST",
         "marker": {
          "color": "#FF6692",
          "pattern": {
           "shape": ""
          }
         },
         "name": "PANTRY MAGNETIC  SHOPPING LIST",
         "orientation": "v",
         "showlegend": true,
         "textposition": "auto",
         "type": "bar",
         "width": 0.6,
         "x": [
          "581179"
         ],
         "xaxis": "x",
         "y": {
          "bdata": "ZmZmZmZmQUA=",
          "dtype": "f8"
         },
         "yaxis": "y"
        },
        {
         "hovertemplate": "Product=SKETCHBOOK MAGNETIC SHOPPING LIST<br>Invoice Number=%{x}<br>Revenue ($)=%{y}<extra></extra>",
         "legendgroup": "SKETCHBOOK MAGNETIC SHOPPING LIST",
         "marker": {
          "color": "#B6E880",
          "pattern": {
           "shape": ""
          }
         },
         "name": "SKETCHBOOK MAGNETIC SHOPPING LIST",
         "orientation": "v",
         "showlegend": true,
         "textposition": "auto",
         "type": "bar",
         "width": 0.6,
         "x": [
          "581179"
         ],
         "xaxis": "x",
         "y": {
          "bdata": "ZmZmZmZmQUA=",
          "dtype": "f8"
         },
         "yaxis": "y"
        },
        {
         "hovertemplate": "Product=BOX OF 6 MINI 50'S CRACKERS<br>Invoice Number=%{x}<br>Revenue ($)=%{y}<extra></extra>",
         "legendgroup": "BOX OF 6 MINI 50'S CRACKERS",
         "marker": {
          "color": "#FF97FF",
          "pattern": {
           "shape": ""
          }
         },
         "name": "BOX OF 6 MINI 50'S CRACKERS",
         "orientation": "v",
         "showlegend": true,
         "textposition": "auto",
         "type": "bar",
         "width": 0.6,
         "x": [
          "581179"
         ],
         "xaxis": "x",
         "y": {
          "bdata": "4noUrkfhPUA=",
          "dtype": "f8"
         },
         "yaxis": "y"
        },
        {
         "hovertemplate": "Product=ICE CREAM BUBBLES<br>Invoice Number=%{x}<br>Revenue ($)=%{y}<extra></extra>",
         "legendgroup": "ICE CREAM BUBBLES",
         "marker": {
          "color": "#FECB52",
          "pattern": {
           "shape": ""
          }
         },
         "name": "ICE CREAM BUBBLES",
         "orientation": "v",
         "showlegend": true,
         "textposition": "auto",
         "type": "bar",
         "width": 0.6,
         "x": [
          "581179"
         ],
         "xaxis": "x",
         "y": {
          "bdata": "mZmZmZmZQEA=",
          "dtype": "f8"
         },
         "yaxis": "y"
        },
        {
         "hovertemplate": "Product=WOODLAND BUNNIES LOLLY MAKERS<br>Invoice Number=%{x}<br>Revenue ($)=%{y}<extra></extra>",
         "legendgroup": "WOODLAND BUNNIES LOLLY MAKERS",
         "marker": {
          "color": "#636efa",
          "pattern": {
           "shape": ""
          }
         },
         "name": "WOODLAND BUNNIES LOLLY MAKERS",
         "orientation": "v",
         "showlegend": true,
         "textposition": "auto",
         "type": "bar",
         "width": 0.6,
         "x": [
          "581179"
         ],
         "xaxis": "x",
         "y": {
          "bdata": "16NwPQrXVUA=",
          "dtype": "f8"
         },
         "yaxis": "y"
        },
        {
         "hovertemplate": "Product=PANTRY CHOPPING BOARD<br>Invoice Number=%{x}<br>Revenue ($)=%{y}<extra></extra>",
         "legendgroup": "PANTRY CHOPPING BOARD",
         "marker": {
          "color": "#EF553B",
          "pattern": {
           "shape": ""
          }
         },
         "name": "PANTRY CHOPPING BOARD",
         "orientation": "v",
         "showlegend": true,
         "textposition": "auto",
         "type": "bar",
         "width": 0.6,
         "x": [
          "581179"
         ],
         "xaxis": "x",
         "y": {
          "bdata": "NDMzMzOzLUA=",
          "dtype": "f8"
         },
         "yaxis": "y"
        },
        {
         "hovertemplate": "Product=SET 12 COLOUR PENCILS DOLLY GIRL <br>Invoice Number=%{x}<br>Revenue ($)=%{y}<extra></extra>",
         "legendgroup": "SET 12 COLOUR PENCILS DOLLY GIRL ",
         "marker": {
          "color": "#00cc96",
          "pattern": {
           "shape": ""
          }
         },
         "name": "SET 12 COLOUR PENCILS DOLLY GIRL ",
         "orientation": "v",
         "showlegend": true,
         "textposition": "auto",
         "type": "bar",
         "width": 0.6,
         "x": [
          "581179"
         ],
         "xaxis": "x",
         "y": {
          "bdata": "NDMzMzMzL0A=",
          "dtype": "f8"
         },
         "yaxis": "y"
        },
        {
         "hovertemplate": "Product=I LOVE LONDON BEAKER<br>Invoice Number=%{x}<br>Revenue ($)=%{y}<extra></extra>",
         "legendgroup": "I LOVE LONDON BEAKER",
         "marker": {
          "color": "#ab63fa",
          "pattern": {
           "shape": ""
          }
         },
         "name": "I LOVE LONDON BEAKER",
         "orientation": "v",
         "showlegend": true,
         "textposition": "auto",
         "type": "bar",
         "width": 0.6,
         "x": [
          "581179"
         ],
         "xaxis": "x",
         "y": {
          "bdata": "AAAAAAAAPkA=",
          "dtype": "f8"
         },
         "yaxis": "y"
        },
        {
         "hovertemplate": "Product=SPACEBOY BEAKER<br>Invoice Number=%{x}<br>Revenue ($)=%{y}<extra></extra>",
         "legendgroup": "SPACEBOY BEAKER",
         "marker": {
          "color": "#FFA15A",
          "pattern": {
           "shape": ""
          }
         },
         "name": "SPACEBOY BEAKER",
         "orientation": "v",
         "showlegend": true,
         "textposition": "auto",
         "type": "bar",
         "width": 0.6,
         "x": [
          "581179"
         ],
         "xaxis": "x",
         "y": {
          "bdata": "AAAAAAAALkA=",
          "dtype": "f8"
         },
         "yaxis": "y"
        },
        {
         "hovertemplate": "Product= DOLLY GIRL BEAKER<br>Invoice Number=%{x}<br>Revenue ($)=%{y}<extra></extra>",
         "legendgroup": " DOLLY GIRL BEAKER",
         "marker": {
          "color": "#19d3f3",
          "pattern": {
           "shape": ""
          }
         },
         "name": " DOLLY GIRL BEAKER",
         "orientation": "v",
         "showlegend": true,
         "textposition": "auto",
         "type": "bar",
         "width": 0.6,
         "x": [
          "581179"
         ],
         "xaxis": "x",
         "y": {
          "bdata": "AAAAAAAALkA=",
          "dtype": "f8"
         },
         "yaxis": "y"
        },
        {
         "hovertemplate": "Product=CHILDRENS CUTLERY DOLLY GIRL <br>Invoice Number=%{x}<br>Revenue ($)=%{y}<extra></extra>",
         "legendgroup": "CHILDRENS CUTLERY DOLLY GIRL ",
         "marker": {
          "color": "#FF6692",
          "pattern": {
           "shape": ""
          }
         },
         "name": "CHILDRENS CUTLERY DOLLY GIRL ",
         "orientation": "v",
         "showlegend": true,
         "textposition": "auto",
         "type": "bar",
         "width": 0.6,
         "x": [
          "581179"
         ],
         "xaxis": "x",
         "y": {
          "bdata": "mpmZmZmZMEA=",
          "dtype": "f8"
         },
         "yaxis": "y"
        },
        {
         "hovertemplate": "Product=CHILDRENS CUTLERY SPACEBOY <br>Invoice Number=%{x}<br>Revenue ($)=%{y}<extra></extra>",
         "legendgroup": "CHILDRENS CUTLERY SPACEBOY ",
         "marker": {
          "color": "#B6E880",
          "pattern": {
           "shape": ""
          }
         },
         "name": "CHILDRENS CUTLERY SPACEBOY ",
         "orientation": "v",
         "showlegend": true,
         "textposition": "auto",
         "type": "bar",
         "width": 0.6,
         "x": [
          "581179"
         ],
         "xaxis": "x",
         "y": {
          "bdata": "mpmZmZmZMEA=",
          "dtype": "f8"
         },
         "yaxis": "y"
        },
        {
         "hovertemplate": "Product=WOODLAND SMALL RED FELT HEART<br>Invoice Number=%{x}<br>Revenue ($)=%{y}<extra></extra>",
         "legendgroup": "WOODLAND SMALL RED FELT HEART",
         "marker": {
          "color": "#FF97FF",
          "pattern": {
           "shape": ""
          }
         },
         "name": "WOODLAND SMALL RED FELT HEART",
         "orientation": "v",
         "showlegend": true,
         "textposition": "auto",
         "type": "bar",
         "width": 0.6,
         "x": [
          "581179"
         ],
         "xaxis": "x",
         "y": {
          "bdata": "61G4HoXrM0A=",
          "dtype": "f8"
         },
         "yaxis": "y"
        },
        {
         "hovertemplate": "Product=WOODLAND SMALL BLUE FELT HEART<br>Invoice Number=%{x}<br>Revenue ($)=%{y}<extra></extra>",
         "legendgroup": "WOODLAND SMALL BLUE FELT HEART",
         "marker": {
          "color": "#FECB52",
          "pattern": {
           "shape": ""
          }
         },
         "name": "WOODLAND SMALL BLUE FELT HEART",
         "orientation": "v",
         "showlegend": true,
         "textposition": "auto",
         "type": "bar",
         "width": 0.6,
         "x": [
          "581179"
         ],
         "xaxis": "x",
         "y": {
          "bdata": "61G4HoXrM0A=",
          "dtype": "f8"
         },
         "yaxis": "y"
        },
        {
         "hovertemplate": "Product=WOODLAND SMALL PINK FELT HEART<br>Invoice Number=%{x}<br>Revenue ($)=%{y}<extra></extra>",
         "legendgroup": "WOODLAND SMALL PINK FELT HEART",
         "marker": {
          "color": "#636efa",
          "pattern": {
           "shape": ""
          }
         },
         "name": "WOODLAND SMALL PINK FELT HEART",
         "orientation": "v",
         "showlegend": true,
         "textposition": "auto",
         "type": "bar",
         "width": 0.6,
         "x": [
          "581179"
         ],
         "xaxis": "x",
         "y": {
          "bdata": "61G4HoXrM0A=",
          "dtype": "f8"
         },
         "yaxis": "y"
        },
        {
         "hovertemplate": "Product=MINI LIGHTS WOODLAND MUSHROOMS<br>Invoice Number=%{x}<br>Revenue ($)=%{y}<extra></extra>",
         "legendgroup": "MINI LIGHTS WOODLAND MUSHROOMS",
         "marker": {
          "color": "#EF553B",
          "pattern": {
           "shape": ""
          }
         },
         "name": "MINI LIGHTS WOODLAND MUSHROOMS",
         "orientation": "v",
         "showlegend": true,
         "textposition": "auto",
         "type": "bar",
         "width": 0.6,
         "x": [
          "581179"
         ],
         "xaxis": "x",
         "y": {
          "bdata": "AAAAAACAVkA=",
          "dtype": "f8"
         },
         "yaxis": "y"
        },
        {
         "hovertemplate": "Product=TRADTIONAL ALPHABET STAMP SET<br>Invoice Number=%{x}<br>Revenue ($)=%{y}<extra></extra>",
         "legendgroup": "TRADTIONAL ALPHABET STAMP SET",
         "marker": {
          "color": "#00cc96",
          "pattern": {
           "shape": ""
          }
         },
         "name": "TRADTIONAL ALPHABET STAMP SET",
         "orientation": "v",
         "showlegend": true,
         "textposition": "auto",
         "type": "bar",
         "width": 0.6,
         "x": [
          "581179"
         ],
         "xaxis": "x",
         "y": {
          "bdata": "NDMzMzOzTUA=",
          "dtype": "f8"
         },
         "yaxis": "y"
        },
        {
         "hovertemplate": "Product=MAGIC SHEEP WOOL GROWING FROM PAPER<br>Invoice Number=%{x}<br>Revenue ($)=%{y}<extra></extra>",
         "legendgroup": "MAGIC SHEEP WOOL GROWING FROM PAPER",
         "marker": {
          "color": "#ab63fa",
          "pattern": {
           "shape": ""
          }
         },
         "name": "MAGIC SHEEP WOOL GROWING FROM PAPER",
         "orientation": "v",
         "showlegend": true,
         "textposition": "auto",
         "type": "bar",
         "width": 0.6,
         "x": [
          "581179"
         ],
         "xaxis": "x",
         "y": {
          "bdata": "mZmZmZmZTkA=",
          "dtype": "f8"
         },
         "yaxis": "y"
        },
        {
         "hovertemplate": "Product=BICYCLE PUNCTURE REPAIR KIT <br>Invoice Number=%{x}<br>Revenue ($)=%{y}<extra></extra>",
         "legendgroup": "BICYCLE PUNCTURE REPAIR KIT ",
         "marker": {
          "color": "#FFA15A",
          "pattern": {
           "shape": ""
          }
         },
         "name": "BICYCLE PUNCTURE REPAIR KIT ",
         "orientation": "v",
         "showlegend": true,
         "textposition": "auto",
         "type": "bar",
         "width": 0.6,
         "x": [
          "581179"
         ],
         "xaxis": "x",
         "y": {
          "bdata": "9ihcj8L1KEA=",
          "dtype": "f8"
         },
         "yaxis": "y"
        },
        {
         "hovertemplate": "Product=SNACK TRAY RED VINTAGE DOILY<br>Invoice Number=%{x}<br>Revenue ($)=%{y}<extra></extra>",
         "legendgroup": "SNACK TRAY RED VINTAGE DOILY",
         "marker": {
          "color": "#19d3f3",
          "pattern": {
           "shape": ""
          }
         },
         "name": "SNACK TRAY RED VINTAGE DOILY",
         "orientation": "v",
         "showlegend": true,
         "textposition": "auto",
         "type": "bar",
         "width": 0.6,
         "x": [
          "581179"
         ],
         "xaxis": "x",
         "y": {
          "bdata": "MzMzMzMzL0A=",
          "dtype": "f8"
         },
         "yaxis": "y"
        },
        {
         "hovertemplate": "Product=SNACK TRAY I LOVE LONDON<br>Invoice Number=%{x}<br>Revenue ($)=%{y}<extra></extra>",
         "legendgroup": "SNACK TRAY I LOVE LONDON",
         "marker": {
          "color": "#FF6692",
          "pattern": {
           "shape": ""
          }
         },
         "name": "SNACK TRAY I LOVE LONDON",
         "orientation": "v",
         "showlegend": true,
         "textposition": "auto",
         "type": "bar",
         "width": 0.6,
         "x": [
          "581179"
         ],
         "xaxis": "x",
         "y": {
          "bdata": "MzMzMzMzL0A=",
          "dtype": "f8"
         },
         "yaxis": "y"
        },
        {
         "hovertemplate": "Product=SNACK TRAY HAPPY FOREST  <br>Invoice Number=%{x}<br>Revenue ($)=%{y}<extra></extra>",
         "legendgroup": "SNACK TRAY HAPPY FOREST  ",
         "marker": {
          "color": "#B6E880",
          "pattern": {
           "shape": ""
          }
         },
         "name": "SNACK TRAY HAPPY FOREST  ",
         "orientation": "v",
         "showlegend": true,
         "textposition": "auto",
         "type": "bar",
         "width": 0.6,
         "x": [
          "581179"
         ],
         "xaxis": "x",
         "y": {
          "bdata": "MzMzMzMzL0A=",
          "dtype": "f8"
         },
         "yaxis": "y"
        },
        {
         "hovertemplate": "Product=RABBIT NIGHT LIGHT<br>Invoice Number=%{x}<br>Revenue ($)=%{y}<extra></extra>",
         "legendgroup": "RABBIT NIGHT LIGHT",
         "marker": {
          "color": "#FF97FF",
          "pattern": {
           "shape": ""
          }
         },
         "name": "RABBIT NIGHT LIGHT",
         "orientation": "v",
         "showlegend": true,
         "textposition": "auto",
         "type": "bar",
         "width": 0.6,
         "x": [
          "581179"
         ],
         "xaxis": "x",
         "y": {
          "bdata": "exSuR+F6RUA=",
          "dtype": "f8"
         },
         "yaxis": "y"
        },
        {
         "hovertemplate": "Product=POSTAGE<br>Invoice Number=%{x}<br>Revenue ($)=%{y}<extra></extra>",
         "legendgroup": "POSTAGE",
         "marker": {
          "color": "#FECB52",
          "pattern": {
           "shape": ""
          }
         },
         "name": "POSTAGE",
         "orientation": "v",
         "showlegend": true,
         "textposition": "auto",
         "type": "bar",
         "width": 0.6,
         "x": [
          "581179"
         ],
         "xaxis": "x",
         "y": {
          "bdata": "AAAAAAAAbkA=",
          "dtype": "f8"
         },
         "yaxis": "y"
        }
       ],
       "layout": {
        "barmode": "relative",
        "height": 600,
        "legend": {
         "title": {
          "text": "Product"
         },
         "tracegroupgap": 0
        },
        "template": {
         "data": {
          "bar": [
           {
            "error_x": {
             "color": "#2a3f5f"
            },
            "error_y": {
             "color": "#2a3f5f"
            },
            "marker": {
             "line": {
              "color": "#E5ECF6",
              "width": 0.5
             },
             "pattern": {
              "fillmode": "overlay",
              "size": 10,
              "solidity": 0.2
             }
            },
            "type": "bar"
           }
          ],
          "barpolar": [
           {
            "marker": {
             "line": {
              "color": "#E5ECF6",
              "width": 0.5
             },
             "pattern": {
              "fillmode": "overlay",
              "size": 10,
              "solidity": 0.2
             }
            },
            "type": "barpolar"
           }
          ],
          "carpet": [
           {
            "aaxis": {
             "endlinecolor": "#2a3f5f",
             "gridcolor": "white",
             "linecolor": "white",
             "minorgridcolor": "white",
             "startlinecolor": "#2a3f5f"
            },
            "baxis": {
             "endlinecolor": "#2a3f5f",
             "gridcolor": "white",
             "linecolor": "white",
             "minorgridcolor": "white",
             "startlinecolor": "#2a3f5f"
            },
            "type": "carpet"
           }
          ],
          "choropleth": [
           {
            "colorbar": {
             "outlinewidth": 0,
             "ticks": ""
            },
            "type": "choropleth"
           }
          ],
          "contour": [
           {
            "colorbar": {
             "outlinewidth": 0,
             "ticks": ""
            },
            "colorscale": [
             [
              0,
              "#0d0887"
             ],
             [
              0.1111111111111111,
              "#46039f"
             ],
             [
              0.2222222222222222,
              "#7201a8"
             ],
             [
              0.3333333333333333,
              "#9c179e"
             ],
             [
              0.4444444444444444,
              "#bd3786"
             ],
             [
              0.5555555555555556,
              "#d8576b"
             ],
             [
              0.6666666666666666,
              "#ed7953"
             ],
             [
              0.7777777777777778,
              "#fb9f3a"
             ],
             [
              0.8888888888888888,
              "#fdca26"
             ],
             [
              1,
              "#f0f921"
             ]
            ],
            "type": "contour"
           }
          ],
          "contourcarpet": [
           {
            "colorbar": {
             "outlinewidth": 0,
             "ticks": ""
            },
            "type": "contourcarpet"
           }
          ],
          "heatmap": [
           {
            "colorbar": {
             "outlinewidth": 0,
             "ticks": ""
            },
            "colorscale": [
             [
              0,
              "#0d0887"
             ],
             [
              0.1111111111111111,
              "#46039f"
             ],
             [
              0.2222222222222222,
              "#7201a8"
             ],
             [
              0.3333333333333333,
              "#9c179e"
             ],
             [
              0.4444444444444444,
              "#bd3786"
             ],
             [
              0.5555555555555556,
              "#d8576b"
             ],
             [
              0.6666666666666666,
              "#ed7953"
             ],
             [
              0.7777777777777778,
              "#fb9f3a"
             ],
             [
              0.8888888888888888,
              "#fdca26"
             ],
             [
              1,
              "#f0f921"
             ]
            ],
            "type": "heatmap"
           }
          ],
          "histogram": [
           {
            "marker": {
             "pattern": {
              "fillmode": "overlay",
              "size": 10,
              "solidity": 0.2
             }
            },
            "type": "histogram"
           }
          ],
          "histogram2d": [
           {
            "colorbar": {
             "outlinewidth": 0,
             "ticks": ""
            },
            "colorscale": [
             [
              0,
              "#0d0887"
             ],
             [
              0.1111111111111111,
              "#46039f"
             ],
             [
              0.2222222222222222,
              "#7201a8"
             ],
             [
              0.3333333333333333,
              "#9c179e"
             ],
             [
              0.4444444444444444,
              "#bd3786"
             ],
             [
              0.5555555555555556,
              "#d8576b"
             ],
             [
              0.6666666666666666,
              "#ed7953"
             ],
             [
              0.7777777777777778,
              "#fb9f3a"
             ],
             [
              0.8888888888888888,
              "#fdca26"
             ],
             [
              1,
              "#f0f921"
             ]
            ],
            "type": "histogram2d"
           }
          ],
          "histogram2dcontour": [
           {
            "colorbar": {
             "outlinewidth": 0,
             "ticks": ""
            },
            "colorscale": [
             [
              0,
              "#0d0887"
             ],
             [
              0.1111111111111111,
              "#46039f"
             ],
             [
              0.2222222222222222,
              "#7201a8"
             ],
             [
              0.3333333333333333,
              "#9c179e"
             ],
             [
              0.4444444444444444,
              "#bd3786"
             ],
             [
              0.5555555555555556,
              "#d8576b"
             ],
             [
              0.6666666666666666,
              "#ed7953"
             ],
             [
              0.7777777777777778,
              "#fb9f3a"
             ],
             [
              0.8888888888888888,
              "#fdca26"
             ],
             [
              1,
              "#f0f921"
             ]
            ],
            "type": "histogram2dcontour"
           }
          ],
          "mesh3d": [
           {
            "colorbar": {
             "outlinewidth": 0,
             "ticks": ""
            },
            "type": "mesh3d"
           }
          ],
          "parcoords": [
           {
            "line": {
             "colorbar": {
              "outlinewidth": 0,
              "ticks": ""
             }
            },
            "type": "parcoords"
           }
          ],
          "pie": [
           {
            "automargin": true,
            "type": "pie"
           }
          ],
          "scatter": [
           {
            "fillpattern": {
             "fillmode": "overlay",
             "size": 10,
             "solidity": 0.2
            },
            "type": "scatter"
           }
          ],
          "scatter3d": [
           {
            "line": {
             "colorbar": {
              "outlinewidth": 0,
              "ticks": ""
             }
            },
            "marker": {
             "colorbar": {
              "outlinewidth": 0,
              "ticks": ""
             }
            },
            "type": "scatter3d"
           }
          ],
          "scattercarpet": [
           {
            "marker": {
             "colorbar": {
              "outlinewidth": 0,
              "ticks": ""
             }
            },
            "type": "scattercarpet"
           }
          ],
          "scattergeo": [
           {
            "marker": {
             "colorbar": {
              "outlinewidth": 0,
              "ticks": ""
             }
            },
            "type": "scattergeo"
           }
          ],
          "scattergl": [
           {
            "marker": {
             "colorbar": {
              "outlinewidth": 0,
              "ticks": ""
             }
            },
            "type": "scattergl"
           }
          ],
          "scattermap": [
           {
            "marker": {
             "colorbar": {
              "outlinewidth": 0,
              "ticks": ""
             }
            },
            "type": "scattermap"
           }
          ],
          "scattermapbox": [
           {
            "marker": {
             "colorbar": {
              "outlinewidth": 0,
              "ticks": ""
             }
            },
            "type": "scattermapbox"
           }
          ],
          "scatterpolar": [
           {
            "marker": {
             "colorbar": {
              "outlinewidth": 0,
              "ticks": ""
             }
            },
            "type": "scatterpolar"
           }
          ],
          "scatterpolargl": [
           {
            "marker": {
             "colorbar": {
              "outlinewidth": 0,
              "ticks": ""
             }
            },
            "type": "scatterpolargl"
           }
          ],
          "scatterternary": [
           {
            "marker": {
             "colorbar": {
              "outlinewidth": 0,
              "ticks": ""
             }
            },
            "type": "scatterternary"
           }
          ],
          "surface": [
           {
            "colorbar": {
             "outlinewidth": 0,
             "ticks": ""
            },
            "colorscale": [
             [
              0,
              "#0d0887"
             ],
             [
              0.1111111111111111,
              "#46039f"
             ],
             [
              0.2222222222222222,
              "#7201a8"
             ],
             [
              0.3333333333333333,
              "#9c179e"
             ],
             [
              0.4444444444444444,
              "#bd3786"
             ],
             [
              0.5555555555555556,
              "#d8576b"
             ],
             [
              0.6666666666666666,
              "#ed7953"
             ],
             [
              0.7777777777777778,
              "#fb9f3a"
             ],
             [
              0.8888888888888888,
              "#fdca26"
             ],
             [
              1,
              "#f0f921"
             ]
            ],
            "type": "surface"
           }
          ],
          "table": [
           {
            "cells": {
             "fill": {
              "color": "#EBF0F8"
             },
             "line": {
              "color": "white"
             }
            },
            "header": {
             "fill": {
              "color": "#C8D4E3"
             },
             "line": {
              "color": "white"
             }
            },
            "type": "table"
           }
          ]
         },
         "layout": {
          "annotationdefaults": {
           "arrowcolor": "#2a3f5f",
           "arrowhead": 0,
           "arrowwidth": 1
          },
          "autotypenumbers": "strict",
          "coloraxis": {
           "colorbar": {
            "outlinewidth": 0,
            "ticks": ""
           }
          },
          "colorscale": {
           "diverging": [
            [
             0,
             "#8e0152"
            ],
            [
             0.1,
             "#c51b7d"
            ],
            [
             0.2,
             "#de77ae"
            ],
            [
             0.3,
             "#f1b6da"
            ],
            [
             0.4,
             "#fde0ef"
            ],
            [
             0.5,
             "#f7f7f7"
            ],
            [
             0.6,
             "#e6f5d0"
            ],
            [
             0.7,
             "#b8e186"
            ],
            [
             0.8,
             "#7fbc41"
            ],
            [
             0.9,
             "#4d9221"
            ],
            [
             1,
             "#276419"
            ]
           ],
           "sequential": [
            [
             0,
             "#0d0887"
            ],
            [
             0.1111111111111111,
             "#46039f"
            ],
            [
             0.2222222222222222,
             "#7201a8"
            ],
            [
             0.3333333333333333,
             "#9c179e"
            ],
            [
             0.4444444444444444,
             "#bd3786"
            ],
            [
             0.5555555555555556,
             "#d8576b"
            ],
            [
             0.6666666666666666,
             "#ed7953"
            ],
            [
             0.7777777777777778,
             "#fb9f3a"
            ],
            [
             0.8888888888888888,
             "#fdca26"
            ],
            [
             1,
             "#f0f921"
            ]
           ],
           "sequentialminus": [
            [
             0,
             "#0d0887"
            ],
            [
             0.1111111111111111,
             "#46039f"
            ],
            [
             0.2222222222222222,
             "#7201a8"
            ],
            [
             0.3333333333333333,
             "#9c179e"
            ],
            [
             0.4444444444444444,
             "#bd3786"
            ],
            [
             0.5555555555555556,
             "#d8576b"
            ],
            [
             0.6666666666666666,
             "#ed7953"
            ],
            [
             0.7777777777777778,
             "#fb9f3a"
            ],
            [
             0.8888888888888888,
             "#fdca26"
            ],
            [
             1,
             "#f0f921"
            ]
           ]
          },
          "colorway": [
           "#636efa",
           "#EF553B",
           "#00cc96",
           "#ab63fa",
           "#FFA15A",
           "#19d3f3",
           "#FF6692",
           "#B6E880",
           "#FF97FF",
           "#FECB52"
          ],
          "font": {
           "color": "#2a3f5f"
          },
          "geo": {
           "bgcolor": "white",
           "lakecolor": "white",
           "landcolor": "#E5ECF6",
           "showlakes": true,
           "showland": true,
           "subunitcolor": "white"
          },
          "hoverlabel": {
           "align": "left"
          },
          "hovermode": "closest",
          "mapbox": {
           "style": "light"
          },
          "paper_bgcolor": "white",
          "plot_bgcolor": "#E5ECF6",
          "polar": {
           "angularaxis": {
            "gridcolor": "white",
            "linecolor": "white",
            "ticks": ""
           },
           "bgcolor": "#E5ECF6",
           "radialaxis": {
            "gridcolor": "white",
            "linecolor": "white",
            "ticks": ""
           }
          },
          "scene": {
           "xaxis": {
            "backgroundcolor": "#E5ECF6",
            "gridcolor": "white",
            "gridwidth": 2,
            "linecolor": "white",
            "showbackground": true,
            "ticks": "",
            "zerolinecolor": "white"
           },
           "yaxis": {
            "backgroundcolor": "#E5ECF6",
            "gridcolor": "white",
            "gridwidth": 2,
            "linecolor": "white",
            "showbackground": true,
            "ticks": "",
            "zerolinecolor": "white"
           },
           "zaxis": {
            "backgroundcolor": "#E5ECF6",
            "gridcolor": "white",
            "gridwidth": 2,
            "linecolor": "white",
            "showbackground": true,
            "ticks": "",
            "zerolinecolor": "white"
           }
          },
          "shapedefaults": {
           "line": {
            "color": "#2a3f5f"
           }
          },
          "ternary": {
           "aaxis": {
            "gridcolor": "white",
            "linecolor": "white",
            "ticks": ""
           },
           "baxis": {
            "gridcolor": "white",
            "linecolor": "white",
            "ticks": ""
           },
           "bgcolor": "#E5ECF6",
           "caxis": {
            "gridcolor": "white",
            "linecolor": "white",
            "ticks": ""
           }
          },
          "title": {
           "x": 0.05
          },
          "xaxis": {
           "automargin": true,
           "gridcolor": "white",
           "linecolor": "white",
           "ticks": "",
           "title": {
            "standoff": 15
           },
           "zerolinecolor": "white",
           "zerolinewidth": 2
          },
          "yaxis": {
           "automargin": true,
           "gridcolor": "white",
           "linecolor": "white",
           "ticks": "",
           "title": {
            "standoff": 15
           },
           "zerolinecolor": "white",
           "zerolinewidth": 2
          }
         }
        },
        "title": {
         "text": "Top 5 Invoices by Revenue (Stacked by Item)"
        },
        "width": 1000,
        "xaxis": {
         "anchor": "y",
         "domain": [
          0,
          1
         ],
         "title": {
          "text": "Invoice Number"
         }
        },
        "yaxis": {
         "anchor": "x",
         "domain": [
          0,
          1
         ],
         "title": {
          "text": "Revenue ($)"
         }
        }
       }
      }
     },
     "metadata": {},
     "output_type": "display_data"
    }
   ],
   "source": [
    "# 15. Create a stacked bar chart of top 5 invoices by revenue, showing contribution from each item.  \n",
    "# Get top 5 invoices by total revenue\n",
    "top_5_invoices_by_revenue_df = sales_df.groupby('InvoiceNo')['TotalPrice'].sum().sort_values(ascending=False).head(5)\n",
    "top_invoices_list = top_5_invoices_by_revenue_df.index.tolist()\n",
    "top_invoices_list\n",
    "print(top_invoices_list)\n",
    "top_invoices_df = sales_df[sales_df['InvoiceNo'].isin(top_invoices_list)]\n",
    "top_invoices_df['InvoiceNo'].unique()\n",
    "pivot_df = top_invoices_df.pivot_table(index='InvoiceNo', columns='Description', values='TotalPrice', aggfunc='sum', fill_value=0)\n",
    "# Step 9: Plot stacked bar chart\n",
    "\n",
    "import plotly.express as px\n",
    "fig = px.bar(top_invoices_df, x='InvoiceNo', y='TotalPrice', color='Description', title='Top 5 Invoices by Revenue (Stacked by Item)',\n",
    "                width=1000,  # Adjust overall figure width\n",
    "                height=600 ,  # Adjust overall figure height\n",
    "              labels={\n",
    "        'InvoiceNo': 'Invoice Number',\n",
    "        'TotalPrice': 'Revenue ($)',\n",
    "        'Description': 'Product'},\n",
    "        \n",
    "    )\n",
    "# Customize bar width (default is 0.8, reduce for narrower bars)\n",
    "fig.update_traces(width=0.6)  # Values between 0 and 1\n",
    "\n",
    "fig.show()"
   ]
  },
  {
   "cell_type": "markdown",
   "id": "a2732285",
   "metadata": {},
   "source": [
    "Task-D - Business Insight Problems & Solutions"
   ]
  },
  {
   "cell_type": "code",
   "execution_count": 262,
   "id": "0327c981",
   "metadata": {},
   "outputs": [
    {
     "name": "stdout",
     "output_type": "stream",
     "text": [
      "\n",
      " Product that enerates the highest total revenue:\n",
      "StockCode  Description\n",
      "POST       POSTAGE        21001.0\n",
      "Name: TotalPrice, dtype: float64\n"
     ]
    }
   ],
   "source": [
    "# Business Insight Problems & Solutions\n",
    "# 16. Identify which product generates the highest total revenue. \n",
    "positive_sales_df = sales_df.copy()\n",
    "positive_sales_df.head()\n",
    "positive_sales_df.shape\n",
    "positive_sales_df['Quantity'].unique()\n",
    "top_product = positive_sales_df.groupby([\"StockCode\",\"Description\"])['TotalPrice'].sum().sort_values(ascending=False).head(1)\n",
    "\n",
    "print(\"\\n Product that enerates the highest total revenue:\")\n",
    "print(top_product)"
   ]
  },
  {
   "cell_type": "code",
   "execution_count": 263,
   "id": "81688d10",
   "metadata": {},
   "outputs": [
    {
     "name": "stdout",
     "output_type": "stream",
     "text": [
      "Product with Highest Total Revenue:\n",
      "500.39037199124726\n",
      "\n",
      "Average Order Value per Invoice: $500.39\n"
     ]
    }
   ],
   "source": [
    "# 17. Determine average order value per invoice.  \n",
    "\n",
    "positive_sales_df.head()\n",
    "avg_order_per_invoice = positive_sales_df.groupby('InvoiceNo')['TotalPrice'].sum().mean()\n",
    "# Display results\n",
    "print(\"Product with Highest Total Revenue:\")\n",
    "print(avg_order_per_invoice)\n",
    "print(\"\\nAverage Order Value per Invoice: ${:.2f}\".format(avg_order_per_invoice))"
   ]
  },
  {
   "cell_type": "code",
   "execution_count": 264,
   "id": "70a5e89a",
   "metadata": {},
   "outputs": [
    {
     "name": "stdout",
     "output_type": "stream",
     "text": [
      "Customer with Highest Number of Transactions:\n",
      "   CustomerID  InvoiceNo\n",
      "0       12569         32\n"
     ]
    }
   ],
   "source": [
    "# 18. Find the customer with the highest number of transactions.  \n",
    "ransaction_customers  = positive_sales_df.groupby('CustomerID')['InvoiceNo'].nunique().sort_values(ascending=False)\n",
    "highest_transaction_customers = ransaction_customers.head(1).reset_index()\n",
    "# Display result\n",
    "print(\"Customer with Highest Number of Transactions:\")\n",
    "print(highest_transaction_customers)"
   ]
  },
  {
   "cell_type": "markdown",
   "id": "7c91b855",
   "metadata": {},
   "source": [
    "\n",
    "#19. Evaluate the percentage of stock items sold vs. total in inventory.  \n",
    "Actually Inventory details is not explicitly mentioned, so difficult to proceed however we can do assumptions, progress with approaches.\n",
    "Approach - A =  simply considering unique stocks vs all item sold\n",
    "Approach - B =  every stock sold vs that stock's total ( sold + cancel/returns)\n",
    "# Since inventory data is not given or explicitly, will make assumption TotalInventory = sold item (+ve quantity) + return/refund/cancelled items\n",
    "% of Percentage of Stock Items Sold = 'QuantitySold'/TotalInventory * 100\n"
   ]
  },
  {
   "cell_type": "code",
   "execution_count": 265,
   "id": "15b8e7ef",
   "metadata": {},
   "outputs": [
    {
     "name": "stdout",
     "output_type": "stream",
     "text": [
      "1671\n",
      "1665\n",
      "Approach A. Percentage of Stock Items Sold vs. Total Inventory: \n",
      "\n",
      "Total unique stock items: 1671\n",
      "Stock items sold: 1665\n",
      "Percentage of stock items sold: 99.64%\n",
      "\n",
      "\n",
      "Approach B. Percentage of Stock Items Sold vs. Total Inventory: \n",
      "\n",
      "Total Items Sold: 119156\n",
      "Total Inventory: 120971\n",
      "Overall Percentage Sold: 98.50%\n"
     ]
    },
    {
     "data": {
      "text/html": [
       "<div>\n",
       "<style scoped>\n",
       "    .dataframe tbody tr th:only-of-type {\n",
       "        vertical-align: middle;\n",
       "    }\n",
       "\n",
       "    .dataframe tbody tr th {\n",
       "        vertical-align: top;\n",
       "    }\n",
       "\n",
       "    .dataframe thead th {\n",
       "        text-align: right;\n",
       "    }\n",
       "</style>\n",
       "<table border=\"1\" class=\"dataframe\">\n",
       "  <thead>\n",
       "    <tr style=\"text-align: right;\">\n",
       "      <th></th>\n",
       "      <th>StockCode</th>\n",
       "      <th>Description</th>\n",
       "      <th>QuantitySold</th>\n",
       "      <th>QuantityReturned</th>\n",
       "      <th>TotalInventory</th>\n",
       "      <th>PercentageSold</th>\n",
       "    </tr>\n",
       "  </thead>\n",
       "  <tbody>\n",
       "    <tr>\n",
       "      <th>1221</th>\n",
       "      <td>23241</td>\n",
       "      <td>TREASURE TIN GYMKHANA DESIGN</td>\n",
       "      <td>42.0</td>\n",
       "      <td>3.0</td>\n",
       "      <td>45.0</td>\n",
       "      <td>93.33</td>\n",
       "    </tr>\n",
       "    <tr>\n",
       "      <th>360</th>\n",
       "      <td>21843</td>\n",
       "      <td>RED RETROSPOT CAKE STAND</td>\n",
       "      <td>35.0</td>\n",
       "      <td>5.0</td>\n",
       "      <td>40.0</td>\n",
       "      <td>87.50</td>\n",
       "    </tr>\n",
       "    <tr>\n",
       "      <th>143</th>\n",
       "      <td>21125</td>\n",
       "      <td>SET 6 FOOTBALL CELEBRATION CANDLES</td>\n",
       "      <td>75.0</td>\n",
       "      <td>0.0</td>\n",
       "      <td>75.0</td>\n",
       "      <td>100.00</td>\n",
       "    </tr>\n",
       "    <tr>\n",
       "      <th>1014</th>\n",
       "      <td>22944</td>\n",
       "      <td>CHRISTMAS METAL POSTCARD WITH BELLS</td>\n",
       "      <td>6.0</td>\n",
       "      <td>0.0</td>\n",
       "      <td>6.0</td>\n",
       "      <td>100.00</td>\n",
       "    </tr>\n",
       "    <tr>\n",
       "      <th>1245</th>\n",
       "      <td>23275</td>\n",
       "      <td>SET OF 3 HANGING OWLS OLLIE BEAK</td>\n",
       "      <td>36.0</td>\n",
       "      <td>0.0</td>\n",
       "      <td>36.0</td>\n",
       "      <td>100.00</td>\n",
       "    </tr>\n",
       "    <tr>\n",
       "      <th>839</th>\n",
       "      <td>22664</td>\n",
       "      <td>TOY TIDY DOLLY GIRL DESIGN</td>\n",
       "      <td>1.0</td>\n",
       "      <td>0.0</td>\n",
       "      <td>1.0</td>\n",
       "      <td>100.00</td>\n",
       "    </tr>\n",
       "    <tr>\n",
       "      <th>860</th>\n",
       "      <td>22705</td>\n",
       "      <td>WRAP GREEN PEARS</td>\n",
       "      <td>125.0</td>\n",
       "      <td>0.0</td>\n",
       "      <td>125.0</td>\n",
       "      <td>100.00</td>\n",
       "    </tr>\n",
       "    <tr>\n",
       "      <th>899</th>\n",
       "      <td>22747</td>\n",
       "      <td>POPPY'S PLAYHOUSE BATHROOM</td>\n",
       "      <td>84.0</td>\n",
       "      <td>0.0</td>\n",
       "      <td>84.0</td>\n",
       "      <td>100.00</td>\n",
       "    </tr>\n",
       "    <tr>\n",
       "      <th>1498</th>\n",
       "      <td>72351B</td>\n",
       "      <td>SET/6 PINK  BUTTERFLY T-LIGHTS</td>\n",
       "      <td>24.0</td>\n",
       "      <td>0.0</td>\n",
       "      <td>24.0</td>\n",
       "      <td>100.00</td>\n",
       "    </tr>\n",
       "    <tr>\n",
       "      <th>1337</th>\n",
       "      <td>23425</td>\n",
       "      <td>STORAGE TIN HOME SWEET HOME</td>\n",
       "      <td>12.0</td>\n",
       "      <td>3.0</td>\n",
       "      <td>15.0</td>\n",
       "      <td>80.00</td>\n",
       "    </tr>\n",
       "    <tr>\n",
       "      <th>1662</th>\n",
       "      <td>85163A</td>\n",
       "      <td>WHITE BAROQUE WALL CLOCK</td>\n",
       "      <td>1.0</td>\n",
       "      <td>0.0</td>\n",
       "      <td>1.0</td>\n",
       "      <td>100.00</td>\n",
       "    </tr>\n",
       "    <tr>\n",
       "      <th>1541</th>\n",
       "      <td>84347</td>\n",
       "      <td>ROTATING SILVER ANGELS T-LIGHT HLDR</td>\n",
       "      <td>78.0</td>\n",
       "      <td>0.0</td>\n",
       "      <td>78.0</td>\n",
       "      <td>100.00</td>\n",
       "    </tr>\n",
       "    <tr>\n",
       "      <th>142</th>\n",
       "      <td>21124</td>\n",
       "      <td>SET/10 BLUE POLKADOT PARTY CANDLES</td>\n",
       "      <td>342.0</td>\n",
       "      <td>0.0</td>\n",
       "      <td>342.0</td>\n",
       "      <td>100.00</td>\n",
       "    </tr>\n",
       "    <tr>\n",
       "      <th>534</th>\n",
       "      <td>22195</td>\n",
       "      <td>LARGE HEART MEASURING SPOONS</td>\n",
       "      <td>49.0</td>\n",
       "      <td>1.0</td>\n",
       "      <td>50.0</td>\n",
       "      <td>98.00</td>\n",
       "    </tr>\n",
       "    <tr>\n",
       "      <th>424</th>\n",
       "      <td>21990</td>\n",
       "      <td>MODERN FLORAL STATIONERY SET</td>\n",
       "      <td>78.0</td>\n",
       "      <td>0.0</td>\n",
       "      <td>78.0</td>\n",
       "      <td>100.00</td>\n",
       "    </tr>\n",
       "    <tr>\n",
       "      <th>851</th>\n",
       "      <td>22690</td>\n",
       "      <td>DOORMAT HOME SWEET HOME BLUE</td>\n",
       "      <td>6.0</td>\n",
       "      <td>0.0</td>\n",
       "      <td>6.0</td>\n",
       "      <td>100.00</td>\n",
       "    </tr>\n",
       "    <tr>\n",
       "      <th>1681</th>\n",
       "      <td>90031</td>\n",
       "      <td>BILI NUT AND WOOD NECKLACE</td>\n",
       "      <td>24.0</td>\n",
       "      <td>0.0</td>\n",
       "      <td>24.0</td>\n",
       "      <td>100.00</td>\n",
       "    </tr>\n",
       "    <tr>\n",
       "      <th>501</th>\n",
       "      <td>22134</td>\n",
       "      <td>MINI LADLE LOVE HEART RED</td>\n",
       "      <td>48.0</td>\n",
       "      <td>0.0</td>\n",
       "      <td>48.0</td>\n",
       "      <td>100.00</td>\n",
       "    </tr>\n",
       "    <tr>\n",
       "      <th>1649</th>\n",
       "      <td>85088</td>\n",
       "      <td>CANDY SPOT HAND BAG</td>\n",
       "      <td>12.0</td>\n",
       "      <td>0.0</td>\n",
       "      <td>12.0</td>\n",
       "      <td>100.00</td>\n",
       "    </tr>\n",
       "    <tr>\n",
       "      <th>1371</th>\n",
       "      <td>23507</td>\n",
       "      <td>MINI PLAYING CARDS BUFFALO BILL</td>\n",
       "      <td>20.0</td>\n",
       "      <td>0.0</td>\n",
       "      <td>20.0</td>\n",
       "      <td>100.00</td>\n",
       "    </tr>\n",
       "  </tbody>\n",
       "</table>\n",
       "</div>"
      ],
      "text/plain": [
       "     StockCode                          Description  QuantitySold  \\\n",
       "1221     23241         TREASURE TIN GYMKHANA DESIGN          42.0   \n",
       "360      21843             RED RETROSPOT CAKE STAND          35.0   \n",
       "143      21125   SET 6 FOOTBALL CELEBRATION CANDLES          75.0   \n",
       "1014     22944  CHRISTMAS METAL POSTCARD WITH BELLS           6.0   \n",
       "1245     23275     SET OF 3 HANGING OWLS OLLIE BEAK          36.0   \n",
       "839      22664           TOY TIDY DOLLY GIRL DESIGN           1.0   \n",
       "860      22705                    WRAP GREEN PEARS          125.0   \n",
       "899      22747           POPPY'S PLAYHOUSE BATHROOM          84.0   \n",
       "1498    72351B       SET/6 PINK  BUTTERFLY T-LIGHTS          24.0   \n",
       "1337     23425          STORAGE TIN HOME SWEET HOME          12.0   \n",
       "1662    85163A            WHITE BAROQUE WALL CLOCK            1.0   \n",
       "1541     84347  ROTATING SILVER ANGELS T-LIGHT HLDR          78.0   \n",
       "142      21124   SET/10 BLUE POLKADOT PARTY CANDLES         342.0   \n",
       "534      22195         LARGE HEART MEASURING SPOONS          49.0   \n",
       "424      21990         MODERN FLORAL STATIONERY SET          78.0   \n",
       "851      22690        DOORMAT HOME SWEET HOME BLUE            6.0   \n",
       "1681     90031           BILI NUT AND WOOD NECKLACE          24.0   \n",
       "501      22134           MINI LADLE LOVE HEART RED           48.0   \n",
       "1649     85088                  CANDY SPOT HAND BAG          12.0   \n",
       "1371     23507     MINI PLAYING CARDS BUFFALO BILL           20.0   \n",
       "\n",
       "      QuantityReturned  TotalInventory  PercentageSold  \n",
       "1221               3.0            45.0           93.33  \n",
       "360                5.0            40.0           87.50  \n",
       "143                0.0            75.0          100.00  \n",
       "1014               0.0             6.0          100.00  \n",
       "1245               0.0            36.0          100.00  \n",
       "839                0.0             1.0          100.00  \n",
       "860                0.0           125.0          100.00  \n",
       "899                0.0            84.0          100.00  \n",
       "1498               0.0            24.0          100.00  \n",
       "1337               3.0            15.0           80.00  \n",
       "1662               0.0             1.0          100.00  \n",
       "1541               0.0            78.0          100.00  \n",
       "142                0.0           342.0          100.00  \n",
       "534                1.0            50.0           98.00  \n",
       "424                0.0            78.0          100.00  \n",
       "851                0.0             6.0          100.00  \n",
       "1681               0.0            24.0          100.00  \n",
       "501                0.0            48.0          100.00  \n",
       "1649               0.0            12.0          100.00  \n",
       "1371               0.0            20.0          100.00  "
      ]
     },
     "execution_count": 265,
     "metadata": {},
     "output_type": "execute_result"
    }
   ],
   "source": [
    "'''\n",
    "#19. Evaluate the percentage of stock items sold vs. total in inventory.  \n",
    "Actually Inventory details is not explicitly mentioned, so difficult to proceed however we can do assumptions, progress with approaches.\n",
    "Approach - A =  simply considering unique stocks vs all item sold\n",
    "Approach - B =  every stock sold vs that stock's total ( sold + cancel/returns)\n",
    "# Since inventory data is not given or explicitly, will make assumption TotalInventory = sold item (+ve quantity) + return/refund/cancelled items\n",
    "% of Percentage of Stock Items Sold = 'QuantitySold'/TotalInventory * 100\n",
    "\n",
    "'''\n",
    "#19. Evaluate the percentage of stock items sold vs. total in inventory.  \n",
    "\n",
    "# A. simple Calculation a particular stock item sold vs total stock items\n",
    "positive_sales_df.head()\n",
    "# Step 2: Get total unique items in inventory\n",
    "#total_items = all_sales_df['StockCode'].nunique()\n",
    "total_items = stocks_df['StockCode'].nunique() # as per clarification will assume inventory as unique stocks from stock details\n",
    "print (total_items)\n",
    "sold_items = positive_sales_df['StockCode'].nunique()\n",
    "\n",
    "print (sold_items)\n",
    "# Step 4: Calculating the percentage sold\n",
    "percent_sold = (sold_items / total_items) * 100\n",
    "# Step 5: Displaying the result\n",
    "print(\"Approach A. Percentage of Stock Items Sold vs. Total Inventory: \\n\")\n",
    "print(f\"Total unique stock items: {total_items}\")\n",
    "print(f\"Stock items sold: {sold_items}\")\n",
    "print(f\"Percentage of stock items sold: {percent_sold:.2f}%\")\n",
    "\n",
    "# B. More refined Calculation stock item sold(+ve quanitity) vs total stock items(sold + refund/cancel = -ve quanity on a stock, then)\n",
    "# B. Stock/product wise with its respective total\n",
    "negative_sales = all_sales_df[all_sales_df['Quantity'] < 0]\n",
    "valid_sales = positive_sales_df.copy()\n",
    "# Calculate quantities sold per StockCode\n",
    "sold_quantities = valid_sales.groupby(['StockCode', 'Description'])['Quantity'].sum().sort_values(ascending=False).reset_index(name='QuantitySold')\n",
    "return_quantities = negative_sales.groupby(['StockCode', 'Description'])['Quantity'].sum().abs().sort_values(ascending=False).reset_index(name='QuantityReturned')\n",
    "# total inventory = sold + cancelled/return\n",
    "inventory_df = sold_quantities.merge(return_quantities, on=['StockCode', 'Description'], how='outer').fillna(0)\n",
    "\n",
    "# Calculate total inventory (sold + returned)\n",
    "inventory_df['TotalInventory'] = inventory_df['QuantitySold'] + inventory_df['QuantityReturned']\n",
    "\n",
    "# Calculate percentage sold\n",
    "inventory_df['PercentageSold'] = (inventory_df['QuantitySold'] / inventory_df['TotalInventory'] * 100).round(2)\n",
    "\n",
    "# Handle cases where TotalInventory is 0 (no sales or returns)\n",
    "inventory_df['PercentageSold'] = inventory_df['PercentageSold'].fillna(0)\n",
    "\n",
    "# Sort by PercentageSold or QuantitySold for clarity\n",
    "inventory_df = inventory_df.sort_values(by='QuantitySold', ascending=False)\n",
    "inventory_df[['StockCode','Description','QuantitySold', 'QuantityReturned','TotalInventory','PercentageSold'  ]].sample(50)\n",
    "# Display results\n",
    "print(\"\\n\\nApproach B. Percentage of Stock Items Sold vs. Total Inventory: \\n\")\n",
    "print(f\"Total Items Sold: {int(inventory_df['QuantitySold'].sum())}\")\n",
    "print(f\"Total Inventory: {int(inventory_df['TotalInventory'].sum())}\")\n",
    "print(f\"Overall Percentage Sold: {inventory_df['QuantitySold'].sum() / inventory_df['TotalInventory'].sum() * 100:.2f}%\")\n",
    "inventory_df.sample(20)"
   ]
  },
  {
   "cell_type": "code",
   "execution_count": 266,
   "id": "54b1e4d7",
   "metadata": {},
   "outputs": [
    {
     "name": "stdout",
     "output_type": "stream",
     "text": [
      "1665\n",
      "1671\n",
      "[]\n",
      "\n",
      "A. Approach- Sales codes not in stock details\n",
      "Number of products in sales data without a matching entry in stockDetails: 0\n",
      "\n",
      "how many Unmatched Products:\n",
      "0\n",
      "\n",
      "B. Approach- Stock_details codes not yet made sales till now -Unpurchased Stocks \n",
      " \n",
      "Number of Stock in stocks details with no stock entry in sales: 6\n",
      "Unmatched StockCodes: {'22405', '22767', '20703', '20957', '22444', '85232B'}\n",
      "\n",
      "how many Unmatched Products:\n",
      "0\n"
     ]
    }
   ],
   "source": [
    "# 20. Check how many products in the sales data do not have a matching entry in the stockDetails file.  \n",
    "\n",
    "stock_df = pd.read_csv('StockDetails.csv')\n",
    "#stock_df.info()\n",
    "#stock_df.isnull().sum()\n",
    "#stock_df.sample(10)\n",
    "\n",
    "sales_stocks_list = positive_sales_df['StockCode'].unique()\n",
    "print(sales_stocks_list.size)\n",
    "# Get unique StockCode values from stockDetails\n",
    "stock_details_stock_list = stock_df['StockCode'].unique()\n",
    "print(stock_details_stock_list.size)\n",
    "\n",
    "# Find StockCode values in sales data not in stockDetails\n",
    "unmatched_stock_codes = [code for code in sales_stocks_list if code not in stock_details_stock_list]\n",
    "unmatched_stock_codes\n",
    "print(unmatched_stock_codes)\n",
    "# Inerence : unmatched_stock_codes = 0\n",
    "# Get details of unmatched products\n",
    "unmatched_products = positive_sales_df[positive_sales_df['StockCode'].isin(unmatched_stock_codes)][['StockCode', 'Description']].drop_duplicates()\n",
    "\n",
    "# Count unmatched products\n",
    "unmatched_count = len(unmatched_stock_codes)\n",
    "# Display results\n",
    "print(\"\\nA. Approach- Sales codes not in stock details\" )\n",
    "print(f\"Number of products in sales data without a matching entry in stockDetails: {unmatched_count}\")\n",
    "print(\"\\nhow many Unmatched Products:\")\n",
    "print(unmatched_count)\n",
    "\n",
    "# B. Sales not match entries of stock -also there are stock details but no sales done on the stock yet\n",
    "# Find codes in sales but not in stock\n",
    "unmatched_codes = set(stock_details_stock_list) - set(sales_stocks_list)\n",
    "num_unmatched = len(unmatched_codes)\n",
    "print(\"\\nB. Approach- Stock_details codes not yet made sales till now -Unpurchased Stocks \\n \" )\n",
    "print(f\"Number of Stock in stocks details with no stock entry in sales: {num_unmatched}\")\n",
    "print(\"Unmatched StockCodes:\", unmatched_codes)\n",
    "print(\"\\nhow many Unmatched Products:\")\n",
    "print(unmatched_count)\n"
   ]
  }
 ],
 "metadata": {
  "kernelspec": {
   "display_name": "Python 3",
   "language": "python",
   "name": "python3"
  },
  "language_info": {
   "codemirror_mode": {
    "name": "ipython",
    "version": 3
   },
   "file_extension": ".py",
   "mimetype": "text/x-python",
   "name": "python",
   "nbconvert_exporter": "python",
   "pygments_lexer": "ipython3",
   "version": "3.11.1"
  }
 },
 "nbformat": 4,
 "nbformat_minor": 5
}
