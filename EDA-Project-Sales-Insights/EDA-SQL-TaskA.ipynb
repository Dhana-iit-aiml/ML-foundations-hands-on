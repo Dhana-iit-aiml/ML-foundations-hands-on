{
 "cells": [
  {
   "cell_type": "markdown",
   "id": "c50177e1",
   "metadata": {},
   "source": [
    " Task-A-SQL\n",
    "\n",
    "A. Basic SQL Queries (5 Tasks)- Load csv files in database  \n",
    "\n",
    "    1. Retrieve all stock items that contain the word \"T-LIGHT\" in their description.  \n",
    "    2. Calculate the total quantity sold per StockCode.  \n",
    "    3. Find total revenue (Quantity × UnitPrice) per CustomerID.  \n",
    "    4. Get a list of all invoices and count of distinct stock items per invoice.  \n",
    "    5. Perform an inner join between sales and stock details to display full item names along with total revenue per item. "
   ]
  },
  {
   "cell_type": "markdown",
   "id": "92c4e8f1",
   "metadata": {},
   "source": [
    "1. Retrieve all stock items that contain the word \"T-LIGHT\" in their description. \n",
    "\n",
    "SELECT DISTINCT StockCode, Description\n",
    "FROM 'EDA-MINI-PROJECT_DB`.sales_tbl\n",
    "WHERE UPPER(Description) LIKE '%T-LIGHT%';"
   ]
  },
  {
   "cell_type": "markdown",
   "id": "9c56c0e9",
   "metadata": {},
   "source": [
    "2. Calculate the total quantity sold per StockCode. \n",
    "\n",
    "A - including all return/cancellation\n",
    "SELECT s.StockCode, s.Description, SUM(s.Quantity) AS TotalQuantitySold \n",
    "FROM 'EDA-MINI-PROJECT_DB`.sales_tbl s\n",
    "GROUP BY s.StockCode, s.Description\n",
    "ORDER BY TotalQuantitySold DESC;\n",
    "\n",
    "B. Considering only actual sold - purchased excluding returns/cancel/refunds\n",
    "SELECT s.StockCode, s.Description, SUM(s.Quantity) AS TotalQuantitySold \n",
    "FROM 'EDA-MINI-PROJECT_DB`.sales_tbl s where s.Quantity > 0\n",
    "GROUP BY s.StockCode, s.Description\n",
    "ORDER BY TotalQuantitySold DESC;"
   ]
  },
  {
   "cell_type": "markdown",
   "id": "66afa04f",
   "metadata": {},
   "source": [
    "3. Find total revenue (Quantity × UnitPrice) per CustomerID. \n",
    "\n",
    "SELECT s.CustomerID, ROUND(SUM(s.Quantity * s.UnitPrice), 2) AS TotalPrice\n",
    "FROM 'EDA-MINI-PROJECT_DB`.sales_tbl AS s\n",
    "WHERE s.Quantity > 0\n",
    "GROUP BY s.CustomerID\n",
    "ORDER BY TotalPrice DESC;"
   ]
  },
  {
   "cell_type": "markdown",
   "id": "17a53769",
   "metadata": {},
   "source": [
    " 4. Get a list of all invoices and count of distinct stock items per invoice.  \n",
    "\n",
    " SELECT s.InvoiceNo, COUNT(DISTINCT s.StockCode) AS DistinctStocks\n",
    "FROM 'EDA-MINI-PROJECT_DB`.sales_tbl s\n",
    "WHERE s.Quantity > 0\n",
    "GROUP BY s.InvoiceNo\n",
    "ORDER BY s.InvoiceNo;"
   ]
  },
  {
   "cell_type": "markdown",
   "id": "13dfc8ce",
   "metadata": {},
   "source": [
    "5. Perform an inner join between sales and stock details to display full item names along with total revenue per item. \n",
    "SELECT \n",
    "    s.StockCode, \n",
    "    sd.Description AS FullItemName, \n",
    "    ROUND(SUM(s.Quantity * s.UnitPrice), 2) AS TotalRevenue\n",
    "FROM 'EDA-MINI-PROJECT_DB`.sales_tbl s\n",
    "INNER JOIN 'EDA-MINI-PROJECT_DB`.stockDetails_tbl sd ON s.StockCode = sd.StockCode\n",
    "WHERE s.Quantity > 0\n",
    "GROUP BY s.StockCode, sd.Description\n",
    "ORDER BY TotalRevenue DESC;"
   ]
  },
  {
   "cell_type": "code",
   "execution_count": null,
   "id": "ef4524fe",
   "metadata": {
    "vscode": {
     "languageId": "plaintext"
    }
   },
   "outputs": [],
   "source": []
  }
 ],
 "metadata": {
  "kernelspec": {
   "display_name": "Python 3",
   "language": "python",
   "name": "python3"
  },
  "language_info": {
   "name": "python",
   "version": "3.11.1"
  }
 },
 "nbformat": 4,
 "nbformat_minor": 5
}
