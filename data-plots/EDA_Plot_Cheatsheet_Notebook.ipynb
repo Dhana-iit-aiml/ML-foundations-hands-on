{
 "cells": [
  {
   "cell_type": "markdown",
   "id": "7a29e98f",
   "metadata": {},
   "source": [
    "# 📊 EDA Plot Cheatsheet – Hands-On with Code"
   ]
  },
  {
   "cell_type": "code",
   "execution_count": null,
   "id": "1b1005f1",
   "metadata": {},
   "outputs": [],
   "source": [
    "# 📦 Step 1: Import Libraries\n",
    "import pandas as pd\n",
    "import seaborn as sns\n",
    "import matplotlib.pyplot as plt\n",
    "import numpy as np\n",
    "from sklearn.ensemble import RandomForestClassifier\n",
    "from sklearn.preprocessing import LabelEncoder\n",
    "\n",
    "sns.set(style=\"whitegrid\")\n",
    "%matplotlib inline\n"
   ]
  },
  {
   "cell_type": "code",
   "execution_count": null,
   "id": "71f773f6",
   "metadata": {},
   "outputs": [],
   "source": [
    "# 📂 Step 2: Load a Sample Dataset\n",
    "df = sns.load_dataset('tips')  # You can switch to 'iris' or any other dataset\n",
    "df.head()\n"
   ]
  },
  {
   "cell_type": "markdown",
   "id": "bd6adaa4",
   "metadata": {},
   "source": [
    "## 📍 Univariate Analysis"
   ]
  },
  {
   "cell_type": "code",
   "execution_count": null,
   "id": "56da424b",
   "metadata": {},
   "outputs": [],
   "source": [
    "# Histogram\n",
    "sns.histplot(df['total_bill'], kde=False, bins=20)\n",
    "plt.title(\"Histogram of Total Bill\")\n",
    "plt.show()\n"
   ]
  },
  {
   "cell_type": "code",
   "execution_count": null,
   "id": "0d6a253c",
   "metadata": {},
   "outputs": [],
   "source": [
    "# Box Plot\n",
    "sns.boxplot(y=df['total_bill'])\n",
    "plt.title(\"Boxplot of Total Bill\")\n",
    "plt.show()\n"
   ]
  },
  {
   "cell_type": "code",
   "execution_count": null,
   "id": "77b2370c",
   "metadata": {},
   "outputs": [],
   "source": [
    "# KDE Plot\n",
    "sns.kdeplot(df['total_bill'], shade=True)\n",
    "plt.title(\"KDE Plot of Total Bill\")\n",
    "plt.show()\n"
   ]
  },
  {
   "cell_type": "code",
   "execution_count": null,
   "id": "4cc90b61",
   "metadata": {},
   "outputs": [],
   "source": [
    "# Bar Chart for Categorical\n",
    "sns.countplot(x='day', data=df)\n",
    "plt.title(\"Count of Days\")\n",
    "plt.show()\n"
   ]
  },
  {
   "cell_type": "markdown",
   "id": "1fee6482",
   "metadata": {},
   "source": [
    "## 📍 Bivariate Analysis"
   ]
  },
  {
   "cell_type": "code",
   "execution_count": null,
   "id": "2f946a89",
   "metadata": {},
   "outputs": [],
   "source": [
    "# Scatter Plot\n",
    "sns.scatterplot(x='total_bill', y='tip', data=df)\n",
    "plt.title(\"Total Bill vs Tip\")\n",
    "plt.show()\n"
   ]
  },
  {
   "cell_type": "code",
   "execution_count": null,
   "id": "26f0850f",
   "metadata": {},
   "outputs": [],
   "source": [
    "# Violin Plot\n",
    "sns.violinplot(x='day', y='total_bill', data=df)\n",
    "plt.title(\"Violin Plot of Total Bill by Day\")\n",
    "plt.show()\n"
   ]
  },
  {
   "cell_type": "code",
   "execution_count": null,
   "id": "24188f09",
   "metadata": {},
   "outputs": [],
   "source": [
    "# Strip Plot\n",
    "sns.stripplot(x='day', y='total_bill', data=df, jitter=True)\n",
    "plt.title(\"Strip Plot of Total Bill by Day\")\n",
    "plt.show()\n"
   ]
  },
  {
   "cell_type": "markdown",
   "id": "48185304",
   "metadata": {},
   "source": [
    "## 📍 Multivariate Analysis"
   ]
  },
  {
   "cell_type": "code",
   "execution_count": null,
   "id": "dc901174",
   "metadata": {},
   "outputs": [],
   "source": [
    "# Pair Plot\n",
    "sns.pairplot(df.select_dtypes(include=[np.number]))\n",
    "plt.show()\n"
   ]
  },
  {
   "cell_type": "code",
   "execution_count": null,
   "id": "9e1f8a37",
   "metadata": {},
   "outputs": [],
   "source": [
    "# Correlation Heatmap\n",
    "plt.figure(figsize=(8,6))\n",
    "sns.heatmap(df.corr(), annot=True, cmap='coolwarm')\n",
    "plt.title(\"Correlation Heatmap\")\n",
    "plt.show()\n"
   ]
  },
  {
   "cell_type": "markdown",
   "id": "c11e6130",
   "metadata": {},
   "source": [
    "## 📍 Missing Values"
   ]
  },
  {
   "cell_type": "code",
   "execution_count": null,
   "id": "fa97f838",
   "metadata": {},
   "outputs": [],
   "source": [
    "# Introduce Missing Values for Demo\n",
    "df_missing = df.copy()\n",
    "df_missing.loc[5:10, 'tip'] = np.nan\n",
    "\n",
    "# Heatmap of Missing Data\n",
    "sns.heatmap(df_missing.isnull(), cbar=False, cmap='viridis')\n",
    "plt.title(\"Missing Data Heatmap\")\n",
    "plt.show()\n"
   ]
  },
  {
   "cell_type": "markdown",
   "id": "f042b4ab",
   "metadata": {},
   "source": [
    "## 📍 Feature Importance (Random Forest)"
   ]
  },
  {
   "cell_type": "code",
   "execution_count": null,
   "id": "1117efe8",
   "metadata": {},
   "outputs": [],
   "source": [
    "# Encode categorical features for model\n",
    "df_model = df.copy()\n",
    "for col in df_model.select_dtypes(include='category').columns:\n",
    "    df_model[col] = LabelEncoder().fit_transform(df_model[col])\n",
    "\n",
    "X = df_model.drop('tip', axis=1)\n",
    "y = df_model['tip']\n",
    "\n",
    "model = RandomForestClassifier()\n",
    "model.fit(X, y)\n",
    "feat_importances = pd.Series(model.feature_importances_, index=X.columns)\n",
    "\n",
    "feat_importances.sort_values().plot(kind='barh', figsize=(8,6))\n",
    "plt.title(\"Feature Importance (Random Forest)\")\n",
    "plt.show()\n"
   ]
  }
 ],
 "metadata": {},
 "nbformat": 4,
 "nbformat_minor": 5
}
