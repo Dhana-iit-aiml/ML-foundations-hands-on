{
 "cells": [
  {
   "cell_type": "code",
   "execution_count": null,
   "id": "1e456328",
   "metadata": {},
   "outputs": [
    {
     "name": "stdout",
     "output_type": "stream",
     "text": [
      "<class 'pandas.core.frame.DataFrame'>\n",
      "Index(['sepal_length', 'sepal_width', 'petal_length', 'petal_width',\n",
      "       'species'],\n",
      "      dtype='object')\n",
      "     petal_length    species\n",
      "0             1.4     setosa\n",
      "1             1.4     setosa\n",
      "2             1.3     setosa\n",
      "3             1.5     setosa\n",
      "4             1.4     setosa\n",
      "..            ...        ...\n",
      "145           5.2  virginica\n",
      "146           5.0  virginica\n",
      "147           5.2  virginica\n",
      "148           5.4  virginica\n",
      "149           5.1  virginica\n",
      "\n",
      "[150 rows x 2 columns]\n"
     ]
    }
   ],
   "source": [
    "import pandas as pd\n",
    "\n",
    "iris_csv_df = pd.read_csv('https://raw.githubusercontent.com/mwaskom/seaborn-data/master/iris.csv')\n",
    "print(type(iris_csv_df))\n",
    "\n",
    "print(iris_csv_df.columns)\n",
    "#['sepal_length', 'sepal_width', 'petal_length', 'petal_width','species']\n",
    "iris_csv_df.head()\n",
    "iris_csv_df.tail()\n",
    "# Describe -  you get summary stats - mean, count, std, min, max, 25%, 50%, 75%\n",
    "iris_csv_df.describe() \n",
    "#print(iris_csv_df.info())\n",
    "\n",
    "#partial selection\n",
    "print(iris_csv_df[['petal_length','species']])\n",
    "\n"
   ]
  },
  {
   "cell_type": "code",
   "execution_count": null,
   "id": "5cec6acc",
   "metadata": {},
   "outputs": [],
   "source": [
    "# iloc - rowwise selection\n",
    "print(iris_csv_df.head(1))\n",
    "#print(iris_csv_df.head(1))\n",
    "print(iris_csv_df.iloc[0]) # = iris_csv_df.head(1), first rec\n",
    "#follows index 0 to 3 row/records\n",
    "print(iris_csv_df.iloc[0:3]) \n",
    "#print(iris_csv_df.iloc[0:3]['species']) \n"
   ]
  },
  {
   "cell_type": "code",
   "execution_count": null,
   "id": "39234292",
   "metadata": {},
   "outputs": [],
   "source": [
    "#ilov vs loc \n",
    "#loc - label based indexing/position - select rows based on labels\n",
    "\n",
    "import pandas as pd\n",
    "\n",
    "df = pd.DataFrame({\n",
    "    'Name': ['Alice', 'Bob', 'Charlie'],\n",
    "    'Age': [25, 30, 35]\n",
    "}, index=['a', 'b', 'c'])\n",
    "\n",
    "#print(df.iloc[0])       # Row at position 0\n",
    "#print(df.loc['a'])   \n",
    "print(\"iloc : index....\")\n",
    "print(df.iloc[0])   \n",
    "print(\"loc : label...\")\n",
    "print(df.loc['a' : 'b'])   \n"
   ]
  },
  {
   "cell_type": "code",
   "execution_count": null,
   "id": "adf0e4ae",
   "metadata": {},
   "outputs": [
    {
     "name": "stdout",
     "output_type": "stream",
     "text": [
      "    sepal_length  sepal_width  petal_length  petal_width species  sepal_ratio\n",
      "15           5.7          4.4           1.5          0.4  setosa     1.295455\n",
      "33           5.5          4.2           1.4          0.2  setosa     1.309524\n",
      "   sepal_length  sepal_width  petal_length  petal_width species  sepal_ratio\n",
      "0           5.1          3.5           1.4          0.2  setosa     1.457143\n",
      "1           4.9          3.0           1.4          0.2  setosa     1.633333\n",
      "2           4.7          3.2           1.3          0.2  setosa     1.468750\n",
      "3           4.6          3.1           1.5          0.2  setosa     1.483871\n",
      "4           5.0          3.6           1.4          0.2  setosa     1.388889\n"
     ]
    }
   ],
   "source": [
    "#Conditional filtering\n",
    "\n",
    "# Apply condition using np.where()\n",
    "#df['Result'] = np.where(df['Score'] >= 50, 'Passed', 'Failed')\n",
    "\n",
    "print(iris_csv_df[ (iris_csv_df['sepal_length']> 5) &  (iris_csv_df['species']=='setosa') & ( iris_csv_df['sepal_width'] >= 4.2)])\n",
    "\n",
    "#Column Operations - adding new columns\n",
    "iris_csv_df['sepal_ratio'] = iris_csv_df['sepal_length']/iris_csv_df['sepal_width']\n",
    "#check sepal_ratio is added\n",
    "print(iris_csv_df.head())"
   ]
  },
  {
   "cell_type": "code",
   "execution_count": null,
   "id": "579acef3",
   "metadata": {},
   "outputs": [],
   "source": []
  }
 ],
 "metadata": {
  "kernelspec": {
   "display_name": "Python 3",
   "language": "python",
   "name": "python3"
  },
  "language_info": {
   "codemirror_mode": {
    "name": "ipython",
    "version": 3
   },
   "file_extension": ".py",
   "mimetype": "text/x-python",
   "name": "python",
   "nbconvert_exporter": "python",
   "pygments_lexer": "ipython3",
   "version": "3.13.2"
  }
 },
 "nbformat": 4,
 "nbformat_minor": 5
}
