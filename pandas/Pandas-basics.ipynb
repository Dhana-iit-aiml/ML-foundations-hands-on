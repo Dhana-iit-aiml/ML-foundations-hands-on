{
 "cells": [
  {
   "cell_type": "markdown",
   "id": "f6b90755",
   "metadata": {},
   "source": [
    "What is a series\n",
    "A series - 1-dimensional labeled array\n",
    "Can hold any datatype - integers, floats, strings, python objects\n",
    "Ex: single column of excel sheet\n"
   ]
  },
  {
   "cell_type": "markdown",
   "id": "c8dda240",
   "metadata": {},
   "source": [
    "![image.png](attachment:image.png)"
   ]
  }
 ],
 "metadata": {
  "language_info": {
   "name": "python"
  }
 },
 "nbformat": 4,
 "nbformat_minor": 5
}
